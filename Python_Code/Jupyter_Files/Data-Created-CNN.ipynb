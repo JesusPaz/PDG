{
 "cells": [
  {
   "cell_type": "code",
   "execution_count": 3,
   "metadata": {},
   "outputs": [],
   "source": [
    "#import librosa\n",
    "#import librosa.display\n",
    "import numpy as np\n",
    "import matplotlib.pyplot as plt\n",
    "import pylab\n",
    "from os import scandir\n",
    "import contextlib\n",
    "import random\n",
    "import wave\n",
    "import pandas as pd\n",
    "import seaborn as sns\n",
    "from sklearn.model_selection import train_test_split \n",
    "from sklearn.preprocessing import MinMaxScaler"
   ]
  },
  {
   "cell_type": "code",
   "execution_count": 4,
   "metadata": {},
   "outputs": [
    {
     "ename": "ModuleNotFoundError",
     "evalue": "No module named 'tensorflow'",
     "output_type": "error",
     "traceback": [
      "\u001b[1;31m---------------------------------------------------------------------------\u001b[0m",
      "\u001b[1;31mModuleNotFoundError\u001b[0m                       Traceback (most recent call last)",
      "\u001b[1;32m<ipython-input-4-202e2e1a3257>\u001b[0m in \u001b[0;36m<module>\u001b[1;34m\u001b[0m\n\u001b[1;32m----> 1\u001b[1;33m \u001b[1;32mfrom\u001b[0m \u001b[0mtensorflow\u001b[0m\u001b[1;33m.\u001b[0m\u001b[0mmodels\u001b[0m \u001b[1;32mimport\u001b[0m \u001b[0mSequential\u001b[0m\u001b[1;33m\u001b[0m\u001b[1;33m\u001b[0m\u001b[0m\n\u001b[0m\u001b[0;32m      2\u001b[0m \u001b[1;32mfrom\u001b[0m \u001b[0mtensorflow\u001b[0m\u001b[1;33m.\u001b[0m\u001b[0mlayers\u001b[0m \u001b[1;32mimport\u001b[0m \u001b[0mDense\u001b[0m\u001b[1;33m\u001b[0m\u001b[1;33m\u001b[0m\u001b[0m\n\u001b[0;32m      3\u001b[0m \u001b[1;32mfrom\u001b[0m \u001b[0mtensorflow\u001b[0m\u001b[1;33m.\u001b[0m\u001b[0mlayers\u001b[0m \u001b[1;32mimport\u001b[0m \u001b[0mLSTM\u001b[0m\u001b[1;33m\u001b[0m\u001b[1;33m\u001b[0m\u001b[0m\n\u001b[0;32m      4\u001b[0m \u001b[1;32mfrom\u001b[0m \u001b[0mtensorflow\u001b[0m\u001b[1;33m.\u001b[0m\u001b[0mlayers\u001b[0m \u001b[1;32mimport\u001b[0m \u001b[0mFlatten\u001b[0m\u001b[1;33m\u001b[0m\u001b[1;33m\u001b[0m\u001b[0m\n\u001b[0;32m      5\u001b[0m \u001b[1;32mfrom\u001b[0m \u001b[0mtensorflow\u001b[0m\u001b[1;33m.\u001b[0m\u001b[0mlayers\u001b[0m \u001b[1;32mimport\u001b[0m \u001b[0mDropout\u001b[0m\u001b[1;33m\u001b[0m\u001b[1;33m\u001b[0m\u001b[0m\n",
      "\u001b[1;31mModuleNotFoundError\u001b[0m: No module named 'tensorflow'"
     ]
    }
   ],
   "source": [
    "from tensorflow.models import Sequential\n",
    "from tensorflow.layers import Dense\n",
    "from tensorflow.layers import LSTM\n",
    "from tensorflow.layers import Flatten\n",
    "from tensorflow.layers import Dropout\n",
    "\n",
    "from tensorflow.layers.embeddings import Embedding\n",
    "from tensorflow.preprocessing import sequence\n",
    "\n",
    "from tensorflow.layers.convolutional import Conv1D\n",
    "from tensorflow.layers.convolutional import MaxPooling1D\n",
    "# fix random seed for reproducibility\n",
    "np.random.seed(7)"
   ]
  },
  {
   "cell_type": "markdown",
   "metadata": {},
   "source": [
    "### Create all the matrix spectrograms"
   ]
  },
  {
   "cell_type": "code",
   "execution_count": 3,
   "metadata": {},
   "outputs": [],
   "source": [
    "def ls(path): \n",
    "    return [obj.name for obj in scandir(path) if obj.is_file()]"
   ]
  },
  {
   "cell_type": "code",
   "execution_count": 4,
   "metadata": {},
   "outputs": [],
   "source": [
    "# Return the index of the columns that corresponds to the value in the beat \n",
    "# Beat in miliseconds\n",
    "def getColumnIndexFromTime(beat, ColumnDuration):\n",
    "    return int(beat/ColumnDuration)"
   ]
  },
  {
   "cell_type": "code",
   "execution_count": 15,
   "metadata": {},
   "outputs": [],
   "source": [
    "goodSongs = [\"313\", \"324\", \"339\", \"346\", \"347\", \"350\", \"362\", \"380\", \"382\", \"391\", \"394\", \"398\", \"404\", \"406\", \"410\", \"418\"\n",
    "             , \"438\", \"442\", \"445\", \"453\", \"467\", \"470\", \"479\", \"449\", \"506\", \"511\", \"519\", \"526\", \"528\", \"539\", \"558\", \n",
    "             \"585\", \"599\", \"603\", \"613\", \"629\", \"632\", \"634\", \"637\", \"639\", \"671\", \"674\", \"699\", \"708\", \"716\", \"719\", \"721\"]"
   ]
  },
  {
   "cell_type": "code",
   "execution_count": 6,
   "metadata": {},
   "outputs": [
    {
     "data": {
      "text/plain": [
       "47"
      ]
     },
     "execution_count": 6,
     "metadata": {},
     "output_type": "execute_result"
    }
   ],
   "source": [
    "len(goodSongs)"
   ]
  },
  {
   "cell_type": "code",
   "execution_count": 9,
   "metadata": {
    "scrolled": true
   },
   "outputs": [
    {
     "name": "stdout",
     "output_type": "stream",
     "text": [
      "313 - 40 - 23127  -  10.6847 ms  -  247.10497916666668\n",
      "324 - 40 - 26612  -  10.8024 ms  -  287.4729791666667\n",
      "339 - 40 - 27048  -  10.8767 ms  -  294.19297916666665\n",
      "346 - 40 - 26862  -  10.8439 ms  -  291.28897916666665\n",
      "347 - 40 - 14033  -  10.8704 ms  -  152.54497916666668\n",
      "350 - 40 - 16813  -  10.8374 ms  -  182.20897916666667\n",
      "362 - 40 - 15016  -  10.7582 ms  -  161.54497916666668\n",
      "380 - 40 - 15788  -  10.9056 ms  -  172.17697916666665\n",
      "382 - 40 - 22618  -  10.8063 ms  -  244.41697916666666\n",
      "391 - 40 - 32461  -  10.7686 ms  -  349.56097916666664\n",
      "394 - 40 - 15804  -  11.0039 ms  -  173.90497916666666\n",
      "398 - 40 - 31846  -  10.8455 ms  -  345.38497916666665\n",
      "404 - 40 - 25757  -  10.7827 ms  -  277.72897916666665\n",
      "406 - 40 - 20636  -  10.8452 ms  -  223.80097916666668\n",
      "410 - 40 - 26199  -  10.7931 ms  -  282.76897916666667\n",
      "418 - 40 - 26767  -  10.7909 ms  -  288.84097916666667\n",
      "438 - 40 - 38228  -  10.6779 ms  -  408.19297916666665\n",
      "442 - 40 - 16345  -  10.8746 ms  -  177.74497916666667\n",
      "445 - 40 - 22520  -  10.8331 ms  -  243.96097916666668\n",
      "453 - 40 - 29102  -  10.7432 ms  -  312.64897916666666\n",
      "467 - 40 - 28109  -  10.7923 ms  -  303.36097916666665\n",
      "470 - 40 - 21753  -  10.9139 ms  -  237.40897916666665\n",
      "479 - 40 - 20067  -  10.9458 ms  -  219.64897916666666\n",
      "506 - 40 - 19776  -  10.693 ms  -  211.46497916666667\n",
      "511 - 40 - 16671  -  10.947 ms  -  182.49697916666668\n",
      "519 - 40 - 31540  -  10.8982 ms  -  343.72897916666665\n",
      "526 - 40 - 31619  -  10.7374 ms  -  339.50497916666666\n",
      "528 - 40 - 21618  -  10.8144 ms  -  233.78497916666666\n",
      "539 - 40 - 15936  -  10.7952 ms  -  172.03297916666668\n",
      "558 - 40 - 19580  -  10.8797 ms  -  213.02497916666667\n",
      "585 - 40 - 30189  -  10.668 ms  -  322.0569791666667\n",
      "599 - 40 - 14768  -  10.9437 ms  -  161.61697916666665\n",
      "603 - 40 - 18856  -  10.6674 ms  -  201.14497916666667\n",
      "613 - 40 - 24743  -  10.6688 ms  -  263.9769791666667\n",
      "629 - 40 - 28390  -  10.7582 ms  -  305.4249791666667\n",
      "632 - 40 - 16685  -  10.8616 ms  -  181.22497916666666\n",
      "634 - 40 - 18590  -  11.0202 ms  -  204.86497916666667\n",
      "637 - 40 - 19999  -  10.755 ms  -  215.08897916666666\n",
      "639 - 40 - 28747  -  10.7348 ms  -  308.5929791666667\n",
      "671 - 40 - 24464  -  10.8679 ms  -  265.87297916666665\n",
      "674 - 40 - 38510  -  10.7249 ms  -  413.01697916666666\n",
      "699 - 40 - 19879  -  10.9177 ms  -  217.03297916666668\n",
      "708 - 40 - 21887  -  10.8207 ms  -  236.83297916666666\n",
      "716 - 40 - 18341  -  10.8034 ms  -  198.14497916666667\n",
      "719 - 40 - 12721  -  11.1973 ms  -  142.44097916666666\n",
      "721 - 40 - 23354  -  10.7679 ms  -  251.47297916666668\n"
     ]
    }
   ],
   "source": [
    "path = '../../../PD/cancionesytags'\n",
    "songs = ls(path)\n",
    "msg = \"\"\n",
    "specs_dir = {}\n",
    "#Frame rate\n",
    "sr = 48000\n",
    "#print(\"File - mels - #Columns - ColumnDuration - SongDuration\")\n",
    "\n",
    "colsDuration = {}\n",
    "for song in songs:\n",
    "    data = song.split(\".\")\n",
    "    if data[1] == \"wav\" and (data[0] in goodSongs):\n",
    "        file_path = path+\"/\"+song\n",
    "        \n",
    "        # Get the duration of a song\n",
    "        with contextlib.closing(wave.open(file_path,'r')) as f:\n",
    "            frames = f.getnframes()\n",
    "            duration = frames / float(sr)\n",
    "            \n",
    "        y, sr = librosa.load(file_path, sr=48000, duration=duration)\n",
    "        whale_song, _ = librosa.effects.trim(y)\n",
    "\n",
    "        n_mels = 40\n",
    "        hop_length = 512\n",
    "        n_fft = 2048\n",
    "\n",
    "        S = librosa.feature.melspectrogram(whale_song, sr=sr, n_fft=n_fft, \n",
    "                                           hop_length=hop_length, \n",
    "                                           n_mels=n_mels)\n",
    "        S_DB = librosa.power_to_db(S, ref=np.max)\n",
    "        \n",
    "        specs_dir[data[0]] = S_DB\n",
    "        np.savetxt(\"Data/Spectrograms/Matrix/\"+data[0]+\".csv\", S_DB, delimiter=\",\")\n",
    "\n",
    "        oneSecLength = len(S_DB[0])/duration\n",
    "        colsDuration[data[0]] = (1/oneSecLength)\n",
    "        print(data[0] + \" - \" + str(len(S_DB)) + \" - \" + str(len(S_DB[0])) + \"  -  \" + str(round((1/oneSecLength)*1000, 4))+ \" ms  -  \"+str(duration ))"
   ]
  },
  {
   "cell_type": "code",
   "execution_count": 10,
   "metadata": {},
   "outputs": [],
   "source": [
    "def getListBeats(song, columns, beats):\n",
    "    beatsList = [0] * columns\n",
    "    badBeats = 0\n",
    "    for beat in range(len(beats)):\n",
    "        col = getColumnIndexFromTime(beat, colsDuration[song])\n",
    "        if col > columns:\n",
    "            badBeats+=1\n",
    "        else:\n",
    "            beatsList[col] = 1\n",
    "    \n",
    "    print(song+\" - Bad beats: \"+str(badBeats))\n",
    "    return beatsList"
   ]
  },
  {
   "cell_type": "code",
   "execution_count": 11,
   "metadata": {},
   "outputs": [],
   "source": [
    "def loadAllBeats():\n",
    "    path = 'Data/Processed_Songs'\n",
    "    songs = ls(path)\n",
    "    beatsList = {}\n",
    "    \n",
    "    for song in songs:\n",
    "        totalPath = path +\"/\"+song\n",
    "        \n",
    "        f = open(totalPath, \"r\")\n",
    "        beats = []\n",
    "        while(True):\n",
    "            line = f.readline()\n",
    "            if not line:\n",
    "                break\n",
    "            data = line.split(\",\")\n",
    "            beat = int(data[0])/1000\n",
    "            beats.append(beat)\n",
    "        \n",
    "        aux = song.split(\".\")\n",
    "        beatsList[aux[0]] = beats\n",
    "        f.close()\n",
    "        \n",
    "    return beatsList"
   ]
  },
  {
   "cell_type": "code",
   "execution_count": 12,
   "metadata": {
    "scrolled": true
   },
   "outputs": [
    {
     "name": "stdout",
     "output_type": "stream",
     "text": [
      "313 - Bad beats: 0\n",
      "324 - Bad beats: 110\n",
      "339 - Bad beats: 307\n",
      "346 - Bad beats: 309\n",
      "347 - Bad beats: 100\n",
      "350 - Bad beats: 84\n",
      "362 - Bad beats: 65\n",
      "380 - Bad beats: 23\n",
      "382 - Bad beats: 174\n",
      "391 - Bad beats: 131\n",
      "394 - Bad beats: 63\n",
      "398 - Bad beats: 126\n",
      "404 - Bad beats: 65\n",
      "406 - Bad beats: 84\n",
      "410 - Bad beats: 107\n",
      "418 - Bad beats: 107\n",
      "438 - Bad beats: 235\n",
      "442 - Bad beats: 114\n",
      "445 - Bad beats: 9\n",
      "453 - Bad beats: 108\n",
      "467 - Bad beats: 79\n",
      "470 - Bad beats: 112\n",
      "479 - Bad beats: 28\n",
      "506 - Bad beats: 182\n",
      "511 - Bad beats: 82\n",
      "519 - Bad beats: 153\n",
      "526 - Bad beats: 216\n",
      "528 - Bad beats: 97\n",
      "539 - Bad beats: 140\n",
      "558 - Bad beats: 180\n",
      "585 - Bad beats: 135\n",
      "599 - Bad beats: 107\n",
      "603 - Bad beats: 206\n",
      "613 - Bad beats: 108\n",
      "629 - Bad beats: 139\n",
      "632 - Bad beats: 137\n",
      "634 - Bad beats: 69\n",
      "637 - Bad beats: 117\n",
      "639 - Bad beats: 46\n",
      "671 - Bad beats: 115\n",
      "674 - Bad beats: 45\n",
      "699 - Bad beats: 117\n",
      "708 - Bad beats: 96\n",
      "716 - Bad beats: 151\n",
      "719 - Bad beats: 95\n",
      "721 - Bad beats: 136\n"
     ]
    }
   ],
   "source": [
    "df =  pd.DataFrame()\n",
    "beats = loadAllBeats()\n",
    "for song in specs_dir:\n",
    "    matrix = specs_dir[song]\n",
    "    matrix = matrix.transpose()\n",
    "    aux = pd.DataFrame(matrix)\n",
    "    col = [x for x in range(len(matrix))]\n",
    "    aux['Song'] = song \n",
    "    aux['ColumnOrder'] = col\n",
    "    aux[\"isBeat\"] = getListBeats(song, len(matrix), beats[song])\n",
    "    names = ['Song','ColumnOrder', 'isBeat']\n",
    "    index = [x for x in range(40)]\n",
    "    names += index\n",
    "    aux = aux[names]\n",
    "    aux[['isBeat']] = aux[['isBeat']].astype(str)\n",
    "    df = pd.concat([df, aux])"
   ]
  },
  {
   "cell_type": "code",
   "execution_count": 26,
   "metadata": {},
   "outputs": [],
   "source": [
    "# 3 minutos por cancion\n",
    "\n",
    "numTotalCols = 23\n",
    "numImportantCols = 5\n",
    "numMels = 40\n",
    "\n",
    "#goodSongs = [\"313\", \"324\"]\n",
    "\n",
    "totalLen = 0\n",
    "# find the total size of the matrix\n",
    "for x in goodSongs:\n",
    "    totalLen += (df[df.Song==x].shape[0])"
   ]
  },
  {
   "cell_type": "code",
   "execution_count": 27,
   "metadata": {
    "scrolled": true
   },
   "outputs": [
    {
     "name": "stdout",
     "output_type": "stream",
     "text": [
      "1060374\n"
     ]
    }
   ],
   "source": [
    "print(totalLen)\n",
    "# total matrices 1060374\n",
    "# tamaño actual  1060293"
   ]
  },
  {
   "cell_type": "code",
   "execution_count": 28,
   "metadata": {
    "scrolled": false
   },
   "outputs": [
    {
     "name": "stdout",
     "output_type": "stream",
     "text": [
      "313\n",
      "2.1788538760852303 %\n",
      "324\n",
      "4.6863653767444315 %\n",
      "339\n",
      "7.234994445356073 %\n",
      "346\n",
      "9.766082533143965 %\n",
      "347\n",
      "11.087314475835884 %\n",
      "350\n",
      "12.670718067398862 %\n",
      "362\n",
      "14.084653150680799 %\n",
      "380\n",
      "15.571392735016135 %\n",
      "382\n",
      "17.70224467970735 %\n",
      "391\n",
      "20.761354012829436 %\n",
      "394\n",
      "22.249602498741012 %\n",
      "398\n",
      "25.250713427526517 %\n",
      "404\n",
      "27.677593000205587 %\n",
      "406\n",
      "29.62152976214053 %\n",
      "410\n",
      "32.09009274086313 %\n",
      "418\n",
      "34.61222172554212 %\n",
      "438\n",
      "38.21519577054888 %\n",
      "442\n",
      "39.75446399100694 %\n",
      "445\n",
      "41.876073913543706 %\n",
      "453\n",
      "44.61840822200469 %\n",
      "467\n",
      "47.2670963263905 %\n",
      "470\n",
      "49.316373279616435 %\n",
      "479\n",
      "51.20664972924648 %\n",
      "449\n",
      "51.20664972924648 %\n",
      "506\n",
      "53.06948303145871 %\n",
      "511\n",
      "54.63949512153259 %\n",
      "519\n",
      "57.61174830767257 %\n",
      "526\n",
      "60.59145169534522 %\n",
      "528\n",
      "62.62799729152167 %\n",
      "539\n",
      "64.12869421543719 %\n",
      "558\n",
      "65.97304347334054 %\n",
      "585\n",
      "68.81788878263707 %\n",
      "599\n",
      "70.20843589148734 %\n",
      "603\n",
      "71.984507353066 %\n",
      "613\n",
      "74.3157602883511 %\n",
      "629\n",
      "76.99094847666956 %\n",
      "632\n",
      "78.56228085562263 %\n",
      "634\n",
      "80.31326682849637 %\n",
      "637\n",
      "82.1971304464274 %\n",
      "639\n",
      "84.90598600116563 %\n",
      "671\n",
      "87.21092746521511 %\n",
      "674\n",
      "90.84049590050303 %\n",
      "699\n",
      "92.71304275661228 %\n",
      "708\n",
      "94.77495676053921 %\n",
      "716\n",
      "96.50246045263276 %\n",
      "719\n",
      "97.69996246607329 %\n",
      "721\n",
      "99.90022388327138 %\n"
     ]
    }
   ],
   "source": [
    "finalData = np.zeros((totalLen, numTotalCols, numMels), np.float32)\n",
    "beatValues = np.zeros(totalLen, np.int16)\n",
    "\n",
    "totalCont = 0\n",
    "\n",
    "for song in goodSongs:\n",
    "    dfAux = df[df.Song==song]\n",
    "    maxLen = dfAux.shape[0]\n",
    "    #maxLen = 500\n",
    "    for indx in range(maxLen- numTotalCols):\n",
    "        isBeat = 0\n",
    "        for y in range(numTotalCols): \n",
    "            dataInRow = df.iloc[indx+y]\n",
    "            if (y < 5) & (dataInRow[\"isBeat\"]==\"1\"):\n",
    "                isBeat = 1\n",
    "            mels = dataInRow[3:].tolist()\n",
    "            for z in range(numMels):\n",
    "                finalData[totalCont][y][z] = mels[z]\n",
    "\n",
    "        beatValues[totalCont] = isBeat\n",
    "        totalCont+=1\n",
    "\n",
    "    print(song)\n",
    "    print(str((totalCont/totalLen)*100)+\" %\")"
   ]
  },
  {
   "cell_type": "code",
   "execution_count": 29,
   "metadata": {},
   "outputs": [
    {
     "data": {
      "text/plain": [
       "1059316"
      ]
     },
     "execution_count": 29,
     "metadata": {},
     "output_type": "execute_result"
    }
   ],
   "source": [
    "totalCont"
   ]
  },
  {
   "cell_type": "code",
   "execution_count": 30,
   "metadata": {},
   "outputs": [
    {
     "data": {
      "text/plain": [
       "1060374"
      ]
     },
     "execution_count": 30,
     "metadata": {},
     "output_type": "execute_result"
    }
   ],
   "source": [
    "totalLen"
   ]
  },
  {
   "cell_type": "code",
   "execution_count": 31,
   "metadata": {},
   "outputs": [
    {
     "data": {
      "text/plain": [
       "1058"
      ]
     },
     "execution_count": 31,
     "metadata": {},
     "output_type": "execute_result"
    }
   ],
   "source": [
    "totalLen-totalCont"
   ]
  },
  {
   "cell_type": "markdown",
   "metadata": {},
   "source": [
    "# Write data"
   ]
  },
  {
   "cell_type": "code",
   "execution_count": 92,
   "metadata": {},
   "outputs": [],
   "source": [
    "#import pickle\n",
    "#filename = 'Data/Spectrograms/FinalData/musicData.p'\n",
    "#with open(filename, \"wb\") as f:\n",
    "#    pickle.dump(finalData, f)\n",
    "#    f.close()"
   ]
  },
  {
   "cell_type": "code",
   "execution_count": null,
   "metadata": {},
   "outputs": [],
   "source": [
    "#filename = 'Data/Spectrograms/FinalData/beatsData.p'\n",
    "#with open(filename, \"wb\") as f:\n",
    "#    pickle.dump(beatValues, f)\n",
    "#    f.close()"
   ]
  },
  {
   "cell_type": "markdown",
   "metadata": {},
   "source": [
    "# Load data"
   ]
  },
  {
   "cell_type": "code",
   "execution_count": 3,
   "metadata": {},
   "outputs": [],
   "source": [
    "import pickle\n",
    "import os\n",
    "filename = 'Data/Spectrograms/FinalData/musicData.p'\n",
    "\n",
    "if os.path.getsize(filename) > 0:\n",
    "    with open(filename, \"rb\") as f:\n",
    "        finalData = pickle.load(f)\n",
    "        f.close()"
   ]
  },
  {
   "cell_type": "code",
   "execution_count": 32,
   "metadata": {},
   "outputs": [],
   "source": [
    "beatValues = beatValues.astype(str)"
   ]
  },
  {
   "cell_type": "code",
   "execution_count": 13,
   "metadata": {},
   "outputs": [
    {
     "data": {
      "text/plain": [
       "(1059293, 23, 40)"
      ]
     },
     "execution_count": 13,
     "metadata": {},
     "output_type": "execute_result"
    }
   ],
   "source": [
    "finalData.shape"
   ]
  },
  {
   "cell_type": "code",
   "execution_count": 6,
   "metadata": {},
   "outputs": [],
   "source": [
    "beatValues = np.loadtxt(\"Data/Spectrograms/FinalData/beatData.csv\", delimiter=\",\", dtype= np.str)"
   ]
  },
  {
   "cell_type": "code",
   "execution_count": 14,
   "metadata": {},
   "outputs": [
    {
     "data": {
      "text/plain": [
       "1059293"
      ]
     },
     "execution_count": 14,
     "metadata": {},
     "output_type": "execute_result"
    }
   ],
   "source": [
    "beatValues.shape[0]"
   ]
  },
  {
   "cell_type": "markdown",
   "metadata": {},
   "source": [
    "# Reshape"
   ]
  },
  {
   "cell_type": "code",
   "execution_count": 12,
   "metadata": {},
   "outputs": [],
   "source": [
    "# finalData = finalData[:totalCont][:][:]"
   ]
  },
  {
   "cell_type": "code",
   "execution_count": 66,
   "metadata": {},
   "outputs": [],
   "source": [
    "#beatValues = beatValues[:totalCont]"
   ]
  },
  {
   "cell_type": "markdown",
   "metadata": {},
   "source": [
    "## Plots"
   ]
  },
  {
   "cell_type": "code",
   "execution_count": 15,
   "metadata": {},
   "outputs": [
    {
     "data": {
      "image/png": "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\n",
      "text/plain": [
       "<Figure size 432x288 with 1 Axes>"
      ]
     },
     "metadata": {
      "needs_background": "light"
     },
     "output_type": "display_data"
    }
   ],
   "source": [
    "auxBeats = pd.DataFrame(beatValues)\n",
    "fig, ax = plt.subplots()\n",
    "sns.countplot(x=0, data=auxBeats)\n",
    "plt.title(\"isBeat\")\n",
    "plt.show()"
   ]
  },
  {
   "cell_type": "code",
   "execution_count": 16,
   "metadata": {},
   "outputs": [
    {
     "name": "stdout",
     "output_type": "stream",
     "text": [
      "Baseline :95.23399097322459 %\n"
     ]
    }
   ],
   "source": [
    "auxBeats = pd.DataFrame(beatValues)\n",
    "zero = auxBeats[auxBeats[0]==\"0\"].shape[0]\n",
    "one = auxBeats[auxBeats[0]==\"1\"].shape[0]\n",
    "print(\"Baseline :\"+ str((zero/(one+zero))*100 )+\" %\")"
   ]
  },
  {
   "cell_type": "markdown",
   "metadata": {},
   "source": [
    "## Split the data"
   ]
  },
  {
   "cell_type": "code",
   "execution_count": 20,
   "metadata": {},
   "outputs": [],
   "source": [
    "# X_train, X_test, y_train, y_test = train_test_split(x, y, test_size=0.4, random_state=12345, stratify=y)\n",
    "splitPoint = int(finalData.shape[0]*0.75)\n",
    "X_train = finalData[:splitPoint][:][:]\n",
    "X_test = finalData[splitPoint:][:][:]\n",
    "y_train = beatValues[:splitPoint]\n",
    "y_test = beatValues[splitPoint:]\n",
    "\n",
    "#X_test, y_test = np.array(X_test), np.array(y_test)\n"
   ]
  },
  {
   "cell_type": "markdown",
   "metadata": {},
   "source": [
    "## CNN MODEL  - CORRER ESTE"
   ]
  },
  {
   "cell_type": "code",
<<<<<<< HEAD
   "execution_count": 2,
   "metadata": {},
   "outputs": [
    {
     "ename": "NameError",
     "evalue": "name 'Sequential' is not defined",
     "output_type": "error",
     "traceback": [
      "\u001b[1;31m---------------------------------------------------------------------------\u001b[0m",
      "\u001b[1;31mNameError\u001b[0m                                 Traceback (most recent call last)",
      "\u001b[1;32m<ipython-input-2-32da114d52e3>\u001b[0m in \u001b[0;36m<module>\u001b[1;34m\u001b[0m\n\u001b[1;32m----> 1\u001b[1;33m \u001b[0mmodel\u001b[0m \u001b[1;33m=\u001b[0m \u001b[0mSequential\u001b[0m\u001b[1;33m(\u001b[0m\u001b[1;33m)\u001b[0m\u001b[1;33m\u001b[0m\u001b[1;33m\u001b[0m\u001b[0m\n\u001b[0m\u001b[0;32m      2\u001b[0m \u001b[1;33m\u001b[0m\u001b[0m\n\u001b[0;32m      3\u001b[0m \u001b[0mmodel\u001b[0m\u001b[1;33m.\u001b[0m\u001b[0madd\u001b[0m\u001b[1;33m(\u001b[0m\u001b[0mConv1D\u001b[0m\u001b[1;33m(\u001b[0m\u001b[1;36m12\u001b[0m\u001b[1;33m,\u001b[0m \u001b[1;33m(\u001b[0m\u001b[1;36m3\u001b[0m\u001b[1;33m)\u001b[0m\u001b[1;33m,\u001b[0m \u001b[0mactivation\u001b[0m\u001b[1;33m=\u001b[0m\u001b[1;34m'relu'\u001b[0m\u001b[1;33m,\u001b[0m \u001b[0minput_shape\u001b[0m\u001b[1;33m=\u001b[0m\u001b[1;33m(\u001b[0m\u001b[1;36m23\u001b[0m\u001b[1;33m,\u001b[0m \u001b[1;36m40\u001b[0m\u001b[1;33m)\u001b[0m\u001b[1;33m)\u001b[0m\u001b[1;33m)\u001b[0m\u001b[1;33m\u001b[0m\u001b[1;33m\u001b[0m\u001b[0m\n\u001b[0;32m      4\u001b[0m \u001b[0mmodel\u001b[0m\u001b[1;33m.\u001b[0m\u001b[0madd\u001b[0m\u001b[1;33m(\u001b[0m\u001b[0mConv1D\u001b[0m\u001b[1;33m(\u001b[0m\u001b[1;36m24\u001b[0m\u001b[1;33m,\u001b[0m \u001b[1;36m3\u001b[0m\u001b[1;33m,\u001b[0m \u001b[0mactivation\u001b[0m\u001b[1;33m=\u001b[0m\u001b[1;34m'relu'\u001b[0m\u001b[1;33m)\u001b[0m\u001b[1;33m)\u001b[0m\u001b[1;33m\u001b[0m\u001b[1;33m\u001b[0m\u001b[0m\n\u001b[0;32m      5\u001b[0m \u001b[0mmodel\u001b[0m\u001b[1;33m.\u001b[0m\u001b[0madd\u001b[0m\u001b[1;33m(\u001b[0m\u001b[0mConv1D\u001b[0m\u001b[1;33m(\u001b[0m\u001b[1;36m32\u001b[0m\u001b[1;33m,\u001b[0m \u001b[1;36m3\u001b[0m\u001b[1;33m,\u001b[0m \u001b[0mactivation\u001b[0m\u001b[1;33m=\u001b[0m\u001b[1;34m'relu'\u001b[0m\u001b[1;33m)\u001b[0m\u001b[1;33m)\u001b[0m\u001b[1;33m\u001b[0m\u001b[1;33m\u001b[0m\u001b[0m\n",
      "\u001b[1;31mNameError\u001b[0m: name 'Sequential' is not defined"
=======
   "execution_count": 23,
   "metadata": {},
   "outputs": [
    {
     "name": "stdout",
     "output_type": "stream",
     "text": [
      "Model: \"sequential_3\"\n",
      "_________________________________________________________________\n",
      "Layer (type)                 Output Shape              Param #   \n",
      "=================================================================\n",
      "conv1d_5 (Conv1D)            (None, 21, 12)            1452      \n",
      "_________________________________________________________________\n",
      "conv1d_6 (Conv1D)            (None, 19, 24)            888       \n",
      "_________________________________________________________________\n",
      "conv1d_7 (Conv1D)            (None, 17, 32)            2336      \n",
      "_________________________________________________________________\n",
      "flatten_3 (Flatten)          (None, 544)               0         \n",
      "_________________________________________________________________\n",
      "dense_5 (Dense)              (None, 16)                8720      \n",
      "_________________________________________________________________\n",
      "dropout_3 (Dropout)          (None, 16)                0         \n",
      "_________________________________________________________________\n",
      "dense_6 (Dense)              (None, 1)                 17        \n",
      "=================================================================\n",
      "Total params: 13,413\n",
      "Trainable params: 13,413\n",
      "Non-trainable params: 0\n",
      "_________________________________________________________________\n"
>>>>>>> 117511b136bdbc0ef6de1123d45acd88a5de4fb1
     ]
    }
   ],
   "source": [
    "model = Sequential()\n",
    "\n",
    "model.add(Conv1D(12, (3), activation='relu', input_shape=(23, 40)))\n",
    "model.add(Conv1D(24, 3, activation='relu'))\n",
    "model.add(Conv1D(32, 3, activation='relu'))\n",
    "model.add(Flatten())\n",
    "model.add(Dense(16, activation='relu'))\n",
    "model.add(Dropout(0.4))\n",
    "model.add(Dense(1, activation='sigmoid'))\n",
    "\n",
    "model.summary()"
   ]
  },
  {
   "cell_type": "code",
   "execution_count": 24,
   "metadata": {
    "scrolled": false
   },
   "outputs": [
    {
     "name": "stdout",
     "output_type": "stream",
     "text": [
      "Train on 794469 samples, validate on 264824 samples\n",
      "Epoch 1/250\n",
      "  6400/794469 [..............................] - ETA: 19:05 - loss: 1.3223 - acc: 0.8958"
     ]
    },
    {
     "ename": "KeyboardInterrupt",
     "evalue": "",
     "output_type": "error",
     "traceback": [
      "\u001b[1;31m---------------------------------------------------------------------------\u001b[0m",
      "\u001b[1;31mKeyboardInterrupt\u001b[0m                         Traceback (most recent call last)",
      "\u001b[1;32m<ipython-input-24-d17cb41cdac3>\u001b[0m in \u001b[0;36m<module>\u001b[1;34m\u001b[0m\n\u001b[0;32m      2\u001b[0m               \u001b[0mloss\u001b[0m\u001b[1;33m=\u001b[0m\u001b[1;34m'binary_crossentropy'\u001b[0m\u001b[1;33m,\u001b[0m\u001b[1;33m\u001b[0m\u001b[1;33m\u001b[0m\u001b[0m\n\u001b[0;32m      3\u001b[0m               metrics=['acc'])\n\u001b[1;32m----> 4\u001b[1;33m \u001b[0mhistory\u001b[0m \u001b[1;33m=\u001b[0m \u001b[0mmodel\u001b[0m\u001b[1;33m.\u001b[0m\u001b[0mfit\u001b[0m\u001b[1;33m(\u001b[0m\u001b[0mX_train\u001b[0m\u001b[1;33m,\u001b[0m \u001b[0my_train\u001b[0m\u001b[1;33m,\u001b[0m \u001b[0mepochs\u001b[0m\u001b[1;33m=\u001b[0m\u001b[1;36m250\u001b[0m\u001b[1;33m,\u001b[0m \u001b[0mbatch_size\u001b[0m\u001b[1;33m=\u001b[0m\u001b[1;36m400\u001b[0m\u001b[1;33m,\u001b[0m \u001b[0mvalidation_data\u001b[0m\u001b[1;33m=\u001b[0m\u001b[1;33m(\u001b[0m\u001b[0mX_test\u001b[0m\u001b[1;33m,\u001b[0m \u001b[0my_test\u001b[0m\u001b[1;33m)\u001b[0m\u001b[1;33m)\u001b[0m\u001b[1;33m\u001b[0m\u001b[1;33m\u001b[0m\u001b[0m\n\u001b[0m",
      "\u001b[1;32m~\\Anaconda3\\envs\\Keras\\lib\\site-packages\\keras\\engine\\training.py\u001b[0m in \u001b[0;36mfit\u001b[1;34m(self, x, y, batch_size, epochs, verbose, callbacks, validation_split, validation_data, shuffle, class_weight, sample_weight, initial_epoch, steps_per_epoch, validation_steps, validation_freq, max_queue_size, workers, use_multiprocessing, **kwargs)\u001b[0m\n\u001b[0;32m   1237\u001b[0m                                         \u001b[0msteps_per_epoch\u001b[0m\u001b[1;33m=\u001b[0m\u001b[0msteps_per_epoch\u001b[0m\u001b[1;33m,\u001b[0m\u001b[1;33m\u001b[0m\u001b[1;33m\u001b[0m\u001b[0m\n\u001b[0;32m   1238\u001b[0m                                         \u001b[0mvalidation_steps\u001b[0m\u001b[1;33m=\u001b[0m\u001b[0mvalidation_steps\u001b[0m\u001b[1;33m,\u001b[0m\u001b[1;33m\u001b[0m\u001b[1;33m\u001b[0m\u001b[0m\n\u001b[1;32m-> 1239\u001b[1;33m                                         validation_freq=validation_freq)\n\u001b[0m\u001b[0;32m   1240\u001b[0m \u001b[1;33m\u001b[0m\u001b[0m\n\u001b[0;32m   1241\u001b[0m     def evaluate(self,\n",
      "\u001b[1;32m~\\Anaconda3\\envs\\Keras\\lib\\site-packages\\keras\\engine\\training_arrays.py\u001b[0m in \u001b[0;36mfit_loop\u001b[1;34m(model, fit_function, fit_inputs, out_labels, batch_size, epochs, verbose, callbacks, val_function, val_inputs, shuffle, initial_epoch, steps_per_epoch, validation_steps, validation_freq)\u001b[0m\n\u001b[0;32m    182\u001b[0m                         \u001b[1;31m# Do not slice the training phase flag.\u001b[0m\u001b[1;33m\u001b[0m\u001b[1;33m\u001b[0m\u001b[1;33m\u001b[0m\u001b[0m\n\u001b[0;32m    183\u001b[0m                         ins_batch = slice_arrays(\n\u001b[1;32m--> 184\u001b[1;33m                             fit_inputs[:-1], batch_ids) + [fit_inputs[-1]]\n\u001b[0m\u001b[0;32m    185\u001b[0m                     \u001b[1;32melse\u001b[0m\u001b[1;33m:\u001b[0m\u001b[1;33m\u001b[0m\u001b[1;33m\u001b[0m\u001b[0m\n\u001b[0;32m    186\u001b[0m                         \u001b[0mins_batch\u001b[0m \u001b[1;33m=\u001b[0m \u001b[0mslice_arrays\u001b[0m\u001b[1;33m(\u001b[0m\u001b[0mfit_inputs\u001b[0m\u001b[1;33m,\u001b[0m \u001b[0mbatch_ids\u001b[0m\u001b[1;33m)\u001b[0m\u001b[1;33m\u001b[0m\u001b[1;33m\u001b[0m\u001b[0m\n",
      "\u001b[1;32m~\\Anaconda3\\envs\\Keras\\lib\\site-packages\\keras\\utils\\generic_utils.py\u001b[0m in \u001b[0;36mslice_arrays\u001b[1;34m(arrays, start, stop)\u001b[0m\n\u001b[0;32m    553\u001b[0m             \u001b[1;32mif\u001b[0m \u001b[0mhasattr\u001b[0m\u001b[1;33m(\u001b[0m\u001b[0mstart\u001b[0m\u001b[1;33m,\u001b[0m \u001b[1;34m'shape'\u001b[0m\u001b[1;33m)\u001b[0m\u001b[1;33m:\u001b[0m\u001b[1;33m\u001b[0m\u001b[1;33m\u001b[0m\u001b[0m\n\u001b[0;32m    554\u001b[0m                 \u001b[0mstart\u001b[0m \u001b[1;33m=\u001b[0m \u001b[0mstart\u001b[0m\u001b[1;33m.\u001b[0m\u001b[0mtolist\u001b[0m\u001b[1;33m(\u001b[0m\u001b[1;33m)\u001b[0m\u001b[1;33m\u001b[0m\u001b[1;33m\u001b[0m\u001b[0m\n\u001b[1;32m--> 555\u001b[1;33m             \u001b[1;32mreturn\u001b[0m \u001b[1;33m[\u001b[0m\u001b[1;32mNone\u001b[0m \u001b[1;32mif\u001b[0m \u001b[0mx\u001b[0m \u001b[1;32mis\u001b[0m \u001b[1;32mNone\u001b[0m \u001b[1;32melse\u001b[0m \u001b[0mx\u001b[0m\u001b[1;33m[\u001b[0m\u001b[0mstart\u001b[0m\u001b[1;33m]\u001b[0m \u001b[1;32mfor\u001b[0m \u001b[0mx\u001b[0m \u001b[1;32min\u001b[0m \u001b[0marrays\u001b[0m\u001b[1;33m]\u001b[0m\u001b[1;33m\u001b[0m\u001b[1;33m\u001b[0m\u001b[0m\n\u001b[0m\u001b[0;32m    556\u001b[0m         \u001b[1;32melse\u001b[0m\u001b[1;33m:\u001b[0m\u001b[1;33m\u001b[0m\u001b[1;33m\u001b[0m\u001b[0m\n\u001b[0;32m    557\u001b[0m             \u001b[1;32mreturn\u001b[0m \u001b[1;33m[\u001b[0m\u001b[1;32mNone\u001b[0m \u001b[1;32mif\u001b[0m \u001b[0mx\u001b[0m \u001b[1;32mis\u001b[0m \u001b[1;32mNone\u001b[0m \u001b[1;32melse\u001b[0m \u001b[0mx\u001b[0m\u001b[1;33m[\u001b[0m\u001b[0mstart\u001b[0m\u001b[1;33m:\u001b[0m\u001b[0mstop\u001b[0m\u001b[1;33m]\u001b[0m \u001b[1;32mfor\u001b[0m \u001b[0mx\u001b[0m \u001b[1;32min\u001b[0m \u001b[0marrays\u001b[0m\u001b[1;33m]\u001b[0m\u001b[1;33m\u001b[0m\u001b[1;33m\u001b[0m\u001b[0m\n",
      "\u001b[1;32m~\\Anaconda3\\envs\\Keras\\lib\\site-packages\\keras\\utils\\generic_utils.py\u001b[0m in \u001b[0;36m<listcomp>\u001b[1;34m(.0)\u001b[0m\n\u001b[0;32m    553\u001b[0m             \u001b[1;32mif\u001b[0m \u001b[0mhasattr\u001b[0m\u001b[1;33m(\u001b[0m\u001b[0mstart\u001b[0m\u001b[1;33m,\u001b[0m \u001b[1;34m'shape'\u001b[0m\u001b[1;33m)\u001b[0m\u001b[1;33m:\u001b[0m\u001b[1;33m\u001b[0m\u001b[1;33m\u001b[0m\u001b[0m\n\u001b[0;32m    554\u001b[0m                 \u001b[0mstart\u001b[0m \u001b[1;33m=\u001b[0m \u001b[0mstart\u001b[0m\u001b[1;33m.\u001b[0m\u001b[0mtolist\u001b[0m\u001b[1;33m(\u001b[0m\u001b[1;33m)\u001b[0m\u001b[1;33m\u001b[0m\u001b[1;33m\u001b[0m\u001b[0m\n\u001b[1;32m--> 555\u001b[1;33m             \u001b[1;32mreturn\u001b[0m \u001b[1;33m[\u001b[0m\u001b[1;32mNone\u001b[0m \u001b[1;32mif\u001b[0m \u001b[0mx\u001b[0m \u001b[1;32mis\u001b[0m \u001b[1;32mNone\u001b[0m \u001b[1;32melse\u001b[0m \u001b[0mx\u001b[0m\u001b[1;33m[\u001b[0m\u001b[0mstart\u001b[0m\u001b[1;33m]\u001b[0m \u001b[1;32mfor\u001b[0m \u001b[0mx\u001b[0m \u001b[1;32min\u001b[0m \u001b[0marrays\u001b[0m\u001b[1;33m]\u001b[0m\u001b[1;33m\u001b[0m\u001b[1;33m\u001b[0m\u001b[0m\n\u001b[0m\u001b[0;32m    556\u001b[0m         \u001b[1;32melse\u001b[0m\u001b[1;33m:\u001b[0m\u001b[1;33m\u001b[0m\u001b[1;33m\u001b[0m\u001b[0m\n\u001b[0;32m    557\u001b[0m             \u001b[1;32mreturn\u001b[0m \u001b[1;33m[\u001b[0m\u001b[1;32mNone\u001b[0m \u001b[1;32mif\u001b[0m \u001b[0mx\u001b[0m \u001b[1;32mis\u001b[0m \u001b[1;32mNone\u001b[0m \u001b[1;32melse\u001b[0m \u001b[0mx\u001b[0m\u001b[1;33m[\u001b[0m\u001b[0mstart\u001b[0m\u001b[1;33m:\u001b[0m\u001b[0mstop\u001b[0m\u001b[1;33m]\u001b[0m \u001b[1;32mfor\u001b[0m \u001b[0mx\u001b[0m \u001b[1;32min\u001b[0m \u001b[0marrays\u001b[0m\u001b[1;33m]\u001b[0m\u001b[1;33m\u001b[0m\u001b[1;33m\u001b[0m\u001b[0m\n",
      "\u001b[1;31mKeyboardInterrupt\u001b[0m: "
     ]
    }
   ],
   "source": [
    "model.compile(optimizer='rmsprop',\n",
    "              loss='binary_crossentropy',\n",
    "              metrics=['acc'])\n",
    "history = model.fit(X_train, y_train, epochs=250, batch_size=400, validation_data=(X_test, y_test))"
   ]
  },
  {
   "cell_type": "code",
   "execution_count": null,
   "metadata": {},
   "outputs": [],
   "source": [
    "scores = model.evaluate(X_test, y_test, verbose=1)\n",
    "print(\"Accuracy: %.2f%%\" % (scores[1]*100))"
   ]
  },
  {
   "cell_type": "code",
   "execution_count": null,
   "metadata": {},
   "outputs": [],
   "source": [
    "model.save('Data/Spectrograms/Models/cnn_model_1.h5')"
   ]
  },
  {
   "cell_type": "code",
   "execution_count": null,
   "metadata": {},
   "outputs": [],
   "source": [
    "acc = history.history['acc']\n",
    "val_acc = history.history['val_acc']\n",
    "loss = history.history['loss']\n",
    "val_loss = history.history['val_loss']\n",
    "\n",
    "\n",
    "epochs = range(len(acc))\n",
    "\n",
    "plt.plot(epochs, acc, 'bo', label='Training acc')\n",
    "plt.plot(epochs, val_acc, 'b', label='Validation acc')\n",
    "plt.title('Training and validation accuracy')\n",
    "plt.legend()\n",
    "\n",
    "plt.figure()\n",
    "\n",
    "plt.plot(epochs, loss, 'bo', label='Training loss')\n",
    "plt.plot(epochs, val_loss, 'b', label='Validation loss')\n",
    "plt.title('Training and validation loss')\n",
    "plt.legend()\n",
    "\n",
    "plt.show()"
   ]
  },
  {
   "cell_type": "markdown",
   "metadata": {},
   "source": [
    "## Model CNN 2 -ESTE Tambien"
   ]
  },
  {
   "cell_type": "code",
   "execution_count": 21,
   "metadata": {},
   "outputs": [
    {
     "name": "stdout",
     "output_type": "stream",
     "text": [
      "Model: \"sequential_2\"\n",
      "_________________________________________________________________\n",
      "Layer (type)                 Output Shape              Param #   \n",
      "=================================================================\n",
      "conv1d_3 (Conv1D)            (None, 21, 64)            7744      \n",
      "_________________________________________________________________\n",
      "conv1d_4 (Conv1D)            (None, 19, 32)            6176      \n",
      "_________________________________________________________________\n",
      "flatten_2 (Flatten)          (None, 608)               0         \n",
      "_________________________________________________________________\n",
      "dense_3 (Dense)              (None, 16)                9744      \n",
      "_________________________________________________________________\n",
      "dropout_2 (Dropout)          (None, 16)                0         \n",
      "_________________________________________________________________\n",
      "dense_4 (Dense)              (None, 1)                 17        \n",
      "=================================================================\n",
      "Total params: 23,681\n",
      "Trainable params: 23,681\n",
      "Non-trainable params: 0\n",
      "_________________________________________________________________\n"
     ]
    }
   ],
   "source": [
    "model2 = Sequential()\n",
    "\n",
    "model2.add(Conv1D(64, (3), activation='relu', input_shape=(23, 40)))\n",
    "model2.add(Conv1D(32, 3, activation='relu'))\n",
    "model2.add(Flatten())\n",
    "model2.add(Dense(16, activation='relu'))\n",
    "model2.add(Dropout(0.4))\n",
    "model2.add(Dense(1, activation='sigmoid'))\n",
    "\n",
    "model2.summary()"
   ]
  },
  {
   "cell_type": "code",
   "execution_count": 22,
   "metadata": {
    "scrolled": true
   },
   "outputs": [
    {
     "name": "stdout",
     "output_type": "stream",
     "text": [
      "Train on 794469 samples, validate on 264824 samples\n",
      "Epoch 1/20\n",
      "  2800/794469 [..............................] - ETA: 22:08 - loss: 4.1323 - acc: 0.7264"
     ]
    },
    {
     "ename": "KeyboardInterrupt",
     "evalue": "",
     "output_type": "error",
     "traceback": [
      "\u001b[1;31m---------------------------------------------------------------------------\u001b[0m",
      "\u001b[1;31mKeyboardInterrupt\u001b[0m                         Traceback (most recent call last)",
      "\u001b[1;32m<ipython-input-22-a6c1ddd973e5>\u001b[0m in \u001b[0;36m<module>\u001b[1;34m\u001b[0m\n\u001b[0;32m      4\u001b[0m               \u001b[0mloss\u001b[0m\u001b[1;33m=\u001b[0m\u001b[1;34m'binary_crossentropy'\u001b[0m\u001b[1;33m,\u001b[0m\u001b[1;33m\u001b[0m\u001b[1;33m\u001b[0m\u001b[0m\n\u001b[0;32m      5\u001b[0m               metrics=['acc'])\n\u001b[1;32m----> 6\u001b[1;33m \u001b[0mhistory2\u001b[0m \u001b[1;33m=\u001b[0m \u001b[0mmodel2\u001b[0m\u001b[1;33m.\u001b[0m\u001b[0mfit\u001b[0m\u001b[1;33m(\u001b[0m\u001b[0mX_train\u001b[0m\u001b[1;33m,\u001b[0m \u001b[0my_train\u001b[0m\u001b[1;33m,\u001b[0m \u001b[0mepochs\u001b[0m\u001b[1;33m=\u001b[0m\u001b[1;36m20\u001b[0m\u001b[1;33m,\u001b[0m \u001b[0mbatch_size\u001b[0m\u001b[1;33m=\u001b[0m\u001b[1;36m400\u001b[0m\u001b[1;33m,\u001b[0m \u001b[0mvalidation_data\u001b[0m\u001b[1;33m=\u001b[0m\u001b[1;33m(\u001b[0m\u001b[0mX_test\u001b[0m\u001b[1;33m,\u001b[0m \u001b[0my_test\u001b[0m\u001b[1;33m)\u001b[0m\u001b[1;33m)\u001b[0m\u001b[1;33m\u001b[0m\u001b[1;33m\u001b[0m\u001b[0m\n\u001b[0m",
      "\u001b[1;32m~\\Anaconda3\\envs\\Keras\\lib\\site-packages\\keras\\engine\\training.py\u001b[0m in \u001b[0;36mfit\u001b[1;34m(self, x, y, batch_size, epochs, verbose, callbacks, validation_split, validation_data, shuffle, class_weight, sample_weight, initial_epoch, steps_per_epoch, validation_steps, validation_freq, max_queue_size, workers, use_multiprocessing, **kwargs)\u001b[0m\n\u001b[0;32m   1237\u001b[0m                                         \u001b[0msteps_per_epoch\u001b[0m\u001b[1;33m=\u001b[0m\u001b[0msteps_per_epoch\u001b[0m\u001b[1;33m,\u001b[0m\u001b[1;33m\u001b[0m\u001b[1;33m\u001b[0m\u001b[0m\n\u001b[0;32m   1238\u001b[0m                                         \u001b[0mvalidation_steps\u001b[0m\u001b[1;33m=\u001b[0m\u001b[0mvalidation_steps\u001b[0m\u001b[1;33m,\u001b[0m\u001b[1;33m\u001b[0m\u001b[1;33m\u001b[0m\u001b[0m\n\u001b[1;32m-> 1239\u001b[1;33m                                         validation_freq=validation_freq)\n\u001b[0m\u001b[0;32m   1240\u001b[0m \u001b[1;33m\u001b[0m\u001b[0m\n\u001b[0;32m   1241\u001b[0m     def evaluate(self,\n",
      "\u001b[1;32m~\\Anaconda3\\envs\\Keras\\lib\\site-packages\\keras\\engine\\training_arrays.py\u001b[0m in \u001b[0;36mfit_loop\u001b[1;34m(model, fit_function, fit_inputs, out_labels, batch_size, epochs, verbose, callbacks, val_function, val_inputs, shuffle, initial_epoch, steps_per_epoch, validation_steps, validation_freq)\u001b[0m\n\u001b[0;32m    182\u001b[0m                         \u001b[1;31m# Do not slice the training phase flag.\u001b[0m\u001b[1;33m\u001b[0m\u001b[1;33m\u001b[0m\u001b[1;33m\u001b[0m\u001b[0m\n\u001b[0;32m    183\u001b[0m                         ins_batch = slice_arrays(\n\u001b[1;32m--> 184\u001b[1;33m                             fit_inputs[:-1], batch_ids) + [fit_inputs[-1]]\n\u001b[0m\u001b[0;32m    185\u001b[0m                     \u001b[1;32melse\u001b[0m\u001b[1;33m:\u001b[0m\u001b[1;33m\u001b[0m\u001b[1;33m\u001b[0m\u001b[0m\n\u001b[0;32m    186\u001b[0m                         \u001b[0mins_batch\u001b[0m \u001b[1;33m=\u001b[0m \u001b[0mslice_arrays\u001b[0m\u001b[1;33m(\u001b[0m\u001b[0mfit_inputs\u001b[0m\u001b[1;33m,\u001b[0m \u001b[0mbatch_ids\u001b[0m\u001b[1;33m)\u001b[0m\u001b[1;33m\u001b[0m\u001b[1;33m\u001b[0m\u001b[0m\n",
      "\u001b[1;32m~\\Anaconda3\\envs\\Keras\\lib\\site-packages\\keras\\utils\\generic_utils.py\u001b[0m in \u001b[0;36mslice_arrays\u001b[1;34m(arrays, start, stop)\u001b[0m\n\u001b[0;32m    553\u001b[0m             \u001b[1;32mif\u001b[0m \u001b[0mhasattr\u001b[0m\u001b[1;33m(\u001b[0m\u001b[0mstart\u001b[0m\u001b[1;33m,\u001b[0m \u001b[1;34m'shape'\u001b[0m\u001b[1;33m)\u001b[0m\u001b[1;33m:\u001b[0m\u001b[1;33m\u001b[0m\u001b[1;33m\u001b[0m\u001b[0m\n\u001b[0;32m    554\u001b[0m                 \u001b[0mstart\u001b[0m \u001b[1;33m=\u001b[0m \u001b[0mstart\u001b[0m\u001b[1;33m.\u001b[0m\u001b[0mtolist\u001b[0m\u001b[1;33m(\u001b[0m\u001b[1;33m)\u001b[0m\u001b[1;33m\u001b[0m\u001b[1;33m\u001b[0m\u001b[0m\n\u001b[1;32m--> 555\u001b[1;33m             \u001b[1;32mreturn\u001b[0m \u001b[1;33m[\u001b[0m\u001b[1;32mNone\u001b[0m \u001b[1;32mif\u001b[0m \u001b[0mx\u001b[0m \u001b[1;32mis\u001b[0m \u001b[1;32mNone\u001b[0m \u001b[1;32melse\u001b[0m \u001b[0mx\u001b[0m\u001b[1;33m[\u001b[0m\u001b[0mstart\u001b[0m\u001b[1;33m]\u001b[0m \u001b[1;32mfor\u001b[0m \u001b[0mx\u001b[0m \u001b[1;32min\u001b[0m \u001b[0marrays\u001b[0m\u001b[1;33m]\u001b[0m\u001b[1;33m\u001b[0m\u001b[1;33m\u001b[0m\u001b[0m\n\u001b[0m\u001b[0;32m    556\u001b[0m         \u001b[1;32melse\u001b[0m\u001b[1;33m:\u001b[0m\u001b[1;33m\u001b[0m\u001b[1;33m\u001b[0m\u001b[0m\n\u001b[0;32m    557\u001b[0m             \u001b[1;32mreturn\u001b[0m \u001b[1;33m[\u001b[0m\u001b[1;32mNone\u001b[0m \u001b[1;32mif\u001b[0m \u001b[0mx\u001b[0m \u001b[1;32mis\u001b[0m \u001b[1;32mNone\u001b[0m \u001b[1;32melse\u001b[0m \u001b[0mx\u001b[0m\u001b[1;33m[\u001b[0m\u001b[0mstart\u001b[0m\u001b[1;33m:\u001b[0m\u001b[0mstop\u001b[0m\u001b[1;33m]\u001b[0m \u001b[1;32mfor\u001b[0m \u001b[0mx\u001b[0m \u001b[1;32min\u001b[0m \u001b[0marrays\u001b[0m\u001b[1;33m]\u001b[0m\u001b[1;33m\u001b[0m\u001b[1;33m\u001b[0m\u001b[0m\n",
      "\u001b[1;32m~\\Anaconda3\\envs\\Keras\\lib\\site-packages\\keras\\utils\\generic_utils.py\u001b[0m in \u001b[0;36m<listcomp>\u001b[1;34m(.0)\u001b[0m\n\u001b[0;32m    553\u001b[0m             \u001b[1;32mif\u001b[0m \u001b[0mhasattr\u001b[0m\u001b[1;33m(\u001b[0m\u001b[0mstart\u001b[0m\u001b[1;33m,\u001b[0m \u001b[1;34m'shape'\u001b[0m\u001b[1;33m)\u001b[0m\u001b[1;33m:\u001b[0m\u001b[1;33m\u001b[0m\u001b[1;33m\u001b[0m\u001b[0m\n\u001b[0;32m    554\u001b[0m                 \u001b[0mstart\u001b[0m \u001b[1;33m=\u001b[0m \u001b[0mstart\u001b[0m\u001b[1;33m.\u001b[0m\u001b[0mtolist\u001b[0m\u001b[1;33m(\u001b[0m\u001b[1;33m)\u001b[0m\u001b[1;33m\u001b[0m\u001b[1;33m\u001b[0m\u001b[0m\n\u001b[1;32m--> 555\u001b[1;33m             \u001b[1;32mreturn\u001b[0m \u001b[1;33m[\u001b[0m\u001b[1;32mNone\u001b[0m \u001b[1;32mif\u001b[0m \u001b[0mx\u001b[0m \u001b[1;32mis\u001b[0m \u001b[1;32mNone\u001b[0m \u001b[1;32melse\u001b[0m \u001b[0mx\u001b[0m\u001b[1;33m[\u001b[0m\u001b[0mstart\u001b[0m\u001b[1;33m]\u001b[0m \u001b[1;32mfor\u001b[0m \u001b[0mx\u001b[0m \u001b[1;32min\u001b[0m \u001b[0marrays\u001b[0m\u001b[1;33m]\u001b[0m\u001b[1;33m\u001b[0m\u001b[1;33m\u001b[0m\u001b[0m\n\u001b[0m\u001b[0;32m    556\u001b[0m         \u001b[1;32melse\u001b[0m\u001b[1;33m:\u001b[0m\u001b[1;33m\u001b[0m\u001b[1;33m\u001b[0m\u001b[0m\n\u001b[0;32m    557\u001b[0m             \u001b[1;32mreturn\u001b[0m \u001b[1;33m[\u001b[0m\u001b[1;32mNone\u001b[0m \u001b[1;32mif\u001b[0m \u001b[0mx\u001b[0m \u001b[1;32mis\u001b[0m \u001b[1;32mNone\u001b[0m \u001b[1;32melse\u001b[0m \u001b[0mx\u001b[0m\u001b[1;33m[\u001b[0m\u001b[0mstart\u001b[0m\u001b[1;33m:\u001b[0m\u001b[0mstop\u001b[0m\u001b[1;33m]\u001b[0m \u001b[1;32mfor\u001b[0m \u001b[0mx\u001b[0m \u001b[1;32min\u001b[0m \u001b[0marrays\u001b[0m\u001b[1;33m]\u001b[0m\u001b[1;33m\u001b[0m\u001b[1;33m\u001b[0m\u001b[0m\n",
      "\u001b[1;31mKeyboardInterrupt\u001b[0m: "
     ]
    }
   ],
   "source": [
    "# try categorical_crossentropy\n",
    "# model.fit  validation_data=(X_test, y_test) puede borrar batch\n",
    "model2.compile(optimizer='rmsprop',\n",
    "              loss='binary_crossentropy',\n",
    "              metrics=['acc'])\n",
    "history2 = model2.fit(X_train, y_train, epochs=20, batch_size=400, validation_data=(X_test, y_test))"
   ]
  },
  {
   "cell_type": "code",
   "execution_count": null,
   "metadata": {},
   "outputs": [],
   "source": [
    "scores2 = model2.evaluate(X_test, y_test, verbose=1)\n",
    "print(\"Accuracy: %.2f%%\" % (scores[1]*100))"
   ]
  },
  {
   "cell_type": "code",
   "execution_count": null,
   "metadata": {},
   "outputs": [],
   "source": [
    "model2.save('Data/Spectrograms/Models/cnn_model_2.h5')"
   ]
  },
  {
   "cell_type": "code",
   "execution_count": null,
   "metadata": {},
   "outputs": [],
   "source": [
    "acc = history2.history['acc']\n",
    "val_acc = history2.history['val_acc']\n",
    "loss = history2.history['loss']\n",
    "val_loss = history2.history['val_loss']\n",
    "\n",
    "\n",
    "epochs = range(len(acc))\n",
    "\n",
    "plt.plot(epochs, acc, 'bo', label='Training acc')\n",
    "plt.plot(epochs, val_acc, 'b', label='Validation acc')\n",
    "plt.title('Training and validation accuracy')\n",
    "plt.legend()\n",
    "\n",
    "plt.figure()\n",
    "\n",
    "plt.plot(epochs, loss, 'bo', label='Training loss')\n",
    "plt.plot(epochs, val_loss, 'b', label='Validation loss')\n",
    "plt.title('Training and validation loss')\n",
    "plt.legend()\n",
    "\n",
    "plt.show()"
   ]
  },
  {
   "cell_type": "code",
   "execution_count": null,
   "metadata": {},
   "outputs": [],
   "source": []
  },
  {
   "cell_type": "markdown",
   "metadata": {},
   "source": [
    "## CNN MODEL 3"
   ]
  },
  {
   "cell_type": "code",
   "execution_count": 48,
   "metadata": {},
   "outputs": [
    {
     "name": "stdout",
     "output_type": "stream",
     "text": [
      "Model: \"sequential_4\"\n",
      "_________________________________________________________________\n",
      "Layer (type)                 Output Shape              Param #   \n",
      "=================================================================\n",
      "conv1d_8 (Conv1D)            (None, 21, 64)            7744      \n",
      "_________________________________________________________________\n",
      "conv1d_9 (Conv1D)            (None, 19, 64)            12352     \n",
      "_________________________________________________________________\n",
      "dropout_4 (Dropout)          (None, 19, 64)            0         \n",
      "_________________________________________________________________\n",
      "flatten_4 (Flatten)          (None, 1216)              0         \n",
      "_________________________________________________________________\n",
      "dense_7 (Dense)              (None, 16)                19472     \n",
      "_________________________________________________________________\n",
      "dense_8 (Dense)              (None, 1)                 17        \n",
      "=================================================================\n",
      "Total params: 39,585\n",
      "Trainable params: 39,585\n",
      "Non-trainable params: 0\n",
      "_________________________________________________________________\n"
     ]
    }
   ],
   "source": [
    "model3 = Sequential()\n",
    "\n",
    "model3.add(Conv1D(64, (3), activation='relu', input_shape=(23, 40)))\n",
    "model3.add(Conv1D(64, 3, activation='relu'))\n",
    "model3.add(Dropout(0.5))\n",
    "model3.add(Flatten())\n",
    "model3.add(Dense(16, activation='relu'))\n",
    "model3.add(Dense(1, activation='sigmoid'))\n",
    "\n",
    "model3.summary()"
   ]
  },
  {
   "cell_type": "code",
   "execution_count": 49,
   "metadata": {
    "scrolled": true
   },
   "outputs": [
    {
     "name": "stdout",
     "output_type": "stream",
     "text": [
      "Train on 795280 samples, validate on 265094 samples\n",
      "Epoch 1/10\n",
      "795280/795280 [==============================] - 109s 137us/step - loss: 0.7666 - acc: 0.9524 - val_loss: 0.7728 - val_acc: 0.9522\n",
      "Epoch 2/10\n",
      "795280/795280 [==============================] - 109s 137us/step - loss: 0.7666 - acc: 0.9524 - val_loss: 0.7728 - val_acc: 0.9522\n",
      "Epoch 3/10\n",
      "795280/795280 [==============================] - 108s 136us/step - loss: 0.7666 - acc: 0.9524 - val_loss: 0.7728 - val_acc: 0.9522\n",
      "Epoch 4/10\n",
      "795280/795280 [==============================] - 108s 136us/step - loss: 0.7666 - acc: 0.9524 - val_loss: 0.7728 - val_acc: 0.9522\n",
      "Epoch 5/10\n",
      "795280/795280 [==============================] - 111s 140us/step - loss: 0.7666 - acc: 0.9524 - val_loss: 0.7728 - val_acc: 0.9522\n",
      "Epoch 6/10\n",
      "795280/795280 [==============================] - 110s 139us/step - loss: 0.7666 - acc: 0.9524 - val_loss: 0.7728 - val_acc: 0.9522\n",
      "Epoch 7/10\n",
      "795280/795280 [==============================] - 108s 136us/step - loss: 0.7666 - acc: 0.9524 - val_loss: 0.7728 - val_acc: 0.9522\n",
      "Epoch 8/10\n",
      "389984/795280 [=============>................] - ETA: 50s - loss: 0.7669 - acc: 0.9524"
     ]
    },
    {
     "ename": "KeyboardInterrupt",
     "evalue": "",
     "output_type": "error",
     "traceback": [
      "\u001b[1;31m---------------------------------------------------------------------------\u001b[0m",
      "\u001b[1;31mKeyboardInterrupt\u001b[0m                         Traceback (most recent call last)",
      "\u001b[1;32m<ipython-input-49-8068f9e801cc>\u001b[0m in \u001b[0;36m<module>\u001b[1;34m\u001b[0m\n\u001b[0;32m      2\u001b[0m               \u001b[0mloss\u001b[0m\u001b[1;33m=\u001b[0m\u001b[1;34m'binary_crossentropy'\u001b[0m\u001b[1;33m,\u001b[0m\u001b[1;33m\u001b[0m\u001b[1;33m\u001b[0m\u001b[0m\n\u001b[0;32m      3\u001b[0m               metrics=['acc'])\n\u001b[1;32m----> 4\u001b[1;33m \u001b[0mhistory\u001b[0m \u001b[1;33m=\u001b[0m \u001b[0mmodel3\u001b[0m\u001b[1;33m.\u001b[0m\u001b[0mfit\u001b[0m\u001b[1;33m(\u001b[0m\u001b[0mX_train\u001b[0m\u001b[1;33m,\u001b[0m \u001b[0my_train\u001b[0m\u001b[1;33m,\u001b[0m \u001b[0mepochs\u001b[0m\u001b[1;33m=\u001b[0m\u001b[1;36m10\u001b[0m\u001b[1;33m,\u001b[0m \u001b[0mbatch_size\u001b[0m\u001b[1;33m=\u001b[0m\u001b[1;36m32\u001b[0m\u001b[1;33m,\u001b[0m \u001b[0mvalidation_data\u001b[0m\u001b[1;33m=\u001b[0m\u001b[1;33m(\u001b[0m\u001b[0mX_test\u001b[0m\u001b[1;33m,\u001b[0m \u001b[0my_test\u001b[0m\u001b[1;33m)\u001b[0m\u001b[1;33m)\u001b[0m\u001b[1;33m\u001b[0m\u001b[1;33m\u001b[0m\u001b[0m\n\u001b[0m",
      "\u001b[1;32m~\\Anaconda3\\envs\\Keras\\lib\\site-packages\\keras\\engine\\training.py\u001b[0m in \u001b[0;36mfit\u001b[1;34m(self, x, y, batch_size, epochs, verbose, callbacks, validation_split, validation_data, shuffle, class_weight, sample_weight, initial_epoch, steps_per_epoch, validation_steps, validation_freq, max_queue_size, workers, use_multiprocessing, **kwargs)\u001b[0m\n\u001b[0;32m   1237\u001b[0m                                         \u001b[0msteps_per_epoch\u001b[0m\u001b[1;33m=\u001b[0m\u001b[0msteps_per_epoch\u001b[0m\u001b[1;33m,\u001b[0m\u001b[1;33m\u001b[0m\u001b[1;33m\u001b[0m\u001b[0m\n\u001b[0;32m   1238\u001b[0m                                         \u001b[0mvalidation_steps\u001b[0m\u001b[1;33m=\u001b[0m\u001b[0mvalidation_steps\u001b[0m\u001b[1;33m,\u001b[0m\u001b[1;33m\u001b[0m\u001b[1;33m\u001b[0m\u001b[0m\n\u001b[1;32m-> 1239\u001b[1;33m                                         validation_freq=validation_freq)\n\u001b[0m\u001b[0;32m   1240\u001b[0m \u001b[1;33m\u001b[0m\u001b[0m\n\u001b[0;32m   1241\u001b[0m     def evaluate(self,\n",
      "\u001b[1;32m~\\Anaconda3\\envs\\Keras\\lib\\site-packages\\keras\\engine\\training_arrays.py\u001b[0m in \u001b[0;36mfit_loop\u001b[1;34m(model, fit_function, fit_inputs, out_labels, batch_size, epochs, verbose, callbacks, val_function, val_inputs, shuffle, initial_epoch, steps_per_epoch, validation_steps, validation_freq)\u001b[0m\n\u001b[0;32m    194\u001b[0m                     \u001b[0mins_batch\u001b[0m\u001b[1;33m[\u001b[0m\u001b[0mi\u001b[0m\u001b[1;33m]\u001b[0m \u001b[1;33m=\u001b[0m \u001b[0mins_batch\u001b[0m\u001b[1;33m[\u001b[0m\u001b[0mi\u001b[0m\u001b[1;33m]\u001b[0m\u001b[1;33m.\u001b[0m\u001b[0mtoarray\u001b[0m\u001b[1;33m(\u001b[0m\u001b[1;33m)\u001b[0m\u001b[1;33m\u001b[0m\u001b[1;33m\u001b[0m\u001b[0m\n\u001b[0;32m    195\u001b[0m \u001b[1;33m\u001b[0m\u001b[0m\n\u001b[1;32m--> 196\u001b[1;33m                 \u001b[0mouts\u001b[0m \u001b[1;33m=\u001b[0m \u001b[0mfit_function\u001b[0m\u001b[1;33m(\u001b[0m\u001b[0mins_batch\u001b[0m\u001b[1;33m)\u001b[0m\u001b[1;33m\u001b[0m\u001b[1;33m\u001b[0m\u001b[0m\n\u001b[0m\u001b[0;32m    197\u001b[0m                 \u001b[0mouts\u001b[0m \u001b[1;33m=\u001b[0m \u001b[0mto_list\u001b[0m\u001b[1;33m(\u001b[0m\u001b[0mouts\u001b[0m\u001b[1;33m)\u001b[0m\u001b[1;33m\u001b[0m\u001b[1;33m\u001b[0m\u001b[0m\n\u001b[0;32m    198\u001b[0m                 \u001b[1;32mfor\u001b[0m \u001b[0ml\u001b[0m\u001b[1;33m,\u001b[0m \u001b[0mo\u001b[0m \u001b[1;32min\u001b[0m \u001b[0mzip\u001b[0m\u001b[1;33m(\u001b[0m\u001b[0mout_labels\u001b[0m\u001b[1;33m,\u001b[0m \u001b[0mouts\u001b[0m\u001b[1;33m)\u001b[0m\u001b[1;33m:\u001b[0m\u001b[1;33m\u001b[0m\u001b[1;33m\u001b[0m\u001b[0m\n",
      "\u001b[1;32m~\\Anaconda3\\envs\\Keras\\lib\\site-packages\\tensorflow\\python\\keras\\backend.py\u001b[0m in \u001b[0;36m__call__\u001b[1;34m(self, inputs)\u001b[0m\n\u001b[0;32m   3074\u001b[0m \u001b[1;33m\u001b[0m\u001b[0m\n\u001b[0;32m   3075\u001b[0m     fetched = self._callable_fn(*array_vals,\n\u001b[1;32m-> 3076\u001b[1;33m                                 run_metadata=self.run_metadata)\n\u001b[0m\u001b[0;32m   3077\u001b[0m     \u001b[0mself\u001b[0m\u001b[1;33m.\u001b[0m\u001b[0m_call_fetch_callbacks\u001b[0m\u001b[1;33m(\u001b[0m\u001b[0mfetched\u001b[0m\u001b[1;33m[\u001b[0m\u001b[1;33m-\u001b[0m\u001b[0mlen\u001b[0m\u001b[1;33m(\u001b[0m\u001b[0mself\u001b[0m\u001b[1;33m.\u001b[0m\u001b[0m_fetches\u001b[0m\u001b[1;33m)\u001b[0m\u001b[1;33m:\u001b[0m\u001b[1;33m]\u001b[0m\u001b[1;33m)\u001b[0m\u001b[1;33m\u001b[0m\u001b[1;33m\u001b[0m\u001b[0m\n\u001b[0;32m   3078\u001b[0m     return nest.pack_sequence_as(self._outputs_structure,\n",
      "\u001b[1;32m~\\Anaconda3\\envs\\Keras\\lib\\site-packages\\tensorflow\\python\\client\\session.py\u001b[0m in \u001b[0;36m__call__\u001b[1;34m(self, *args, **kwargs)\u001b[0m\n\u001b[0;32m   1437\u001b[0m           ret = tf_session.TF_SessionRunCallable(\n\u001b[0;32m   1438\u001b[0m               \u001b[0mself\u001b[0m\u001b[1;33m.\u001b[0m\u001b[0m_session\u001b[0m\u001b[1;33m.\u001b[0m\u001b[0m_session\u001b[0m\u001b[1;33m,\u001b[0m \u001b[0mself\u001b[0m\u001b[1;33m.\u001b[0m\u001b[0m_handle\u001b[0m\u001b[1;33m,\u001b[0m \u001b[0margs\u001b[0m\u001b[1;33m,\u001b[0m \u001b[0mstatus\u001b[0m\u001b[1;33m,\u001b[0m\u001b[1;33m\u001b[0m\u001b[1;33m\u001b[0m\u001b[0m\n\u001b[1;32m-> 1439\u001b[1;33m               run_metadata_ptr)\n\u001b[0m\u001b[0;32m   1440\u001b[0m         \u001b[1;32mif\u001b[0m \u001b[0mrun_metadata\u001b[0m\u001b[1;33m:\u001b[0m\u001b[1;33m\u001b[0m\u001b[1;33m\u001b[0m\u001b[0m\n\u001b[0;32m   1441\u001b[0m           \u001b[0mproto_data\u001b[0m \u001b[1;33m=\u001b[0m \u001b[0mtf_session\u001b[0m\u001b[1;33m.\u001b[0m\u001b[0mTF_GetBuffer\u001b[0m\u001b[1;33m(\u001b[0m\u001b[0mrun_metadata_ptr\u001b[0m\u001b[1;33m)\u001b[0m\u001b[1;33m\u001b[0m\u001b[1;33m\u001b[0m\u001b[0m\n",
      "\u001b[1;31mKeyboardInterrupt\u001b[0m: "
     ]
    }
   ],
   "source": [
    "model3.compile(optimizer='rmsprop',\n",
    "              loss='binary_crossentropy',\n",
    "              metrics=['acc'])\n",
    "history3 = model3.fit(X_train, y_train, epochs=10, batch_size=32, validation_data=(X_test, y_test))"
   ]
  },
  {
   "cell_type": "code",
   "execution_count": 50,
   "metadata": {},
   "outputs": [
    {
     "name": "stdout",
     "output_type": "stream",
     "text": [
      "265094/265094 [==============================] - 9s 35us/step\n",
      "Accuracy: 95.22%\n"
     ]
    }
   ],
   "source": [
    "scores = model3.evaluate(X_test, y_test, verbose=1)\n",
    "print(\"Accuracy: %.2f%%\" % (scores[1]*100))"
   ]
  },
  {
   "cell_type": "code",
   "execution_count": 51,
   "metadata": {},
   "outputs": [],
   "source": [
    "#model.save('Data/Spectrograms/Models/cnn_model.h5')"
   ]
  },
  {
   "cell_type": "code",
   "execution_count": 52,
   "metadata": {},
   "outputs": [
    {
     "ename": "NameError",
     "evalue": "name 'history3' is not defined",
     "output_type": "error",
     "traceback": [
      "\u001b[1;31m---------------------------------------------------------------------------\u001b[0m",
      "\u001b[1;31mNameError\u001b[0m                                 Traceback (most recent call last)",
      "\u001b[1;32m<ipython-input-52-c5e1aa1ff225>\u001b[0m in \u001b[0;36m<module>\u001b[1;34m\u001b[0m\n\u001b[1;32m----> 1\u001b[1;33m \u001b[0macc\u001b[0m \u001b[1;33m=\u001b[0m \u001b[0mhistory3\u001b[0m\u001b[1;33m.\u001b[0m\u001b[0mhistory\u001b[0m\u001b[1;33m[\u001b[0m\u001b[1;34m'acc'\u001b[0m\u001b[1;33m]\u001b[0m\u001b[1;33m\u001b[0m\u001b[1;33m\u001b[0m\u001b[0m\n\u001b[0m\u001b[0;32m      2\u001b[0m \u001b[0mval_acc\u001b[0m \u001b[1;33m=\u001b[0m \u001b[0mhistory3\u001b[0m\u001b[1;33m.\u001b[0m\u001b[0mhistory\u001b[0m\u001b[1;33m[\u001b[0m\u001b[1;34m'val_acc'\u001b[0m\u001b[1;33m]\u001b[0m\u001b[1;33m\u001b[0m\u001b[1;33m\u001b[0m\u001b[0m\n\u001b[0;32m      3\u001b[0m \u001b[0mloss\u001b[0m \u001b[1;33m=\u001b[0m \u001b[0mhistory3\u001b[0m\u001b[1;33m.\u001b[0m\u001b[0mhistory\u001b[0m\u001b[1;33m[\u001b[0m\u001b[1;34m'loss'\u001b[0m\u001b[1;33m]\u001b[0m\u001b[1;33m\u001b[0m\u001b[1;33m\u001b[0m\u001b[0m\n\u001b[0;32m      4\u001b[0m \u001b[0mval_loss\u001b[0m \u001b[1;33m=\u001b[0m \u001b[0mhistory3\u001b[0m\u001b[1;33m.\u001b[0m\u001b[0mhistory\u001b[0m\u001b[1;33m[\u001b[0m\u001b[1;34m'val_loss'\u001b[0m\u001b[1;33m]\u001b[0m\u001b[1;33m\u001b[0m\u001b[1;33m\u001b[0m\u001b[0m\n\u001b[0;32m      5\u001b[0m \u001b[1;33m\u001b[0m\u001b[0m\n",
      "\u001b[1;31mNameError\u001b[0m: name 'history3' is not defined"
     ]
    }
   ],
   "source": [
    "acc = history3.history['acc']\n",
    "val_acc = history3.history['val_acc']\n",
    "loss = history3.history['loss']\n",
    "val_loss = history3.history['val_loss']\n",
    "\n",
    "\n",
    "epochs = range(len(acc))\n",
    "\n",
    "plt.plot(epochs, acc, 'bo', label='Training acc')\n",
    "plt.plot(epochs, val_acc, 'b', label='Validation acc')\n",
    "plt.title('Training and validation accuracy')\n",
    "plt.legend()\n",
    "\n",
    "plt.figure()\n",
    "\n",
    "plt.plot(epochs, loss, 'bo', label='Training loss')\n",
    "plt.plot(epochs, val_loss, 'b', label='Validation loss')\n",
    "plt.title('Training and validation loss')\n",
    "plt.legend()\n",
    "\n",
    "plt.show()"
   ]
  },
  {
   "cell_type": "code",
   "execution_count": null,
   "metadata": {},
   "outputs": [],
   "source": []
  },
  {
   "cell_type": "markdown",
   "metadata": {},
   "source": [
    "## CNN MODEL 4"
   ]
  },
  {
   "cell_type": "code",
   "execution_count": 53,
   "metadata": {},
   "outputs": [
    {
     "name": "stdout",
     "output_type": "stream",
     "text": [
      "Model: \"sequential_5\"\n",
      "_________________________________________________________________\n",
      "Layer (type)                 Output Shape              Param #   \n",
      "=================================================================\n",
      "conv1d_10 (Conv1D)           (None, 21, 10)            1210      \n",
      "_________________________________________________________________\n",
      "flatten_5 (Flatten)          (None, 210)               0         \n",
      "_________________________________________________________________\n",
      "dense_9 (Dense)              (None, 16)                3376      \n",
      "_________________________________________________________________\n",
      "dropout_5 (Dropout)          (None, 16)                0         \n",
      "_________________________________________________________________\n",
      "dense_10 (Dense)             (None, 1)                 17        \n",
      "=================================================================\n",
      "Total params: 4,603\n",
      "Trainable params: 4,603\n",
      "Non-trainable params: 0\n",
      "_________________________________________________________________\n"
     ]
    }
   ],
   "source": [
    "model4 = Sequential()\n",
    "\n",
    "model4.add(Conv1D(10, (3), activation='relu', input_shape=(23, 40)))\n",
    "model4.add(Flatten())\n",
    "model4.add(Dense(16, activation='relu'))\n",
    "model4.add(Dropout(0.4))\n",
    "model4.add(Dense(1, activation='sigmoid'))\n",
    "\n",
    "model4.summary()"
   ]
  },
  {
   "cell_type": "code",
   "execution_count": 54,
   "metadata": {
    "scrolled": true
   },
   "outputs": [
    {
     "name": "stdout",
     "output_type": "stream",
     "text": [
      "Train on 795280 samples, validate on 265094 samples\n",
      "Epoch 1/20\n",
      "795280/795280 [==============================] - 17s 22us/step - loss: 0.4951 - acc: 0.9521 - val_loss: 0.2175 - val_acc: 0.9522\n",
      "Epoch 2/20\n",
      "795280/795280 [==============================] - 17s 21us/step - loss: 0.2003 - acc: 0.9524 - val_loss: 0.1941 - val_acc: 0.9522\n",
      "Epoch 3/20\n",
      "795280/795280 [==============================] - 17s 21us/step - loss: 0.1929 - acc: 0.9524 - val_loss: 0.1899 - val_acc: 0.9522\n",
      "Epoch 4/20\n",
      "795280/795280 [==============================] - 17s 21us/step - loss: 0.1892 - acc: 0.9524 - val_loss: 0.1875 - val_acc: 0.9522\n",
      "Epoch 5/20\n",
      "795280/795280 [==============================] - 17s 21us/step - loss: 0.1876 - acc: 0.9524 - val_loss: 0.1876 - val_acc: 0.9522\n",
      "Epoch 6/20\n",
      "795280/795280 [==============================] - 17s 21us/step - loss: 0.1865 - acc: 0.9524 - val_loss: 0.1851 - val_acc: 0.9522\n",
      "Epoch 7/20\n",
      "795280/795280 [==============================] - 17s 21us/step - loss: 0.1859 - acc: 0.9524 - val_loss: 0.1844 - val_acc: 0.9522\n",
      "Epoch 8/20\n",
      "795280/795280 [==============================] - 17s 21us/step - loss: 0.1855 - acc: 0.9524 - val_loss: 0.1842 - val_acc: 0.9522\n",
      "Epoch 9/20\n",
      "795280/795280 [==============================] - 17s 21us/step - loss: 0.1852 - acc: 0.9524 - val_loss: 0.1836 - val_acc: 0.9522\n",
      "Epoch 10/20\n",
      "795280/795280 [==============================] - 17s 21us/step - loss: 0.1850 - acc: 0.9524 - val_loss: 0.1846 - val_acc: 0.9522\n",
      "Epoch 11/20\n",
      "795280/795280 [==============================] - 17s 21us/step - loss: 0.1849 - acc: 0.9524 - val_loss: 0.1831 - val_acc: 0.9522\n",
      "Epoch 12/20\n",
      "795280/795280 [==============================] - 17s 22us/step - loss: 0.1845 - acc: 0.9524 - val_loss: 0.1839 - val_acc: 0.9522\n",
      "Epoch 13/20\n",
      "795280/795280 [==============================] - 17s 21us/step - loss: 0.1843 - acc: 0.9524 - val_loss: 0.1828 - val_acc: 0.9522\n",
      "Epoch 14/20\n",
      "795280/795280 [==============================] - 17s 22us/step - loss: 0.1841 - acc: 0.9524 - val_loss: 0.1822 - val_acc: 0.9522\n",
      "Epoch 15/20\n",
      "795280/795280 [==============================] - 17s 21us/step - loss: 0.1844 - acc: 0.9524 - val_loss: 0.1821 - val_acc: 0.9522\n",
      "Epoch 16/20\n",
      "795280/795280 [==============================] - 17s 22us/step - loss: 0.1842 - acc: 0.9524 - val_loss: 0.1820 - val_acc: 0.9522\n",
      "Epoch 17/20\n",
      "795280/795280 [==============================] - 17s 21us/step - loss: 0.1915 - acc: 0.9524 - val_loss: 0.1920 - val_acc: 0.9522\n",
      "Epoch 18/20\n",
      "795280/795280 [==============================] - 17s 21us/step - loss: 0.1914 - acc: 0.9524 - val_loss: 0.1919 - val_acc: 0.9522\n",
      "Epoch 19/20\n",
      "795280/795280 [==============================] - 17s 21us/step - loss: 0.1913 - acc: 0.9524 - val_loss: 0.1919 - val_acc: 0.9522\n",
      "Epoch 20/20\n",
      "795280/795280 [==============================] - 17s 21us/step - loss: 0.1913 - acc: 0.9524 - val_loss: 0.1919 - val_acc: 0.9522\n"
     ]
    }
   ],
   "source": [
    "model4.compile(optimizer='rmsprop',\n",
    "              loss='binary_crossentropy',\n",
    "              metrics=['acc'])\n",
    "history4 = model4.fit(X_train, y_train, epochs=20, batch_size=400, validation_data=(X_test, y_test))"
   ]
  },
  {
   "cell_type": "code",
   "execution_count": 55,
   "metadata": {},
   "outputs": [
    {
     "name": "stdout",
     "output_type": "stream",
     "text": [
      "265094/265094 [==============================] - 5s 20us/step\n",
      "Accuracy: 95.22%\n"
     ]
    }
   ],
   "source": [
    "scores4 = model4.evaluate(X_test, y_test, verbose=1)\n",
    "print(\"Accuracy: %.2f%%\" % (scores[1]*100))"
   ]
  },
  {
   "cell_type": "code",
   "execution_count": 56,
   "metadata": {},
   "outputs": [],
   "source": [
    "#model.save('Data/Spectrograms/Models/cnn_model.h5')"
   ]
  },
  {
   "cell_type": "code",
   "execution_count": 57,
   "metadata": {},
   "outputs": [
    {
     "data": {
      "image/png": "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\n",
      "text/plain": [
       "<Figure size 432x288 with 1 Axes>"
      ]
     },
     "metadata": {
      "needs_background": "light"
     },
     "output_type": "display_data"
    },
    {
     "data": {
      "image/png": "iVBORw0KGgoAAAANSUhEUgAAAXoAAAEICAYAAABRSj9aAAAABHNCSVQICAgIfAhkiAAAAAlwSFlzAAALEgAACxIB0t1+/AAAADh0RVh0U29mdHdhcmUAbWF0cGxvdGxpYiB2ZXJzaW9uMy4xLjIsIGh0dHA6Ly9tYXRwbG90bGliLm9yZy8li6FKAAAgAElEQVR4nO3deZQU5b3/8feXYQBZBAUiCiK4RAUcYGwRfyCLGgMaRdQIiDuGYNQsmt+RS4wxKue6cA3BcDXE9coo+tOgxI0sckPUBBkQEFAEEXUEYRgFRTA4w/f3R9UMPTPdMzVrD8XndU6fruV5qp6u6flU9VPV1ebuiIhIfDXLdANERKRhKehFRGJOQS8iEnMKehGRmFPQi4jEnIJeRCTmFPRSY2aWZWY7zKx7fZbNJDM72szq/VpjMzvDzDYkja8xs1OjlK3Fuh40sym1rV/Fcu8ws0fre7nSeJpnugHS8MxsR9Joa+DfQEk4/kN3z6vJ8ty9BGhb32X3B+5+bH0sx8yuBi5x92FJy766PpYt8aOg3w+4e1nQhkeMV7v7X9OVN7Pm7l7cGG0TkYanrhsp/Wj+lJk9aWZfApeY2Slm9i8z22Zmm8xshpllh+Wbm5mbWY9wfHY4/2Uz+9LM/mlmPWtaNpw/0szeM7PtZnafmb1uZlekaXeUNv7QzNaZ2edmNiOpbpaZ/cbMiszsfWBEFdvnZjObU2HaTDO7Nxy+2szeCV/P++HRdrplFZjZsHC4tZk9HrZtFXBiivWuD5e7yszODaefAPwOODXsFtuatG1vTao/KXztRWb2nJkdGmXbVMfMzgvbs83MXjWzY5PmTTGzjWb2hZm9m/RaB5rZ0nD6ZjO7J+r6pB64ux770QPYAJxRYdodwG7gHIKd/wHAScDJBJ/6jgTeA64LyzcHHOgRjs8GtgIJIBt4Cphdi7LfAr4ERoXzbgC+Aa5I81qitPF5oD3QA/is9LUD1wGrgG5AR2Bh8O+Qcj1HAjuANknL3gIkwvFzwjIGnAbsAnLCeWcAG5KWVQAMC4enAf8LHAQcAayuUPYi4NDwb3Jx2IZDwnlXA/9boZ2zgVvD4TPDNvYDWgH/DbwaZdukeP13AI+Gw8eH7Tgt/BtNCbd7NtAb+BDoEpbtCRwZDi8GxoXD7YCTM/2/sD89dEQvpV5z9z+5+x533+Xui919kbsXu/t6YBYwtIr6z7h7vrt/A+QRBExNy34PWObuz4fzfkOwU0gpYhv/0923u/sGglAtXddFwG/cvcDdi4A7q1jPemAlwQ4I4DvANnfPD+f/yd3Xe+BV4G9AyhOuFVwE3OHun7v7hwRH6cnrfdrdN4V/kycIdtKJCMsFGA886O7L3P1rYDIw1My6JZVJt22qMhaY5+6vhn+jO4EDCXa4xQQ7ld5h998H4baDYId9jJl1dPcv3X1RxNch9UBBL6U+Th4xs+PM7EUz+9TMvgBuAzpVUf/TpOGdVH0CNl3Zw5Lb4e5OcAScUsQ2RloXwZFoVZ4AxoXDFxPsoErb8T0zW2Rmn5nZNoKj6aq2ValDq2qDmV1hZsvDLpJtwHERlwvB6ytbnrt/AXwOdE0qU5O/Wbrl7iH4G3V19zXAjQR/hy1hV2CXsOiVQC9gjZm9aWZnRXwdUg8U9FKq4qWFvyc4ij3a3Q8EbiHommhImwi6UgAwM6N8MFVUlzZuAg5PGq/u8s+ngDPCI+JRBMGPmR0APAP8J0G3SgfgzxHb8Wm6NpjZkcD9wDVAx3C57yYtt7pLQTcSdAeVLq8dQRfRJxHaVZPlNiP4m30C4O6z3X0QQbdNFsF2wd3XuPtYgu65/wKeNbNWdWyLRKSgl3TaAduBr8zseOCHjbDOF4BcMzvHzJoDPwE6N1AbnwZ+amZdzawjcFNVhd19M/Aa8Aiwxt3XhrNaAi2AQqDEzL4HnF6DNkwxsw4WfM/guqR5bQnCvJBgn3c1wRF9qc1At9KTzyk8CUwwsxwza0kQuP9w97SfkGrQ5nPNbFi47v9LcF5lkZkdb2bDw/XtCh8lBC/gUjPrFH4C2B6+tj11bItEpKCXdG4ELif4J/49wRFtgwrDdAxwL1AEHAW8RXDdf3238X6CvvS3CU4UPhOhzhMEJ1efSGrzNuBnwFyCE5oXEuywovgVwSeLDcDLwP8kLXcFMAN4MyxzHJDcr/0XYC2w2cySu2BK679C0IUyN6zfnaDfvk7cfRXBNr+fYCc0Ajg37K9vCdxNcF7lU4JPEDeHVc8C3rHgqq5pwBh3313X9kg0FnSDijQ9ZpZF0FVwobv/I9PtEdlX6YhemhQzG2Fm7cOP/78kuJLjzQw3S2SfpqCXpmYwsJ7g4/8I4Dx3T9d1IyIRqOtGRCTmdEQvIhJzTfKmZp06dfIePXpkuhkiIvuMJUuWbHX3lJcjN8mg79GjB/n5+ZluhojIPsPM0n67W103IiIxp6AXEYm5SEEfXtu8Jrx39eQU84dZcP/wZeHjlqh1RUSkYVXbRx9+O3Emwa1ZC4DFZjbP3VdXKPoPd/9eLeuKSAZ98803FBQU8PXXX2e6KVKNVq1a0a1bN7Kz093mqLIoJ2MHAOtK7ysd/tLOKIIfSWjIuiLSSAoKCmjXrh09evQguGmoNEXuTlFREQUFBfTs2bP6CqEoXTddKX/P7AJS3zr2lPDe2S+bWe8a1sXMJppZvpnlFxYWRmhWeXl50KMHNGsWPOfV6OeuRfZvX3/9NR07dlTIN3FmRseOHWv8yStK0Kf6y1f8Ou1S4Ah37wvcBzxXg7rBRPdZ7p5w90TnzlXdmbayvDyYOBE+/BDcg+eJExX2IjWhkN831ObvFCXoCyj/4wjdCO4oWMbdv3D3HeHwS0C2mXWKUrc+/OIXsHNn+Wk7dwbTRUT2d1GCfjHBbz32NLMWhL8ZmVzAzLqEvwaEmQ0Il1sUpW59+Oijmk0XkaajqKiIfv360a9fP7p06ULXrl3LxnfvjnbL+iuvvJI1a9ZUWWbmzJnk1dPH/MGDB7Ns2bJ6WVZjqPZkrLsXm9l1wHyCnwZ72N1XmdmkcP4DBD+2cI2ZFRP8qszY8Pc+U9at7xfRvXvQXZNquojUv7y84BPzRx8F/2dTp8L4Wv6sSceOHctC89Zbb6Vt27b8/Oc/L1fG3XF3mjVLfWz6yCOPVLuea6+9tnYNjIFI19G7+0vu/m13P8rdp4bTHghDHnf/nbv3dve+7j7Q3d+oqm59mzoVWrcuP61162C6iNSvxjontm7dOvr06cOkSZPIzc1l06ZNTJw4kUQiQe/evbntttvKypYeYRcXF9OhQwcmT55M3759OeWUU9iyZQsAN998M9OnTy8rP3nyZAYMGMCxxx7LG28EkfXVV19xwQUX0LdvX8aNG0cikaj2yH327NmccMIJ9OnThylTpgBQXFzMpZdeWjZ9xowZAPzmN7+hV69e9O3bl0suuaR+N1gVYvHN2PHjYdYsOOIIMAueZ82q/RGGiKTXmOfEVq9ezYQJE3jrrbfo2rUrd955J/n5+Sxfvpy//OUvrF5d+Urt7du3M3ToUJYvX84pp5zCww8/nHLZ7s6bb77JPffcU7bTuO++++jSpQvLly9n8uTJvPXWW1W2r6CggJtvvpkFCxbw1ltv8frrr/PCCy+wZMkStm7dyttvv83KlSu57LLLALj77rtZtmwZy5cv53e/+10dt050sQh6CEJ9wwbYsyd4VsiLNIzGPCd21FFHcdJJJ5WNP/nkk+Tm5pKbm8s777yTMugPOOAARo4cCcCJJ57Ihg0bUi77/PPPr1TmtddeY+zYsQD07duX3r17p6xbatGiRZx22ml06tSJ7OxsLr74YhYuXMjRRx/NmjVr+MlPfsL8+fNp3749AL179+aSSy4hLy+vRl94qqvYBL2INI50574a4pxYmzZtyobXrl3Lb3/7W1599VVWrFjBiBEjUl5P3qJFi7LhrKwsiouLUy67ZcuWlcrU9IeY0pXv2LEjK1asYPDgwcyYMYMf/vCHAMyfP59Jkybx5ptvkkgkKCkpqdH6aktBLyI1kqlzYl988QXt2rXjwAMPZNOmTcyfP7/e1zF48GCefvppAN5+++2UnxiSDRw4kAULFlBUVERxcTFz5sxh6NChFBYW4u58//vf59e//jVLly6lpKSEgoICTjvtNO655x4KCwvZWbEPrIE0yfvRi0jTVdotWl9X3USVm5tLr1696NOnD0ceeSSDBg2q93Vcf/31XHbZZeTk5JCbm0ufPn3Kul1S6datG7fddhvDhg3D3TnnnHM4++yzWbp0KRMmTMDdMTPuuusuiouLufjii/nyyy/Zs2cPN910E+3atav315BKk/zN2EQi4frhEZHG884773D88cdnuhkZV1xcTHFxMa1atWLt2rWceeaZrF27lubNm9Yxcaq/l5ktcfdEqvJNq/UiIhm0Y8cOTj/9dIqLi3F3fv/73ze5kK+Nff8ViIjUkw4dOrBkyZJMN6Pe6WSsiEjMKehFRGJOQS8iEnMKehGRmFPQi0jGDRs2rNIXoKZPn86PfvSjKuu1bdsWgI0bN3LhhRemXXZ1l2tPnz693JeXzjrrLLZt2xal6VW69dZbmTZtWp2XU1cKehHJuHHjxjFnzpxy0+bMmcO4ceMi1T/ssMN45plnar3+ikH/0ksv0aFDh1ovr6lR0ItIxl144YW88MIL/Pvf/wZgw4YNbNy4kcGDB5dd256bm8sJJ5zA888/X6n+hg0b6NOnDwC7du1i7Nix5OTkMGbMGHbt2lVW7pprrim7zfGvfvUrAGbMmMHGjRsZPnw4w4cPB6BHjx5s3boVgHvvvZc+ffrQp0+fstscb9iwgeOPP54f/OAH9O7dmzPPPLPcelJZtmwZAwcOJCcnh9GjR/P555+Xrb9Xr17k5OSU3VDt73//e9mPr/Tv358vv/yy1tsWdB29iFTw059Cff94Ur9+EGZkSh07dmTAgAG88sorjBo1ijlz5jBmzBjMjFatWjF37lwOPPBAtm7dysCBAzn33HPT/nbq/fffT+vWrVmxYgUrVqwgNze3bN7UqVM5+OCDKSkp4fTTT2fFihX8+Mc/5t5772XBggV06tSp3LKWLFnCI488wqJFi3B3Tj75ZIYOHcpBBx3E2rVrefLJJ/nDH/7ARRddxLPPPlvlPeYvu+wy7rvvPoYOHcott9zCr3/9a6ZPn86dd97JBx98QMuWLcu6i6ZNm8bMmTMZNGgQO3bsoFWrVjXY2pXpiF5EmoTk7pvkbht3Z8qUKeTk5HDGGWfwySefsHnz5rTLWbhwYVng5uTkkJOTUzbv6aefJjc3l/79+7Nq1apqb1r22muvMXr0aNq0aUPbtm05//zz+cc//gFAz5496devH1D17ZAhuEf+tm3bGDp0KACXX345CxcuLGvj+PHjmT17dtm3cAcNGsQNN9zAjBkz2LZtW52/nasjehEpp6oj74Z03nnnccMNN7B06VJ27dpVdiSel5dHYWEhS5YsITs7mx49eqS8PXGyVEf7H3zwAdOmTWPx4sUcdNBBXHHFFdUup6p7gZXe5hiCWx1X13WTzosvvsjChQuZN28et99+O6tWrWLy5MmcffbZvPTSSwwcOJC//vWvHHfccbVaPuiIXkSaiLZt2zJs2DCuuuqqcidht2/fzre+9S2ys7NZsGABH6b6gegkQ4YMKfsR8JUrV7JixQoguM1xmzZtaN++PZs3b+bll18uq9OuXbuU/eBDhgzhueeeY+fOnXz11VfMnTuXU089tcavrX379hx00EFlnwYef/xxhg4dyp49e/j4448ZPnw4d999N9u2bWPHjh28//77nHDCCdx0000kEgnefffdGq8zmY7oRaTJGDduHOeff365K3DGjx/POeecQyKRoF+/ftUe2V5zzTVceeWV5OTk0K9fPwYMGAAEvxjVv39/evfuXek2xxMnTmTkyJEceuihLFiwoGx6bm4uV1xxRdkyrr76avr3719lN006jz32GJMmTWLnzp0ceeSRPPLII5SUlHDJJZewfft23J2f/exndOjQgV/+8pcsWLCArKwsevXqVfaLWbWl2xSLiG5TvI+p6W2K1XUjIhJzCnoRkZiLFPRmNsLM1pjZOjObXEW5k8ysxMwuTJq2wczeNrNlZqb+GJEmqil240pltfk7VRv0ZpYFzARGAr2AcWbWK025u4BUv9g73N37pes/EpHMatWqFUVFRQr7Js7dKSoqqvEXqKJcdTMAWOfu6wHMbA4wCqj4TYPrgWeBk2rUAhHJuG7dulFQUEBhYWGmmyLVaNWqFd26datRnShB3xX4OGm8ADg5uYCZdQVGA6dROegd+LOZOfB7d5+VaiVmNhGYCNC9e/dIjReR+pGdnU3Pnj0z3QxpIFH66FPdUKLi57vpwE3uXpKi7CB3zyXo+rnWzIakWom7z3L3hLsnOnfuHKFZIiISRZQj+gLg8KTxbsDGCmUSwJzwa8edgLPMrNjdn3P3jQDuvsXM5hJ0BS2sc8tFRCSSKEf0i4FjzKynmbUAxgLzkgu4e0937+HuPYBngB+5+3Nm1sbM2gGYWRvgTGBlvb4CERGpUrVH9O5ebGbXEVxNkwU87O6rzGxSOP+BKqofAswNj/SbA0+4+yt1b7aIiESlWyCIiMSAboEgIrIfU9CLiMScgl5EJOYU9CIiMaegFxGJOQW9iEjMKehFRGJOQS8iEnMKehGRmFPQi4jEnIJeRCTmFPQiIjGnoBcRiTkFvYhIzCnoRURiTkEvIhJzCnoRkZhT0IuIxJyCXkQk5hT0IiIxp6AXEYk5Bb2ISMxFCnozG2Fma8xsnZlNrqLcSWZWYmYX1rSuiIg0jGqD3syygJnASKAXMM7MeqUpdxcwv6Z1RUSk4UQ5oh8ArHP39e6+G5gDjEpR7nrgWWBLLeqKiEgDiRL0XYGPk8YLwmllzKwrMBp4oKZ1k5Yx0czyzSy/sLAwQrNERCSKKEFvKaZ5hfHpwE3uXlKLusFE91nunnD3ROfOnSM0S0REomgeoUwBcHjSeDdgY4UyCWCOmQF0As4ys+KIdUVEpAFFCfrFwDFm1hP4BBgLXJxcwN17lg6b2aPAC+7+nJk1r66uiIg0rGqD3t2Lzew6gqtpsoCH3X2VmU0K51fsl6+2bv00XUREojD3lF3mGZVIJDw/Pz/TzRAR2WeY2RJ3T6Sap2/GiojEnIJeRCTmFPQiIjGnoBcRiTkFvYhIzCnoRURiTkEvIhJzCnoRkZhT0IuIxJyCXkQk5hT0IiIxp6AXEYk5Bb2ISMwp6EVEYk5BLyIScwp6EZGYU9CLiMScgl5EJOYU9CIiMaegFxGJOQW9iEjMKehFRGJOQS8iEnORgt7MRpjZGjNbZ2aTU8wfZWYrzGyZmeWb2eCkeRvM7O3SefXZeBERqV7z6gqYWRYwE/gOUAAsNrN57r46qdjfgHnu7maWAzwNHJc0f7i7b63HdouISERRjugHAOvcfb277wbmAKOSC7j7Dnf3cLQN4IiISJMQJei7Ah8njReE08oxs9Fm9i7wInBV0iwH/mxmS8xsYrqVmNnEsNsnv7CwMFrrRUSkWlGC3lJMq3TE7u5z3f044Dzg9qRZg9w9FxgJXGtmQ1KtxN1nuXvC3ROdO3eO0CwREYkiStAXAIcnjXcDNqYr7O4LgaPMrFM4vjF83gLMJegKEhGRRhIl6BcDx5hZTzNrAYwF5iUXMLOjzczC4VygBVBkZm3MrF04vQ1wJrCyPl+AiIhUrdqrbty92MyuA+YDWcDD7r7KzCaF8x8ALgAuM7NvgF3AmPAKnEOAueE+oDnwhLu/0kCvRUREUrC9F8s0HYlEwvPzdcm9iEhUZrbE3ROp5umbsSIiMaegFxGJOQW9iEjMKehFRGJOQS8iEnMKehGRmFPQi4jEnIJeRCTmFPQiIjGnoBcRiTkFvYhIzCnoRURiTkEvIhJzCnoRkZhT0IuIxJyCXkQk5hT0IiIxp6AXEYk5Bb2ISMwp6EVEYk5BLyIScwp6EZGYixT0ZjbCzNaY2Tozm5xi/igzW2Fmy8ws38wGR60rIiINq9qgN7MsYCYwEugFjDOzXhWK/Q3o6+79gKuAB2tQV0REGlCUI/oBwDp3X+/uu4E5wKjkAu6+w909HG0DeNS6IiLSsKIEfVfg46TxgnBaOWY22szeBV4kOKqPXDesPzHs9skvLCyM0nYREYkgStBbimleaYL7XHc/DjgPuL0mdcP6s9w94e6Jzp07R2iWiIhEESXoC4DDk8a7ARvTFXb3hcBRZtappnVFRKT+RQn6xcAxZtbTzFoAY4F5yQXM7Ggzs3A4F2gBFEWpKyIiDat5dQXcvdjMrgPmA1nAw+6+yswmhfMfAC4ALjOzb4BdwJjw5GzKug30WkREJAXbe7FM05FIJDw/Pz/TzRAR2WeY2RJ3T6Sap2/GiojEnIJeRCTmFPQiIjGnoBcRiTkFvYhIzCnoRURiTkEvIhJzCnoRkZhT0IuIxJyCXkQk5hT0IiIxp6AXEYk5Bb2ISMwp6EVEYk5BLyIScwp6EZGYU9CLiMScgl5EJOYU9CIiMaegFxGJOQW9iEjMKehFRGJOQS8iEnORgt7MRpjZGjNbZ2aTU8wfb2YrwscbZtY3ad4GM3vbzJaZWX59Nl5ERKrXvLoCZpYFzAS+AxQAi81snruvTir2ATDU3T83s5HALODkpPnD3X1rPbZbREQiinJEPwBY5+7r3X03MAcYlVzA3d9w98/D0X8B3eq3mSIiUltRgr4r8HHSeEE4LZ0JwMtJ4w782cyWmNnEdJXMbKKZ5ZtZfmFhYYRmiYhIFNV23QCWYpqnLGg2nCDoBydNHuTuG83sW8BfzOxdd19YaYHuswi6fEgkEimXLyIiNRfliL4AODxpvBuwsWIhM8sBHgRGuXtR6XR33xg+bwHmEnQFiYhII4kS9IuBY8ysp5m1AMYC85ILmFl34I/Ape7+XtL0NmbWrnQYOBNYWV+NFxGR6lXbdePuxWZ2HTAfyAIedvdVZjYpnP8AcAvQEfhvMwModvcEcAgwN5zWHHjC3V9pkFciIiIpmXvT6w5PJBKen69L7kVEojKzJeEBdiX6ZqyISMwp6EVEYk5BLyIScwp6EZGYU9CLiMScgl5EJOYU9CIiMaegFxGJOQW9iEjMKehFRGJOQS8iEnMKehGRmFPQi4jEXKyC/tVXYfv2TLdCRKRpiU3QFxXBqFEwbBhs3pzp1oiINB2xCfqOHeGZZ+C992DwYNiwIdMtEhFpGmIT9ADf/S787W/B0f2gQbBSP1ooIhKvoAcYOBAWLgR3GDIE/vnPTLdIRCSzYhf0AH36wOuvB905Z5wB8+dnukUiIpkTy6AH6NkTXnsNjjkGzjkHnnoq0y0SEcmM2AY9wCGHwN//HnTnjBsH99+f6RaJiDS+WAc9QPv2QdfN2WfDj34Ed9wR9N+LiOwvIgW9mY0wszVmts7MJqeYP97MVoSPN8ysb9S6jeGAA+CPf4RLL4Vf/hJuuAH27ClfJi8PevSAZs2C57y8TLRURKT+Na+ugJllATOB7wAFwGIzm+fuq5OKfQAMdffPzWwkMAs4OWLdRpGdDY8+GpygnT49uATzoYeC6Xl5MHEi7NwZlP3ww2AcYPz4xm6piEj9inJEPwBY5+7r3X03MAcYlVzA3d9w98/D0X8B3aLWbUzNmsG998Ltt8Pjj8MFF8CuXfCLX+wN+VI7dwbTRUT2ddUe0QNdgY+TxguAk6soPwF4uZZ1G5wZ3HxzcGR/7bXBl6w+/DB12Y8+aty2iYg0hChBbymmpTydaWbDCYJ+cC3qTgQmAnTv3j1Cs+rmmmvg4IODfvvsbPjmm8plGqEZIiINLkrXTQFweNJ4N2BjxUJmlgM8CIxy96Ka1AVw91nunnD3ROfOnaO0vc7GjIE//Sno0rEKu6TWrWHq1OjL0slcEWmqogT9YuAYM+tpZi2AscC85AJm1h34I3Cpu79Xk7qZ9t3vwoIFQbBnZQXTunSB++6LfiK29GTuhx8Gl26WnsxV2Is0jroeaO3r9atjHuGicjM7C5gOZAEPu/tUM5sE4O4PmNmDwAVAaW93sbsn0tWtbn2JRMLz8/Nr83pqbeVKOOss+Dg8o2AWbPBevco/jj8e2rUrX7dHj9T9/EccEf0umnl5wcnfjz4KuoymTtUVPyJRVLxqDqBVq+A7M+eeu/fTerrn55+H//gP+Prr8vXvvBNGj65+/XPnwuTJlevfdVf0+jfdVL5+69Ywa1bNMsDMlpTmbqV5UYK+sWUi6CHop3//fVi1Clav3vtYswb+/e+95Q4/vHz4/+AHqZdnVvl6/VRSvVFr+ofWjkL2V4cdBps2ZboV9a8mB4qgoK+z4mL44IPy4b96NbzzTnB5Zjrt2wd79S5dgtsxlD4fcED5cnX9RNAUdhTa0Uhj+vJLmDMH/vAHWLw4fbnHHw+eS2Mu1fOVV6av/9BD1bdlwoT08x58sPr6V1+denrUA8W95dMHPe7e5B4nnnii7wtKStzXr3e/8Ub37Gz34G1T/aN9e/djj3UfOtR9zJiqyz7xRPDIy9v7mD177+Pxx907dkxdt3v3aK9j9mz31q3L123dOpjeGPVLl3HEEe5mwXNN6qp+3evXVWOsf88e90WL3K++2r1Nm+B91qeP+0EHpX7/H3FEtOUeccS+Xb8UkO9pMjXjoZ7qsa8EfbJUb/Tdu90/+cR9yRL3F190f+gh96lT3a+/3v3733cfMsT9298O6kTdSdT00bmze06O+4gR7lde6T5livt997k/84z7668HO6ru3TP7Rs30jmZ/r1+6jNoGdUOv/7PP3GfMcD/hhL3Lvuoq93/+Mwj/TG+/TNcvVVXQq+umCcjLC/r5k7uBWrWC224LTiaVSr4ENHl42DDYmOKi1fbtg0tIN23a+/j0Uygpid620aOhZUto0WLvc8Xhm29OX3/27OBKgmbNgquaSoeTH1deCVu2VK576KHB3UeT11f63Lz53m2Qruure/ege+2rr4JurYrPpcM/+xl89lnl+p07ByfKOnQItmWHDtCmTeVLceva9Zbp+nXt+muI9R9wANx4Y1D/mWeCExw1f+8AAAbySURBVJUnnhj8n4wbBwceWHkZmex6zHR9UB/9PqEuf+ia/KOWlMDWreXD/8YbYdu2ystt0QK+/e3gRPTu3cEjeXj37tq/3roy2xv8X3zReOvNytob+qU7gAUL0pc///wgpHbtCp6Th0uft29PX/+oo4KdS9u2wXOqxx13pK//6qt7d8ilj+zs8uP9+u292ixZ1KBu1iz1HWGj9jGn21FAEOjjxwcB379/9cvanyno9wONtaNI5h5cqfT443D99ZU/kUydGvzoy549wQ5mz57Uj1Gjgk8aFXXqFNyArnTnku75wQdhx47K9du3hylTgtfSpk3wnDxc+jxsGBQUVK7fpQs89lgQxNu2BY9Uw4sWpf5mdfPmcOyxwbY44IDgOXm49PnRR1PvrNq2DbbfV1/tfezYUX58587UIVtfWrYMArv0UfrlwuTx7dtTB3pWVnDxQcU6FZezbl369X/1VfA3kupVFfRRboEg+4Dx42t/lUtpvZruKEqPqidMCAKrtjuaadNS72imT4+2jEQidf2ZM6PVv/PO1PWnTYMzz6y+fl27PgYMSF3/gQeqr+8OjzwC111XfkfbsmVwbfZpp5X/BPbNN5XHf/Ur+Pzzyss+8MDgViGlPcd79qQefvfd4FNNcfHeullZcOqpwSeS5LIV67oH3Y4VbyoIwScKhXw9Sdd5n8nHvngyVuom01ed7M/143AyV3QyVkSqkenvQWR6/XGgPnoRkZirKuhj/5uxIiL7OwW9iEjMKehFRGJOQS8iEnMKehGRmFPQi4jEXJO8vNLMCtn7a1U11QnYWo/NqW9qX92ofXWj9tVNU27fEe6e8ge3m2TQ14WZ5ae7lrQpUPvqRu2rG7Wvbpp6+9JR142ISMwp6EVEYi6OQT8r0w2ohtpXN2pf3ah9ddPU25dS7ProRUSkvDge0YuISBIFvYhIzO2TQW9mI8xsjZmtM7PJKeabmc0I568ws9xGbt/hZrbAzN4xs1Vm9pMUZYaZ2XYzWxY+bmnkNm4ws7fDdVe6J3Qmt6GZHZu0XZaZ2Rdm9tMKZRp1+5nZw2a2xcxWJk072Mz+YmZrw+eD0tSt8v3agO27x8zeDf9+c82sQ5q6Vb4XGrB9t5rZJ0l/w7PS1M3U9nsqqW0bzGxZmroNvv3qLN0vkjTVB5AFvA8cCbQAlgO9KpQ5C3gZMGAgsKiR23gokBsOtwPeS9HGYcALGdyOG4BOVczP6Das8Pf+lODLIBnbfsAQIBdYmTTtbmByODwZuCtN+6t8vzZg+84EmofDd6VqX5T3QgO271bg5xH+/hnZfhXm/xdwS6a2X10f++IR/QBgnbuvd/fdwBxgVIUyo4D/8cC/gA5mdmhjNdDdN7n70nD4S+AdoGtjrb+eZHQbJjkdeN/da/tN6Xrh7guBzypMHgU8Fg4/BpyXomqU92uDtM/d/+zupb/k+i+gW32vN6o02y+KjG2/UmZmwEXAk/W93sayLwZ9V+DjpPECKodolDKNwsx6AP2BRSlmn2Jmy83sZTPr3agNAwf+bGZLzGxiivlNZRuOJf0/WCa3H8Ah7r4Jgp078K0UZZrKdryK4BNaKtW9FxrSdWHX0sNpur6awvY7Fdjs7mvTzM/k9otkXwx6SzGt4jWiUco0ODNrCzwL/NTdv6gweylBd0Rf4D7guUZu3iB3zwVGAtea2ZAK8zO+Dc2sBXAu8P9SzM709ouqKWzHXwDFQF6aItW9FxrK/cBRQD9gE0H3SEUZ337AOKo+ms/U9otsXwz6AuDwpPFuwMZalGlQZpZNEPJ57v7HivPd/Qt33xEOvwRkm1mnxmqfu28Mn7cAcwk+IifL+DYk+MdZ6u6bK87I9PYLbS7tzgqft6Qok9HtaGaXA98DxnvYoVxRhPdCg3D3ze5e4u57gD+kWW+mt19z4HzgqXRlMrX9amJfDPrFwDFm1jM84hsLzKtQZh5wWXjlyEBge+lH7MYQ9uk9BLzj7vemKdMlLIeZDSD4WxQ1UvvamFm70mGCk3YrKxTL6DYMpT2SyuT2SzIPuDwcvhx4PkWZKO/XBmFmI4CbgHPdfWeaMlHeCw3VvuRzPqPTrDdj2y90BvCuuxekmpnJ7VcjmT4bXJsHwRUh7xGcjf9FOG0SMCkcNmBmOP9tINHI7RtM8PFyBbAsfJxVoY3XAasIriL4F/B/GrF9R4brXR62oSluw9YEwd0+aVrGth/BDmcT8A3BUeYEoCPwN2Bt+HxwWPYw4KWq3q+N1L51BP3bpe/BByq2L917oZHa93j43lpBEN6HNqXtF05/tPQ9l1S20bdfXR+6BYKISMzti103IiJSAwp6EZGYU9CLiMScgl5EJOYU9CIiMaegFxGJOQW9iEjM/X+gU3kTP5zsjAAAAABJRU5ErkJggg==\n",
      "text/plain": [
       "<Figure size 432x288 with 1 Axes>"
      ]
     },
     "metadata": {
      "needs_background": "light"
     },
     "output_type": "display_data"
    }
   ],
   "source": [
    "acc = history4.history['acc']\n",
    "val_acc = history4.history['val_acc']\n",
    "loss = history4.history['loss']\n",
    "val_loss = history4.history['val_loss']\n",
    "\n",
    "\n",
    "epochs = range(len(acc))\n",
    "\n",
    "plt.plot(epochs, acc, 'bo', label='Training acc')\n",
    "plt.plot(epochs, val_acc, 'b', label='Validation acc')\n",
    "plt.title('Training and validation accuracy')\n",
    "plt.legend()\n",
    "\n",
    "plt.figure()\n",
    "\n",
    "plt.plot(epochs, loss, 'bo', label='Training loss')\n",
    "plt.plot(epochs, val_loss, 'b', label='Validation loss')\n",
    "plt.title('Training and validation loss')\n",
    "plt.legend()\n",
    "\n",
    "plt.show()"
   ]
  },
  {
   "cell_type": "code",
   "execution_count": null,
   "metadata": {},
   "outputs": [],
   "source": []
  }
 ],
 "metadata": {
  "kernelspec": {
   "display_name": "Python 3",
   "language": "python",
   "name": "python3"
  },
  "language_info": {
   "codemirror_mode": {
    "name": "ipython",
    "version": 3
   },
   "file_extension": ".py",
   "mimetype": "text/x-python",
   "name": "python",
   "nbconvert_exporter": "python",
   "pygments_lexer": "ipython3",
   "version": "3.7.4"
  }
 },
 "nbformat": 4,
 "nbformat_minor": 2
}
