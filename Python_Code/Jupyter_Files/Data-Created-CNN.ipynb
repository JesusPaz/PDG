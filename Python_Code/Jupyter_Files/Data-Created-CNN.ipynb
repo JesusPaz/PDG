{
 "cells": [
  {
   "cell_type": "code",
   "execution_count": 3,
   "metadata": {},
   "outputs": [],
   "source": [
    "#import librosa\n",
    "#import librosa.display\n",
    "import numpy as np\n",
    "import matplotlib.pyplot as plt\n",
    "import pylab\n",
    "from os import scandir\n",
    "import contextlib\n",
    "import random\n",
    "import wave\n",
    "import pandas as pd\n",
    "import seaborn as sns\n",
    "from sklearn.model_selection import train_test_split \n",
    "from sklearn.preprocessing import MinMaxScaler"
   ]
  },
  {
   "cell_type": "code",
   "execution_count": 4,
   "metadata": {},
   "outputs": [
    {
     "ename": "ModuleNotFoundError",
     "evalue": "No module named 'tensorflow'",
     "output_type": "error",
     "traceback": [
      "\u001b[1;31m---------------------------------------------------------------------------\u001b[0m",
      "\u001b[1;31mModuleNotFoundError\u001b[0m                       Traceback (most recent call last)",
      "\u001b[1;32m<ipython-input-4-202e2e1a3257>\u001b[0m in \u001b[0;36m<module>\u001b[1;34m\u001b[0m\n\u001b[1;32m----> 1\u001b[1;33m \u001b[1;32mfrom\u001b[0m \u001b[0mtensorflow\u001b[0m\u001b[1;33m.\u001b[0m\u001b[0mmodels\u001b[0m \u001b[1;32mimport\u001b[0m \u001b[0mSequential\u001b[0m\u001b[1;33m\u001b[0m\u001b[1;33m\u001b[0m\u001b[0m\n\u001b[0m\u001b[0;32m      2\u001b[0m \u001b[1;32mfrom\u001b[0m \u001b[0mtensorflow\u001b[0m\u001b[1;33m.\u001b[0m\u001b[0mlayers\u001b[0m \u001b[1;32mimport\u001b[0m \u001b[0mDense\u001b[0m\u001b[1;33m\u001b[0m\u001b[1;33m\u001b[0m\u001b[0m\n\u001b[0;32m      3\u001b[0m \u001b[1;32mfrom\u001b[0m \u001b[0mtensorflow\u001b[0m\u001b[1;33m.\u001b[0m\u001b[0mlayers\u001b[0m \u001b[1;32mimport\u001b[0m \u001b[0mLSTM\u001b[0m\u001b[1;33m\u001b[0m\u001b[1;33m\u001b[0m\u001b[0m\n\u001b[0;32m      4\u001b[0m \u001b[1;32mfrom\u001b[0m \u001b[0mtensorflow\u001b[0m\u001b[1;33m.\u001b[0m\u001b[0mlayers\u001b[0m \u001b[1;32mimport\u001b[0m \u001b[0mFlatten\u001b[0m\u001b[1;33m\u001b[0m\u001b[1;33m\u001b[0m\u001b[0m\n\u001b[0;32m      5\u001b[0m \u001b[1;32mfrom\u001b[0m \u001b[0mtensorflow\u001b[0m\u001b[1;33m.\u001b[0m\u001b[0mlayers\u001b[0m \u001b[1;32mimport\u001b[0m \u001b[0mDropout\u001b[0m\u001b[1;33m\u001b[0m\u001b[1;33m\u001b[0m\u001b[0m\n",
      "\u001b[1;31mModuleNotFoundError\u001b[0m: No module named 'tensorflow'"
     ]
    }
   ],
   "source": [
    "from tensorflow.models import Sequential\n",
    "from tensorflow.layers import Dense\n",
    "from tensorflow.layers import LSTM\n",
    "from tensorflow.layers import Flatten\n",
    "from tensorflow.layers import Dropout\n",
    "\n",
    "from tensorflow.layers.embeddings import Embedding\n",
    "from tensorflow.preprocessing import sequence\n",
    "\n",
    "from tensorflow.layers.convolutional import Conv1D\n",
    "from tensorflow.layers.convolutional import MaxPooling1D\n",
    "# fix random seed for reproducibility\n",
    "np.random.seed(7)"
   ]
  },
  {
   "cell_type": "markdown",
   "metadata": {},
   "source": [
    "### Create all the matrix spectrograms"
   ]
  },
  {
   "cell_type": "code",
   "execution_count": 3,
   "metadata": {},
   "outputs": [],
   "source": [
    "def ls(path): \n",
    "    return [obj.name for obj in scandir(path) if obj.is_file()]"
   ]
  },
  {
   "cell_type": "code",
   "execution_count": 4,
   "metadata": {},
   "outputs": [],
   "source": [
    "# Return the index of the columns that corresponds to the value in the beat \n",
    "# Beat in miliseconds\n",
    "def getColumnIndexFromTime(beat, ColumnDuration):\n",
    "    return int(beat/ColumnDuration)"
   ]
  },
  {
   "cell_type": "code",
   "execution_count": 115,
   "metadata": {},
   "outputs": [],
   "source": [
    "goodSongs = [\"313\", \"324\", \"339\", \"346\", \"347\", \"350\", \"362\", \"380\", \"382\", \"391\", \"394\", \"398\", \"404\", \"406\", \"410\", \"418\"\n",
    "             , \"438\", \"442\", \"445\", \"453\", \"467\", \"470\", \"479\", \"449\", \"506\", \"511\", \"519\", \"526\", \"528\", \"539\", \"558\", \n",
    "             \"585\", \"599\", \"603\", \"613\", \"629\", \"632\", \"634\", \"637\", \"639\", \"671\", \"674\", \"699\", \"708\", \"716\", \"719\", \"721\"]"
   ]
  },
  {
   "cell_type": "code",
   "execution_count": 6,
   "metadata": {},
   "outputs": [
    {
     "data": {
      "text/plain": [
       "47"
      ]
     },
     "execution_count": 6,
     "metadata": {},
     "output_type": "execute_result"
    }
   ],
   "source": [
    "len(goodSongs)"
   ]
  },
  {
   "cell_type": "code",
   "execution_count": 7,
   "metadata": {
    "scrolled": true
   },
   "outputs": [
    {
     "name": "stdout",
     "output_type": "stream",
     "text": [
      "313 - 40 - 23127  -  10.6847 ms  -  247.10497916666668\n",
      "324 - 40 - 26612  -  10.8024 ms  -  287.4729791666667\n",
      "339 - 40 - 27048  -  10.8767 ms  -  294.19297916666665\n",
      "346 - 40 - 26862  -  10.8439 ms  -  291.28897916666665\n",
      "347 - 40 - 14033  -  10.8704 ms  -  152.54497916666668\n",
      "350 - 40 - 16813  -  10.8374 ms  -  182.20897916666667\n",
      "362 - 40 - 15016  -  10.7582 ms  -  161.54497916666668\n",
      "380 - 40 - 15788  -  10.9056 ms  -  172.17697916666665\n",
      "382 - 40 - 22618  -  10.8063 ms  -  244.41697916666666\n",
      "391 - 40 - 32461  -  10.7686 ms  -  349.56097916666664\n",
      "394 - 40 - 15804  -  11.0039 ms  -  173.90497916666666\n",
      "398 - 40 - 31846  -  10.8455 ms  -  345.38497916666665\n",
      "404 - 40 - 25757  -  10.7827 ms  -  277.72897916666665\n",
      "406 - 40 - 20636  -  10.8452 ms  -  223.80097916666668\n",
      "410 - 40 - 26199  -  10.7931 ms  -  282.76897916666667\n",
      "418 - 40 - 26767  -  10.7909 ms  -  288.84097916666667\n",
      "438 - 40 - 38228  -  10.6779 ms  -  408.19297916666665\n",
      "442 - 40 - 16345  -  10.8746 ms  -  177.74497916666667\n",
      "445 - 40 - 22520  -  10.8331 ms  -  243.96097916666668\n",
      "453 - 40 - 29102  -  10.7432 ms  -  312.64897916666666\n",
      "467 - 40 - 28109  -  10.7923 ms  -  303.36097916666665\n",
      "470 - 40 - 21753  -  10.9139 ms  -  237.40897916666665\n",
      "479 - 40 - 20067  -  10.9458 ms  -  219.64897916666666\n",
      "506 - 40 - 19776  -  10.693 ms  -  211.46497916666667\n",
      "511 - 40 - 16671  -  10.947 ms  -  182.49697916666668\n",
      "519 - 40 - 31540  -  10.8982 ms  -  343.72897916666665\n",
      "526 - 40 - 31619  -  10.7374 ms  -  339.50497916666666\n",
      "528 - 40 - 21618  -  10.8144 ms  -  233.78497916666666\n",
      "539 - 40 - 15936  -  10.7952 ms  -  172.03297916666668\n",
      "558 - 40 - 19580  -  10.8797 ms  -  213.02497916666667\n",
      "585 - 40 - 30189  -  10.668 ms  -  322.0569791666667\n",
      "599 - 40 - 14768  -  10.9437 ms  -  161.61697916666665\n",
      "603 - 40 - 18856  -  10.6674 ms  -  201.14497916666667\n",
      "613 - 40 - 24743  -  10.6688 ms  -  263.9769791666667\n",
      "629 - 40 - 28390  -  10.7582 ms  -  305.4249791666667\n",
      "632 - 40 - 16685  -  10.8616 ms  -  181.22497916666666\n",
      "634 - 40 - 18590  -  11.0202 ms  -  204.86497916666667\n",
      "637 - 40 - 19999  -  10.755 ms  -  215.08897916666666\n",
      "639 - 40 - 28747  -  10.7348 ms  -  308.5929791666667\n",
      "671 - 40 - 24464  -  10.8679 ms  -  265.87297916666665\n",
      "674 - 40 - 38510  -  10.7249 ms  -  413.01697916666666\n",
      "699 - 40 - 19879  -  10.9177 ms  -  217.03297916666668\n",
      "708 - 40 - 21887  -  10.8207 ms  -  236.83297916666666\n",
      "716 - 40 - 18341  -  10.8034 ms  -  198.14497916666667\n",
      "719 - 40 - 12721  -  11.1973 ms  -  142.44097916666666\n",
      "721 - 40 - 23354  -  10.7679 ms  -  251.47297916666668\n"
     ]
    }
   ],
   "source": [
    "path = '../../../PD/cancionesytags'\n",
    "songs = ls(path)\n",
    "msg = \"\"\n",
    "specs_dir = {}\n",
    "#Frame rate\n",
    "sr = 48000\n",
    "#print(\"File - mels - #Columns - ColumnDuration - SongDuration\")\n",
    "\n",
    "colsDuration = {}\n",
    "for song in songs:\n",
    "    data = song.split(\".\")\n",
    "    if data[1] == \"wav\" and (data[0] in goodSongs):\n",
    "        file_path = path+\"/\"+song\n",
    "        \n",
    "        # Get the duration of a song\n",
    "        with contextlib.closing(wave.open(file_path,'r')) as f:\n",
    "            frames = f.getnframes()\n",
    "            duration = frames / float(sr)\n",
    "            \n",
    "        y, sr = librosa.load(file_path, sr=48000, duration=duration)\n",
    "        whale_song, _ = librosa.effects.trim(y)\n",
    "\n",
    "        n_mels = 40\n",
    "        hop_length = 512\n",
    "        n_fft = 2048\n",
    "\n",
    "        S = librosa.feature.melspectrogram(whale_song, sr=sr, n_fft=n_fft, \n",
    "                                           hop_length=hop_length, \n",
    "                                           n_mels=n_mels)\n",
    "        S_DB = librosa.power_to_db(S, ref=np.max)\n",
    "        \n",
    "        specs_dir[data[0]] = S_DB\n",
    "        np.savetxt(\"Data/Spectrograms/Matrix/\"+data[0]+\".csv\", S_DB, delimiter=\",\")\n",
    "\n",
    "        oneSecLength = len(S_DB[0])/duration\n",
    "        colsDuration[data[0]] = (1/oneSecLength)\n",
    "        print(data[0] + \" - \" + str(len(S_DB)) + \" - \" + str(len(S_DB[0])) + \"  -  \" + str(round((1/oneSecLength)*1000, 4))+ \" ms  -  \"+str(duration ))"
   ]
  },
  {
   "cell_type": "code",
   "execution_count": 8,
   "metadata": {},
   "outputs": [],
   "source": [
    "def getListBeats(song, columns, beats):\n",
    "    beatsList = [0] * columns\n",
    "    badBeats = 0\n",
    "    for beat in range(len(beats)):\n",
    "        col = getColumnIndexFromTime(beat, colsDuration[song])\n",
    "        if col > columns:\n",
    "            badBeats+=1\n",
    "        else:\n",
    "            beatsList[col] = 1\n",
    "    \n",
    "    print(song+\" - Bad beats: \"+str(badBeats))\n",
    "    return beatsList"
   ]
  },
  {
   "cell_type": "code",
   "execution_count": 9,
   "metadata": {},
   "outputs": [],
   "source": [
    "def loadAllBeats():\n",
    "    path = 'Data/Processed_Songs'\n",
    "    songs = ls(path)\n",
    "    beatsList = {}\n",
    "    \n",
    "    for song in songs:\n",
    "        totalPath = path +\"/\"+song\n",
    "        \n",
    "        f = open(totalPath, \"r\")\n",
    "        beats = []\n",
    "        while(True):\n",
    "            line = f.readline()\n",
    "            if not line:\n",
    "                break\n",
    "            data = line.split(\",\")\n",
    "            beat = int(data[0])/1000\n",
    "            beats.append(beat)\n",
    "        \n",
    "        aux = song.split(\".\")\n",
    "        beatsList[aux[0]] = beats\n",
    "        f.close()\n",
    "        \n",
    "    return beatsList"
   ]
  },
  {
   "cell_type": "code",
   "execution_count": 10,
   "metadata": {
    "scrolled": true
   },
   "outputs": [
    {
     "name": "stdout",
     "output_type": "stream",
     "text": [
      "313 - Bad beats: 0\n",
      "324 - Bad beats: 110\n",
      "339 - Bad beats: 307\n",
      "346 - Bad beats: 309\n",
      "347 - Bad beats: 100\n",
      "350 - Bad beats: 84\n",
      "362 - Bad beats: 65\n",
      "380 - Bad beats: 23\n",
      "382 - Bad beats: 174\n",
      "391 - Bad beats: 131\n",
      "394 - Bad beats: 63\n",
      "398 - Bad beats: 126\n",
      "404 - Bad beats: 65\n",
      "406 - Bad beats: 84\n",
      "410 - Bad beats: 107\n",
      "418 - Bad beats: 107\n",
      "438 - Bad beats: 235\n",
      "442 - Bad beats: 114\n",
      "445 - Bad beats: 9\n",
      "453 - Bad beats: 108\n",
      "467 - Bad beats: 79\n",
      "470 - Bad beats: 112\n",
      "479 - Bad beats: 28\n",
      "506 - Bad beats: 182\n",
      "511 - Bad beats: 82\n",
      "519 - Bad beats: 153\n",
      "526 - Bad beats: 216\n",
      "528 - Bad beats: 97\n",
      "539 - Bad beats: 140\n",
      "558 - Bad beats: 180\n",
      "585 - Bad beats: 135\n",
      "599 - Bad beats: 107\n",
      "603 - Bad beats: 206\n",
      "613 - Bad beats: 108\n",
      "629 - Bad beats: 139\n",
      "632 - Bad beats: 137\n",
      "634 - Bad beats: 69\n",
      "637 - Bad beats: 117\n",
      "639 - Bad beats: 46\n",
      "671 - Bad beats: 115\n",
      "674 - Bad beats: 45\n",
      "699 - Bad beats: 117\n",
      "708 - Bad beats: 96\n",
      "716 - Bad beats: 151\n",
      "719 - Bad beats: 95\n",
      "721 - Bad beats: 136\n"
     ]
    }
   ],
   "source": [
    "df =  pd.DataFrame()\n",
    "beats = loadAllBeats()\n",
    "for song in specs_dir:\n",
    "    matrix = specs_dir[song]\n",
    "    matrix = matrix.transpose()\n",
    "    aux = pd.DataFrame(matrix)\n",
    "    col = [x for x in range(len(matrix))]\n",
    "    aux['Song'] = song \n",
    "    aux['ColumnOrder'] = col\n",
    "    aux[\"isBeat\"] = getListBeats(song, len(matrix), beats[song])\n",
    "    names = ['Song','ColumnOrder', 'isBeat']\n",
    "    index = [x for x in range(40)]\n",
    "    names += index\n",
    "    aux = aux[names]\n",
    "    aux[['isBeat']] = aux[['isBeat']].astype(str)\n",
    "    df = pd.concat([df, aux])"
   ]
  },
  {
   "cell_type": "code",
   "execution_count": null,
   "metadata": {},
   "outputs": [],
   "source": [
    "# 3 minutos por cancion\n",
    "\n",
    "numTotalCols = 23\n",
    "numImportantCols = 5\n",
    "numMels = 40\n",
    "\n",
    "#goodSongs = [\"313\", \"324\"]\n",
    "\n",
    "totalLen = 0\n",
    "# find the total size of the matrix\n",
    "for x in goodSongs:\n",
    "    totalLen += (df[df.Song==x].shape[0] - numTotalCols)\n",
    "    \n",
    "totalLen += 1000"
   ]
  },
  {
   "cell_type": "code",
   "execution_count": 116,
   "metadata": {
    "scrolled": false
   },
   "outputs": [
    {
     "name": "stdout",
     "output_type": "stream",
     "text": [
      "313\n",
      "2.1810773789688027 %\n",
      "324\n",
      "4.691147774978217 %\n",
      "339\n",
      "7.242377699087976 %\n",
      "346\n",
      "9.776048741943919 %\n",
      "347\n",
      "11.098628991223391 %\n",
      "350\n",
      "12.683648433436264 %\n",
      "362\n",
      "14.099026426116287 %\n",
      "380\n",
      "15.58728321625839 %\n",
      "382\n",
      "17.720309678247663 %\n",
      "391\n",
      "20.782540807878462 %\n",
      "394\n",
      "22.272308039418746 %\n",
      "398\n",
      "25.276481577807086 %\n",
      "404\n",
      "27.70583776160137 %\n",
      "406\n",
      "29.65175829539136 %\n",
      "410\n",
      "32.122840422810306 %\n",
      "418\n",
      "34.647543219864566 %\n",
      "438\n",
      "38.2541940709511 %\n",
      "442\n",
      "39.79503310226727 %\n",
      "445\n",
      "41.918808110692694 %\n",
      "453\n",
      "44.66394094929354 %\n",
      "467\n",
      "47.31533201861996 %\n",
      "470\n",
      "49.366700242520245 %\n",
      "479\n",
      "51.258905704087546 %\n",
      "449\n",
      "51.258905704087546 %\n",
      "506\n",
      "53.123640012725474 %\n",
      "511\n",
      "54.695254287529515 %\n",
      "519\n",
      "57.670540634177705 %\n",
      "526\n",
      "60.65328478522939 %\n",
      "528\n",
      "62.69190865983255 %\n",
      "539\n",
      "64.19413703290779 %\n",
      "558\n",
      "66.04036843441806 %\n",
      "585\n",
      "68.8881168855076 %\n",
      "599\n",
      "70.28008303651586 %\n",
      "603\n",
      "72.05796696475856 %\n",
      "613\n",
      "74.39159892494334 %\n",
      "629\n",
      "77.06951712132526 %\n",
      "632\n",
      "78.6424530323527 %\n",
      "634\n",
      "80.39522587235071 %\n",
      "637\n",
      "82.28101195797575 %\n",
      "639\n",
      "84.99263187805451 %\n",
      "671\n",
      "87.29992551635856 %\n",
      "674\n",
      "90.93319789708796 %\n",
      "699\n",
      "92.80765567222666 %\n",
      "708\n",
      "94.87167384283669 %\n",
      "716\n",
      "96.60094043857555 %\n",
      "719\n",
      "97.79966449320443 %\n"
     ]
    },
    {
     "ename": "IndexError",
     "evalue": "index 1059293 is out of bounds for axis 0 with size 1059293",
     "output_type": "error",
     "traceback": [
      "\u001b[1;31m---------------------------------------------------------------------------\u001b[0m",
      "\u001b[1;31mIndexError\u001b[0m                                Traceback (most recent call last)",
      "\u001b[1;32m<ipython-input-116-261a77a2281f>\u001b[0m in \u001b[0;36m<module>\u001b[1;34m\u001b[0m\n\u001b[0;32m     29\u001b[0m             \u001b[0mmels\u001b[0m \u001b[1;33m=\u001b[0m \u001b[0mdataInRow\u001b[0m\u001b[1;33m[\u001b[0m\u001b[1;36m3\u001b[0m\u001b[1;33m:\u001b[0m\u001b[1;33m]\u001b[0m\u001b[1;33m.\u001b[0m\u001b[0mtolist\u001b[0m\u001b[1;33m(\u001b[0m\u001b[1;33m)\u001b[0m\u001b[1;33m\u001b[0m\u001b[1;33m\u001b[0m\u001b[0m\n\u001b[0;32m     30\u001b[0m             \u001b[1;32mfor\u001b[0m \u001b[0mz\u001b[0m \u001b[1;32min\u001b[0m \u001b[0mrange\u001b[0m\u001b[1;33m(\u001b[0m\u001b[0mnumMels\u001b[0m\u001b[1;33m)\u001b[0m\u001b[1;33m:\u001b[0m\u001b[1;33m\u001b[0m\u001b[1;33m\u001b[0m\u001b[0m\n\u001b[1;32m---> 31\u001b[1;33m                 \u001b[0mfinalData\u001b[0m\u001b[1;33m[\u001b[0m\u001b[0mtotalCont\u001b[0m\u001b[1;33m]\u001b[0m\u001b[1;33m[\u001b[0m\u001b[0my\u001b[0m\u001b[1;33m]\u001b[0m\u001b[1;33m[\u001b[0m\u001b[0mz\u001b[0m\u001b[1;33m]\u001b[0m \u001b[1;33m=\u001b[0m \u001b[0mmels\u001b[0m\u001b[1;33m[\u001b[0m\u001b[0mz\u001b[0m\u001b[1;33m]\u001b[0m\u001b[1;33m\u001b[0m\u001b[1;33m\u001b[0m\u001b[0m\n\u001b[0m\u001b[0;32m     32\u001b[0m \u001b[1;33m\u001b[0m\u001b[0m\n\u001b[0;32m     33\u001b[0m         \u001b[0mbeatValues\u001b[0m\u001b[1;33m[\u001b[0m\u001b[0mtotalCont\u001b[0m\u001b[1;33m]\u001b[0m \u001b[1;33m=\u001b[0m \u001b[0misBeat\u001b[0m\u001b[1;33m\u001b[0m\u001b[1;33m\u001b[0m\u001b[0m\n",
      "\u001b[1;31mIndexError\u001b[0m: index 1059293 is out of bounds for axis 0 with size 1059293"
     ]
    }
   ],
   "source": [
    "finalData = np.zeros((totalLen, numTotalCols, numMels), np.float32)\n",
    "beatValues = np.zeros(totalLen, np.int16)\n",
    "\n",
    "totalCont = 0\n",
    "\n",
    "for song in goodSongs:\n",
    "    dfAux = df[df.Song==song]\n",
    "    maxLen = dfAux.shape[0]\n",
    "    #maxLen = 500\n",
    "    for indx in range(maxLen- numTotalCols):\n",
    "        isBeat = 0\n",
    "        for y in range(numTotalCols): \n",
    "            dataInRow = df.iloc[indx+y]\n",
    "            if (y < 5) & (dataInRow[\"isBeat\"]==\"1\"):\n",
    "                isBeat = 1\n",
    "            mels = dataInRow[3:].tolist()\n",
    "            for z in range(numMels):\n",
    "                finalData[totalCont][y][z] = mels[z]\n",
    "\n",
    "        beatValues[totalCont] = isBeat\n",
    "        totalCont+=1\n",
    "\n",
    "    print(song)\n",
    "    print(str((totalCont/totalLen)*100)+\" %\")"
   ]
  },
  {
   "cell_type": "code",
   "execution_count": 118,
   "metadata": {},
   "outputs": [
    {
     "data": {
      "text/plain": [
       "1059293"
      ]
     },
     "execution_count": 118,
     "metadata": {},
     "output_type": "execute_result"
    }
   ],
   "source": [
    "totalCont"
   ]
  },
  {
   "cell_type": "code",
   "execution_count": 119,
   "metadata": {},
   "outputs": [
    {
     "data": {
      "text/plain": [
       "1059293"
      ]
     },
     "execution_count": 119,
     "metadata": {},
     "output_type": "execute_result"
    }
   ],
   "source": [
    "totalLen"
   ]
  },
  {
   "cell_type": "code",
   "execution_count": 120,
   "metadata": {},
   "outputs": [],
   "source": [
    "beatValues = beatValues.astype(str)"
   ]
  },
  {
   "cell_type": "code",
   "execution_count": 153,
   "metadata": {},
   "outputs": [],
   "source": [
    "beatValues.tofile('Data/Spectrograms/FinalData/beatData.csv', sep=\",\", format=\"%s\")\n",
    "# https://www.python-course.eu/numpy_reading_writing.php"
   ]
  },
  {
   "cell_type": "code",
   "execution_count": 152,
   "metadata": {},
   "outputs": [
    {
     "data": {
      "text/plain": [
       "'1'"
      ]
     },
     "execution_count": 152,
     "metadata": {},
     "output_type": "execute_result"
    }
   ],
   "source": [
    "beatValues[0]"
   ]
  },
  {
   "cell_type": "code",
   "execution_count": 160,
   "metadata": {},
   "outputs": [],
   "source": [
    "f = open(\"Data/Spectrograms/FinalData/musicData.csv\", \"bw\")\n",
    "finalData.tofile(f)\n",
    "f.close()\n",
    "# Write the array to disk\n",
    "with open('Data/Spectrograms/FinalData/musicData.csv', 'w') as outfile:\n",
    "    outfile.write('# Array shape: {0}\\n'.format(finalData.shape))\n",
    "    for data_slice in finalData:\n",
    "        np.savetxt(outfile, data_slice, fmt='%-7.2f')\n",
    "        outfile.write('# New slice\\n')"
   ]
  },
  {
   "cell_type": "markdown",
   "metadata": {},
   "source": [
    "### Read files"
   ]
  },
  {
   "cell_type": "markdown",
   "metadata": {},
   "source": [
    "https://python-decompiler.com/article/2010-09/how-to-write-a-multidimensional-array-to-a-text-file"
   ]
  },
  {
   "cell_type": "code",
   "execution_count": 169,
   "metadata": {
    "scrolled": true
   },
   "outputs": [
    {
     "name": "stderr",
     "output_type": "stream",
     "text": [
      "\n",
      "KeyboardInterrupt\n",
      "\n"
     ]
    }
   ],
   "source": [
    "#finalData = np.loadtxt(\"Data/Spectrograms/FinalData/musicData.csv\")\n",
    "\n",
    "print(finalData.shape)\n",
    "#finalData = new_data.reshape((totalLen,numTotalCols,numMels))"
   ]
  },
  {
   "cell_type": "code",
   "execution_count": 163,
   "metadata": {},
   "outputs": [],
   "source": [
    "# beatValues = np.loadtxt(\"Data/Spectrograms/FinalData/beatData.csv\", delimiter=\",\", dtype= np.str)"
   ]
  },
  {
   "cell_type": "markdown",
   "metadata": {},
   "source": [
    "## Plots"
   ]
  },
  {
   "cell_type": "code",
   "execution_count": 123,
   "metadata": {},
   "outputs": [
    {
     "data": {
      "image/png": "[encoded data removed]",
      "text/plain": [
       "<Figure size 432x288 with 1 Axes>"
      ]
     },
     "metadata": {
      "needs_background": "light"
     },
     "output_type": "display_data"
    }
   ],
   "source": [
    "fig, ax = plt.subplots()\n",
    "sns.countplot(x=0, data=auxBeats)\n",
    "plt.title(\"isBeat\")\n",
    "plt.show()"
   ]
  },
  {
   "cell_type": "code",
   "execution_count": 124,
   "metadata": {},
   "outputs": [
    {
     "name": "stdout",
     "output_type": "stream",
     "text": [
      "Baseline :95.23399097322459 %\n"
     ]
    }
   ],
   "source": [
    "auxBeats = pd.DataFrame(beatValues)\n",
    "zero = auxBeats[auxBeats[0]==\"0\"].shape[0]\n",
    "one = auxBeats[auxBeats[0]==\"1\"].shape[0]\n",
    "print(\"Baseline :\"+ str((zero/(one+zero))*100 )+\" %\")"
   ]
  },
  {
   "cell_type": "markdown",
   "metadata": {},
   "source": [
    "## Split the data"
   ]
  },
  {
   "cell_type": "code",
   "execution_count": 127,
   "metadata": {},
   "outputs": [],
   "source": [
    "# X_train, X_test, y_train, y_test = train_test_split(x, y, test_size=0.4, random_state=12345, stratify=y)\n",
    "splitPoint = int(finalData.shape[0]*0.75)\n",
    "X_train = finalData[:splitPoint][:][:]\n",
    "X_test = finalData[splitPoint:][:][:]\n",
    "y_train = beatValues[:splitPoint]\n",
    "y_test = beatValues[splitPoint:]\n",
    "\n",
    "#X_test, y_test = np.array(X_test), np.array(y_test)\n"
   ]
  },
  {
   "cell_type": "markdown",
   "metadata": {},
   "source": [
    "## CNN MODEL"
   ]
  },
  {
   "cell_type": "code",
   "execution_count": 2,
   "metadata": {},
   "outputs": [
    {
     "ename": "NameError",
     "evalue": "name 'Sequential' is not defined",
     "output_type": "error",
     "traceback": [
      "\u001b[1;31m---------------------------------------------------------------------------\u001b[0m",
      "\u001b[1;31mNameError\u001b[0m                                 Traceback (most recent call last)",
      "\u001b[1;32m<ipython-input-2-32da114d52e3>\u001b[0m in \u001b[0;36m<module>\u001b[1;34m\u001b[0m\n\u001b[1;32m----> 1\u001b[1;33m \u001b[0mmodel\u001b[0m \u001b[1;33m=\u001b[0m \u001b[0mSequential\u001b[0m\u001b[1;33m(\u001b[0m\u001b[1;33m)\u001b[0m\u001b[1;33m\u001b[0m\u001b[1;33m\u001b[0m\u001b[0m\n\u001b[0m\u001b[0;32m      2\u001b[0m \u001b[1;33m\u001b[0m\u001b[0m\n\u001b[0;32m      3\u001b[0m \u001b[0mmodel\u001b[0m\u001b[1;33m.\u001b[0m\u001b[0madd\u001b[0m\u001b[1;33m(\u001b[0m\u001b[0mConv1D\u001b[0m\u001b[1;33m(\u001b[0m\u001b[1;36m12\u001b[0m\u001b[1;33m,\u001b[0m \u001b[1;33m(\u001b[0m\u001b[1;36m3\u001b[0m\u001b[1;33m)\u001b[0m\u001b[1;33m,\u001b[0m \u001b[0mactivation\u001b[0m\u001b[1;33m=\u001b[0m\u001b[1;34m'relu'\u001b[0m\u001b[1;33m,\u001b[0m \u001b[0minput_shape\u001b[0m\u001b[1;33m=\u001b[0m\u001b[1;33m(\u001b[0m\u001b[1;36m23\u001b[0m\u001b[1;33m,\u001b[0m \u001b[1;36m40\u001b[0m\u001b[1;33m)\u001b[0m\u001b[1;33m)\u001b[0m\u001b[1;33m)\u001b[0m\u001b[1;33m\u001b[0m\u001b[1;33m\u001b[0m\u001b[0m\n\u001b[0;32m      4\u001b[0m \u001b[0mmodel\u001b[0m\u001b[1;33m.\u001b[0m\u001b[0madd\u001b[0m\u001b[1;33m(\u001b[0m\u001b[0mConv1D\u001b[0m\u001b[1;33m(\u001b[0m\u001b[1;36m24\u001b[0m\u001b[1;33m,\u001b[0m \u001b[1;36m3\u001b[0m\u001b[1;33m,\u001b[0m \u001b[0mactivation\u001b[0m\u001b[1;33m=\u001b[0m\u001b[1;34m'relu'\u001b[0m\u001b[1;33m)\u001b[0m\u001b[1;33m)\u001b[0m\u001b[1;33m\u001b[0m\u001b[1;33m\u001b[0m\u001b[0m\n\u001b[0;32m      5\u001b[0m \u001b[0mmodel\u001b[0m\u001b[1;33m.\u001b[0m\u001b[0madd\u001b[0m\u001b[1;33m(\u001b[0m\u001b[0mConv1D\u001b[0m\u001b[1;33m(\u001b[0m\u001b[1;36m32\u001b[0m\u001b[1;33m,\u001b[0m \u001b[1;36m3\u001b[0m\u001b[1;33m,\u001b[0m \u001b[0mactivation\u001b[0m\u001b[1;33m=\u001b[0m\u001b[1;34m'relu'\u001b[0m\u001b[1;33m)\u001b[0m\u001b[1;33m)\u001b[0m\u001b[1;33m\u001b[0m\u001b[1;33m\u001b[0m\u001b[0m\n",
      "\u001b[1;31mNameError\u001b[0m: name 'Sequential' is not defined"
     ]
    }
   ],
   "source": [
    "model = Sequential()\n",
    "\n",
    "model.add(Conv1D(12, (3), activation='relu', input_shape=(23, 40)))\n",
    "model.add(Conv1D(24, 3, activation='relu'))\n",
    "model.add(Conv1D(32, 3, activation='relu'))\n",
    "model.add(Flatten())\n",
    "model.add(Dense(16, activation='relu'))\n",
    "model.add(Dropout(0.4))\n",
    "model.add(Dense(1, activation='sigmoid'))\n",
    "\n",
    "model.summary()"
   ]
  },
  {
   "cell_type": "code",
   "execution_count": 132,
   "metadata": {
    "scrolled": false
   },
   "outputs": [
    {
     "name": "stdout",
     "output_type": "stream",
     "text": [
      "Train on 635575 samples, validate on 158894 samples\n",
      "Epoch 1/100\n",
      "635575/635575 [==============================] - 71s 112us/step - loss: 0.7595 - acc: 0.9529 - val_loss: 0.7946 - val_acc: 0.9507\n",
      "Epoch 2/100\n",
      "635575/635575 [==============================] - 70s 111us/step - loss: 0.7595 - acc: 0.9529 - val_loss: 0.7946 - val_acc: 0.9507\n",
      "Epoch 3/100\n",
      "635575/635575 [==============================] - 70s 111us/step - loss: 0.7595 - acc: 0.9529 - val_loss: 0.7946 - val_acc: 0.9507\n",
      "Epoch 4/100\n",
      "635575/635575 [==============================] - 71s 111us/step - loss: 0.7595 - acc: 0.9529 - val_loss: 0.7946 - val_acc: 0.9507\n",
      "Epoch 5/100\n",
      "635575/635575 [==============================] - 70s 111us/step - loss: 0.7595 - acc: 0.9529 - val_loss: 0.7946 - val_acc: 0.9507\n",
      "Epoch 6/100\n",
      "635575/635575 [==============================] - 70s 111us/step - loss: 0.7595 - acc: 0.9529 - val_loss: 0.7946 - val_acc: 0.9507\n",
      "Epoch 7/100\n",
      "635575/635575 [==============================] - 71s 111us/step - loss: 0.7595 - acc: 0.9529 - val_loss: 0.7946 - val_acc: 0.9507\n",
      "Epoch 8/100\n",
      "635575/635575 [==============================] - 71s 111us/step - loss: 0.7595 - acc: 0.9529 - val_loss: 0.7946 - val_acc: 0.9507\n",
      "Epoch 9/100\n",
      "635575/635575 [==============================] - 71s 111us/step - loss: 0.7595 - acc: 0.9529 - val_loss: 0.7946 - val_acc: 0.9507\n",
      "Epoch 10/100\n",
      "635575/635575 [==============================] - 71s 111us/step - loss: 0.7595 - acc: 0.9529 - val_loss: 0.7946 - val_acc: 0.9507\n",
      "Epoch 11/100\n",
      "635575/635575 [==============================] - 71s 112us/step - loss: 0.7595 - acc: 0.9529 - val_loss: 0.7946 - val_acc: 0.9507\n",
      "Epoch 12/100\n",
      "635575/635575 [==============================] - 71s 111us/step - loss: 0.7595 - acc: 0.9529 - val_loss: 0.7946 - val_acc: 0.9507\n",
      "Epoch 13/100\n",
      "635575/635575 [==============================] - 71s 111us/step - loss: 0.7595 - acc: 0.9529 - val_loss: 0.7946 - val_acc: 0.9507\n",
      "Epoch 14/100\n",
      "635575/635575 [==============================] - 71s 111us/step - loss: 0.7595 - acc: 0.9529 - val_loss: 0.7946 - val_acc: 0.9507\n",
      "Epoch 15/100\n",
      "635575/635575 [==============================] - 71s 111us/step - loss: 0.7595 - acc: 0.9529 - val_loss: 0.7946 - val_acc: 0.9507\n",
      "Epoch 16/100\n",
      "635575/635575 [==============================] - 70s 111us/step - loss: 0.7595 - acc: 0.9529 - val_loss: 0.7946 - val_acc: 0.9507\n",
      "Epoch 17/100\n",
      "635575/635575 [==============================] - 70s 111us/step - loss: 0.7595 - acc: 0.9529 - val_loss: 0.7946 - val_acc: 0.9507\n",
      "Epoch 18/100\n",
      "635575/635575 [==============================] - 70s 110us/step - loss: 0.7595 - acc: 0.9529 - val_loss: 0.7946 - val_acc: 0.9507\n",
      "Epoch 19/100\n",
      "635575/635575 [==============================] - 70s 110us/step - loss: 0.7595 - acc: 0.9529 - val_loss: 0.7946 - val_acc: 0.9507\n",
      "Epoch 20/100\n",
      "635575/635575 [==============================] - 70s 110us/step - loss: 0.7595 - acc: 0.9529 - val_loss: 0.7946 - val_acc: 0.9507\n",
      "Epoch 21/100\n",
      "635575/635575 [==============================] - 70s 111us/step - loss: 0.7595 - acc: 0.9529 - val_loss: 0.7946 - val_acc: 0.9507\n",
      "Epoch 22/100\n",
      "635575/635575 [==============================] - 70s 111us/step - loss: 0.7595 - acc: 0.9529 - val_loss: 0.7946 - val_acc: 0.9507\n",
      "Epoch 23/100\n",
      "635575/635575 [==============================] - 70s 111us/step - loss: 0.7595 - acc: 0.9529 - val_loss: 0.7946 - val_acc: 0.9507\n",
      "Epoch 24/100\n",
      "635575/635575 [==============================] - 70s 111us/step - loss: 0.7595 - acc: 0.9529 - val_loss: 0.7946 - val_acc: 0.9507\n",
      "Epoch 25/100\n",
      "635575/635575 [==============================] - 70s 111us/step - loss: 0.7595 - acc: 0.9529 - val_loss: 0.7946 - val_acc: 0.9507\n",
      "Epoch 26/100\n",
      "635575/635575 [==============================] - 70s 110us/step - loss: 0.7595 - acc: 0.9529 - val_loss: 0.7946 - val_acc: 0.9507\n",
      "Epoch 27/100\n",
      "635575/635575 [==============================] - 70s 110us/step - loss: 0.7595 - acc: 0.9529 - val_loss: 0.7946 - val_acc: 0.9507\n",
      "Epoch 28/100\n",
      "635575/635575 [==============================] - 70s 111us/step - loss: 0.7595 - acc: 0.9529 - val_loss: 0.7946 - val_acc: 0.9507\n",
      "Epoch 29/100\n",
      "635575/635575 [==============================] - 70s 111us/step - loss: 0.7595 - acc: 0.9529 - val_loss: 0.7946 - val_acc: 0.9507\n",
      "Epoch 30/100\n",
      "635575/635575 [==============================] - 71s 111us/step - loss: 0.7595 - acc: 0.9529 - val_loss: 0.7946 - val_acc: 0.9507\n",
      "Epoch 31/100\n",
      "635575/635575 [==============================] - 70s 111us/step - loss: 0.7595 - acc: 0.9529 - val_loss: 0.7946 - val_acc: 0.9507\n",
      "Epoch 32/100\n",
      "635575/635575 [==============================] - 70s 111us/step - loss: 0.7595 - acc: 0.9529 - val_loss: 0.7946 - val_acc: 0.9507\n",
      "Epoch 33/100\n",
      "635575/635575 [==============================] - 70s 111us/step - loss: 0.7595 - acc: 0.9529 - val_loss: 0.7946 - val_acc: 0.9507\n",
      "Epoch 34/100\n",
      "635575/635575 [==============================] - 71s 111us/step - loss: 0.7595 - acc: 0.9529 - val_loss: 0.7946 - val_acc: 0.9507\n",
      "Epoch 35/100\n",
      "635575/635575 [==============================] - 70s 111us/step - loss: 0.7595 - acc: 0.9529 - val_loss: 0.7946 - val_acc: 0.9507\n",
      "Epoch 36/100\n",
      "635575/635575 [==============================] - 70s 111us/step - loss: 0.7595 - acc: 0.9529 - val_loss: 0.7946 - val_acc: 0.9507\n",
      "Epoch 37/100\n",
      "635575/635575 [==============================] - 70s 111us/step - loss: 0.7595 - acc: 0.9529 - val_loss: 0.7946 - val_acc: 0.9507\n",
      "Epoch 38/100\n",
      "635575/635575 [==============================] - 71s 111us/step - loss: 0.7595 - acc: 0.9529 - val_loss: 0.7946 - val_acc: 0.9507\n",
      "Epoch 39/100\n",
      "635575/635575 [==============================] - 70s 111us/step - loss: 0.7595 - acc: 0.9529 - val_loss: 0.7946 - val_acc: 0.9507\n",
      "Epoch 40/100\n",
      "635575/635575 [==============================] - 70s 111us/step - loss: 0.7595 - acc: 0.9529 - val_loss: 0.7946 - val_acc: 0.9507\n",
      "Epoch 41/100\n",
      "635575/635575 [==============================] - 70s 111us/step - loss: 0.7595 - acc: 0.9529 - val_loss: 0.7946 - val_acc: 0.9507\n",
      "Epoch 42/100\n",
      "635575/635575 [==============================] - 71s 111us/step - loss: 0.7595 - acc: 0.9529 - val_loss: 0.7946 - val_acc: 0.9507\n",
      "Epoch 43/100\n",
      "635575/635575 [==============================] - 71s 111us/step - loss: 0.7595 - acc: 0.9529 - val_loss: 0.7946 - val_acc: 0.9507\n",
      "Epoch 44/100\n",
      "635575/635575 [==============================] - 71s 111us/step - loss: 0.7595 - acc: 0.9529 - val_loss: 0.7946 - val_acc: 0.9507\n",
      "Epoch 45/100\n",
      "635575/635575 [==============================] - 71s 111us/step - loss: 0.7595 - acc: 0.9529 - val_loss: 0.7946 - val_acc: 0.9507\n",
      "Epoch 46/100\n",
      "635575/635575 [==============================] - 71s 111us/step - loss: 0.7595 - acc: 0.9529 - val_loss: 0.7946 - val_acc: 0.9507\n",
      "Epoch 47/100\n",
      "635575/635575 [==============================] - 71s 111us/step - loss: 0.7595 - acc: 0.9529 - val_loss: 0.7946 - val_acc: 0.9507\n",
      "Epoch 48/100\n",
      "635575/635575 [==============================] - 71s 111us/step - loss: 0.7595 - acc: 0.9529 - val_loss: 0.7946 - val_acc: 0.9507\n",
      "Epoch 49/100\n",
      "635575/635575 [==============================] - 71s 111us/step - loss: 0.7595 - acc: 0.9529 - val_loss: 0.7946 - val_acc: 0.9507\n",
      "Epoch 50/100\n",
      "635575/635575 [==============================] - 71s 111us/step - loss: 0.7595 - acc: 0.9529 - val_loss: 0.7946 - val_acc: 0.9507\n",
      "Epoch 51/100\n",
      "635575/635575 [==============================] - 71s 111us/step - loss: 0.7595 - acc: 0.9529 - val_loss: 0.7946 - val_acc: 0.9507\n",
      "Epoch 52/100\n",
      "635575/635575 [==============================] - 71s 111us/step - loss: 0.7595 - acc: 0.9529 - val_loss: 0.7946 - val_acc: 0.9507\n",
      "Epoch 53/100\n",
      "635575/635575 [==============================] - 71s 111us/step - loss: 0.7595 - acc: 0.9529 - val_loss: 0.7946 - val_acc: 0.9507\n",
      "Epoch 54/100\n",
      "635575/635575 [==============================] - 71s 111us/step - loss: 0.7595 - acc: 0.9529 - val_loss: 0.7946 - val_acc: 0.9507\n",
      "Epoch 55/100\n",
      "635575/635575 [==============================] - 71s 111us/step - loss: 0.7595 - acc: 0.9529 - val_loss: 0.7946 - val_acc: 0.9507\n",
      "Epoch 56/100\n",
      "635575/635575 [==============================] - 71s 112us/step - loss: 0.7595 - acc: 0.9529 - val_loss: 0.7946 - val_acc: 0.9507\n",
      "Epoch 57/100\n",
      "635575/635575 [==============================] - 71s 111us/step - loss: 0.7595 - acc: 0.9529 - val_loss: 0.7946 - val_acc: 0.9507\n"
     ]
    },
    {
     "name": "stdout",
     "output_type": "stream",
     "text": [
      "Epoch 58/100\n",
      "635575/635575 [==============================] - 70s 110us/step - loss: 0.7595 - acc: 0.9529 - val_loss: 0.7946 - val_acc: 0.9507\n",
      "Epoch 59/100\n",
      "635575/635575 [==============================] - 70s 110us/step - loss: 0.7595 - acc: 0.9529 - val_loss: 0.7946 - val_acc: 0.9507\n",
      "Epoch 60/100\n",
      "635575/635575 [==============================] - 70s 110us/step - loss: 0.7595 - acc: 0.9529 - val_loss: 0.7946 - val_acc: 0.9507\n",
      "Epoch 61/100\n",
      "635575/635575 [==============================] - 70s 110us/step - loss: 0.7595 - acc: 0.9529 - val_loss: 0.7946 - val_acc: 0.9507\n",
      "Epoch 62/100\n",
      "635575/635575 [==============================] - 70s 110us/step - loss: 0.7595 - acc: 0.9529 - val_loss: 0.7946 - val_acc: 0.9507\n",
      "Epoch 63/100\n",
      "635575/635575 [==============================] - 71s 112us/step - loss: 0.7595 - acc: 0.9529 - val_loss: 0.7946 - val_acc: 0.9507\n",
      "Epoch 64/100\n",
      "635575/635575 [==============================] - 72s 113us/step - loss: 0.7595 - acc: 0.9529 - val_loss: 0.7946 - val_acc: 0.9507\n",
      "Epoch 65/100\n",
      "635575/635575 [==============================] - 71s 112us/step - loss: 0.7595 - acc: 0.9529 - val_loss: 0.7946 - val_acc: 0.9507\n",
      "Epoch 66/100\n",
      "635575/635575 [==============================] - 71s 112us/step - loss: 0.7595 - acc: 0.9529 - val_loss: 0.7946 - val_acc: 0.9507\n",
      "Epoch 67/100\n",
      "635575/635575 [==============================] - 71s 112us/step - loss: 0.7595 - acc: 0.9529 - val_loss: 0.7946 - val_acc: 0.9507\n",
      "Epoch 68/100\n",
      "635575/635575 [==============================] - 71s 112us/step - loss: 0.7595 - acc: 0.9529 - val_loss: 0.7946 - val_acc: 0.9507\n",
      "Epoch 69/100\n",
      "635575/635575 [==============================] - 71s 112us/step - loss: 0.7595 - acc: 0.9529 - val_loss: 0.7946 - val_acc: 0.9507\n",
      "Epoch 70/100\n",
      "635575/635575 [==============================] - 71s 111us/step - loss: 0.7595 - acc: 0.9529 - val_loss: 0.7946 - val_acc: 0.9507\n",
      "Epoch 71/100\n",
      "635575/635575 [==============================] - 71s 111us/step - loss: 0.7595 - acc: 0.9529 - val_loss: 0.7946 - val_acc: 0.9507\n",
      "Epoch 72/100\n",
      "635575/635575 [==============================] - 71s 112us/step - loss: 0.7595 - acc: 0.9529 - val_loss: 0.7946 - val_acc: 0.9507\n",
      "Epoch 73/100\n",
      "635575/635575 [==============================] - 71s 112us/step - loss: 0.7595 - acc: 0.9529 - val_loss: 0.7946 - val_acc: 0.9507\n",
      "Epoch 74/100\n",
      "635575/635575 [==============================] - 71s 112us/step - loss: 0.7595 - acc: 0.9529 - val_loss: 0.7946 - val_acc: 0.9507\n",
      "Epoch 75/100\n",
      "635575/635575 [==============================] - 72s 113us/step - loss: 0.7595 - acc: 0.9529 - val_loss: 0.7946 - val_acc: 0.9507\n",
      "Epoch 76/100\n",
      "635575/635575 [==============================] - 72s 113us/step - loss: 0.7595 - acc: 0.9529 - val_loss: 0.7946 - val_acc: 0.9507\n",
      "Epoch 77/100\n",
      "635575/635575 [==============================] - 72s 113us/step - loss: 0.7595 - acc: 0.9529 - val_loss: 0.7946 - val_acc: 0.9507\n",
      "Epoch 78/100\n",
      "635575/635575 [==============================] - 71s 112us/step - loss: 0.7595 - acc: 0.9529 - val_loss: 0.7946 - val_acc: 0.9507\n",
      "Epoch 79/100\n",
      "635575/635575 [==============================] - 72s 113us/step - loss: 0.7595 - acc: 0.9529 - val_loss: 0.7946 - val_acc: 0.9507\n",
      "Epoch 80/100\n",
      "635575/635575 [==============================] - 76s 119us/step - loss: 0.7595 - acc: 0.9529 - val_loss: 0.7946 - val_acc: 0.9507\n",
      "Epoch 81/100\n",
      "635575/635575 [==============================] - 71s 112us/step - loss: 0.7595 - acc: 0.9529 - val_loss: 0.7946 - val_acc: 0.9507\n",
      "Epoch 82/100\n",
      "635575/635575 [==============================] - 72s 113us/step - loss: 0.7595 - acc: 0.9529 - val_loss: 0.7946 - val_acc: 0.9507\n",
      "Epoch 83/100\n",
      "635575/635575 [==============================] - 71s 112us/step - loss: 0.7595 - acc: 0.9529 - val_loss: 0.7946 - val_acc: 0.9507\n",
      "Epoch 84/100\n",
      "635575/635575 [==============================] - 71s 112us/step - loss: 0.7595 - acc: 0.9529 - val_loss: 0.7946 - val_acc: 0.9507\n",
      "Epoch 85/100\n",
      "635575/635575 [==============================] - 72s 113us/step - loss: 0.7595 - acc: 0.9529 - val_loss: 0.7946 - val_acc: 0.9507\n",
      "Epoch 86/100\n",
      "635575/635575 [==============================] - 71s 112us/step - loss: 0.7595 - acc: 0.9529 - val_loss: 0.7946 - val_acc: 0.9507\n",
      "Epoch 87/100\n",
      "635575/635575 [==============================] - 71s 112us/step - loss: 0.7595 - acc: 0.9529 - val_loss: 0.7946 - val_acc: 0.9507\n",
      "Epoch 88/100\n",
      "635575/635575 [==============================] - 71s 112us/step - loss: 0.7595 - acc: 0.9529 - val_loss: 0.7946 - val_acc: 0.9507\n",
      "Epoch 89/100\n",
      "635575/635575 [==============================] - 72s 113us/step - loss: 0.7595 - acc: 0.9529 - val_loss: 0.7946 - val_acc: 0.9507\n",
      "Epoch 90/100\n",
      "635575/635575 [==============================] - 72s 113us/step - loss: 0.7595 - acc: 0.9529 - val_loss: 0.7946 - val_acc: 0.9507\n",
      "Epoch 91/100\n",
      "635575/635575 [==============================] - 73s 115us/step - loss: 0.7595 - acc: 0.9529 - val_loss: 0.7946 - val_acc: 0.9507\n",
      "Epoch 92/100\n",
      "635575/635575 [==============================] - 72s 113us/step - loss: 0.7595 - acc: 0.9529 - val_loss: 0.7946 - val_acc: 0.9507\n",
      "Epoch 93/100\n",
      "635575/635575 [==============================] - 72s 113us/step - loss: 0.7595 - acc: 0.9529 - val_loss: 0.7946 - val_acc: 0.9507\n",
      "Epoch 94/100\n",
      "635575/635575 [==============================] - 72s 113us/step - loss: 0.7595 - acc: 0.9529 - val_loss: 0.7946 - val_acc: 0.9507\n",
      "Epoch 95/100\n",
      "635575/635575 [==============================] - 71s 112us/step - loss: 0.7595 - acc: 0.9529 - val_loss: 0.7946 - val_acc: 0.9507\n",
      "Epoch 96/100\n",
      "635575/635575 [==============================] - 71s 112us/step - loss: 0.7595 - acc: 0.9529 - val_loss: 0.7946 - val_acc: 0.9507\n",
      "Epoch 97/100\n",
      "635575/635575 [==============================] - 71s 112us/step - loss: 0.7595 - acc: 0.9529 - val_loss: 0.7946 - val_acc: 0.9507\n",
      "Epoch 98/100\n",
      "635575/635575 [==============================] - 72s 113us/step - loss: 0.7595 - acc: 0.9529 - val_loss: 0.7946 - val_acc: 0.9507\n",
      "Epoch 99/100\n",
      "635575/635575 [==============================] - 72s 113us/step - loss: 0.7595 - acc: 0.9529 - val_loss: 0.7946 - val_acc: 0.9507\n",
      "Epoch 100/100\n",
      "635575/635575 [==============================] - 72s 113us/step - loss: 0.7595 - acc: 0.9529 - val_loss: 0.7946 - val_acc: 0.9507\n"
     ]
    }
   ],
   "source": [
    "model.compile(optimizer='rmsprop',\n",
    "              loss='binary_crossentropy',\n",
    "              metrics=['acc'])\n",
    "history = model.fit(X_train, y_train, epochs=100, batch_size=400, validation_split=0.2)"
   ]
  },
  {
   "cell_type": "code",
   "execution_count": 135,
   "metadata": {},
   "outputs": [
    {
     "name": "stdout",
     "output_type": "stream",
     "text": [
      "264824/264824 [==============================] - 15s 58us/step\n",
      "Accuracy: 95.20%\n"
     ]
    }
   ],
   "source": [
    "scores = model.evaluate(X_test, y_test, verbose=1)\n",
    "print(\"Accuracy: %.2f%%\" % (scores[1]*100))"
   ]
  },
  {
   "cell_type": "code",
   "execution_count": 136,
   "metadata": {},
   "outputs": [],
   "source": [
    "model.save('Data/Spectrograms/Models/cnn_model.h5')"
   ]
  },
  {
   "cell_type": "code",
   "execution_count": 134,
   "metadata": {},
   "outputs": [
    {
     "data": {
      "image/png": "[encoded data removed]",
      "text/plain": [
       "<Figure size 432x288 with 1 Axes>"
      ]
     },
     "metadata": {
      "needs_background": "light"
     },
     "output_type": "display_data"
    },
    {
     "data": {
      "image/png": "[encoded data removed]",
      "text/plain": [
       "<Figure size 432x288 with 1 Axes>"
      ]
     },
     "metadata": {
      "needs_background": "light"
     },
     "output_type": "display_data"
    }
   ],
   "source": [
    "acc = history.history['acc']\n",
    "val_acc = history.history['val_acc']\n",
    "loss = history.history['loss']\n",
    "val_loss = history.history['val_loss']\n",
    "\n",
    "\n",
    "epochs = range(len(acc))\n",
    "\n",
    "plt.plot(epochs, acc, 'bo', label='Training acc')\n",
    "plt.plot(epochs, val_acc, 'b', label='Validation acc')\n",
    "plt.title('Training and validation accuracy')\n",
    "plt.legend()\n",
    "\n",
    "plt.figure()\n",
    "\n",
    "plt.plot(epochs, loss, 'bo', label='Training loss')\n",
    "plt.plot(epochs, val_loss, 'b', label='Validation loss')\n",
    "plt.title('Training and validation loss')\n",
    "plt.legend()\n",
    "\n",
    "plt.show()"
   ]
  },
  {
   "cell_type": "code",
   "execution_count": null,
   "metadata": {},
   "outputs": [],
   "source": []
  }
 ],
 "metadata": {
  "kernelspec": {
   "display_name": "Python 3",
   "language": "python",
   "name": "python3"
  },
  "language_info": {
   "codemirror_mode": {
    "name": "ipython",
    "version": 3
   },
   "file_extension": ".py",
   "mimetype": "text/x-python",
   "name": "python",
   "nbconvert_exporter": "python",
   "pygments_lexer": "ipython3",
   "version": "3.7.4"
  }
 },
 "nbformat": 4,
 "nbformat_minor": 2
}
