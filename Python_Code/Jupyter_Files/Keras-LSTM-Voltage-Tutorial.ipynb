{
 "cells": [
  {
   "cell_type": "code",
   "execution_count": 1,
   "metadata": {},
   "outputs": [],
   "source": [
    "import numpy as np\n",
    "import pandas as pd\n",
    "import matplotlib.pyplot as plt\n",
    "from numpy import nan"
   ]
  },
  {
   "cell_type": "code",
   "execution_count": 2,
   "metadata": {},
   "outputs": [],
   "source": [
    "from tensorflow.keras import Sequential\n",
    "from tensorflow.keras.layers import LSTM, Dense"
   ]
  },
  {
   "cell_type": "code",
   "execution_count": 3,
   "metadata": {},
   "outputs": [],
   "source": [
    "from sklearn.metrics import mean_squared_error\n",
    "from sklearn.preprocessing import MinMaxScaler"
   ]
  },
  {
   "cell_type": "code",
   "execution_count": 4,
   "metadata": {},
   "outputs": [],
   "source": [
    "data = pd.read_csv('household_power_consumption.txt', sep = ';',\n",
    "                  parse_dates = True,\n",
    "                  low_memory = False)"
   ]
  },
  {
   "cell_type": "code",
   "execution_count": 5,
   "metadata": {},
   "outputs": [
    {
     "data": {
      "text/html": [
       "<div>\n",
       "<style scoped>\n",
       "    .dataframe tbody tr th:only-of-type {\n",
       "        vertical-align: middle;\n",
       "    }\n",
       "\n",
       "    .dataframe tbody tr th {\n",
       "        vertical-align: top;\n",
       "    }\n",
       "\n",
       "    .dataframe thead th {\n",
       "        text-align: right;\n",
       "    }\n",
       "</style>\n",
       "<table border=\"1\" class=\"dataframe\">\n",
       "  <thead>\n",
       "    <tr style=\"text-align: right;\">\n",
       "      <th></th>\n",
       "      <th>Date</th>\n",
       "      <th>Time</th>\n",
       "      <th>Global_active_power</th>\n",
       "      <th>Global_reactive_power</th>\n",
       "      <th>Voltage</th>\n",
       "      <th>Global_intensity</th>\n",
       "      <th>Sub_metering_1</th>\n",
       "      <th>Sub_metering_2</th>\n",
       "      <th>Sub_metering_3</th>\n",
       "    </tr>\n",
       "  </thead>\n",
       "  <tbody>\n",
       "    <tr>\n",
       "      <th>0</th>\n",
       "      <td>16/12/2006</td>\n",
       "      <td>17:24:00</td>\n",
       "      <td>4.216</td>\n",
       "      <td>0.418</td>\n",
       "      <td>234.840</td>\n",
       "      <td>18.400</td>\n",
       "      <td>0.000</td>\n",
       "      <td>1.000</td>\n",
       "      <td>17.0</td>\n",
       "    </tr>\n",
       "    <tr>\n",
       "      <th>1</th>\n",
       "      <td>16/12/2006</td>\n",
       "      <td>17:25:00</td>\n",
       "      <td>5.360</td>\n",
       "      <td>0.436</td>\n",
       "      <td>233.630</td>\n",
       "      <td>23.000</td>\n",
       "      <td>0.000</td>\n",
       "      <td>1.000</td>\n",
       "      <td>16.0</td>\n",
       "    </tr>\n",
       "    <tr>\n",
       "      <th>2</th>\n",
       "      <td>16/12/2006</td>\n",
       "      <td>17:26:00</td>\n",
       "      <td>5.374</td>\n",
       "      <td>0.498</td>\n",
       "      <td>233.290</td>\n",
       "      <td>23.000</td>\n",
       "      <td>0.000</td>\n",
       "      <td>2.000</td>\n",
       "      <td>17.0</td>\n",
       "    </tr>\n",
       "    <tr>\n",
       "      <th>3</th>\n",
       "      <td>16/12/2006</td>\n",
       "      <td>17:27:00</td>\n",
       "      <td>5.388</td>\n",
       "      <td>0.502</td>\n",
       "      <td>233.740</td>\n",
       "      <td>23.000</td>\n",
       "      <td>0.000</td>\n",
       "      <td>1.000</td>\n",
       "      <td>17.0</td>\n",
       "    </tr>\n",
       "    <tr>\n",
       "      <th>4</th>\n",
       "      <td>16/12/2006</td>\n",
       "      <td>17:28:00</td>\n",
       "      <td>3.666</td>\n",
       "      <td>0.528</td>\n",
       "      <td>235.680</td>\n",
       "      <td>15.800</td>\n",
       "      <td>0.000</td>\n",
       "      <td>1.000</td>\n",
       "      <td>17.0</td>\n",
       "    </tr>\n",
       "  </tbody>\n",
       "</table>\n",
       "</div>"
      ],
      "text/plain": [
       "         Date      Time Global_active_power Global_reactive_power  Voltage  \\\n",
       "0  16/12/2006  17:24:00               4.216                 0.418  234.840   \n",
       "1  16/12/2006  17:25:00               5.360                 0.436  233.630   \n",
       "2  16/12/2006  17:26:00               5.374                 0.498  233.290   \n",
       "3  16/12/2006  17:27:00               5.388                 0.502  233.740   \n",
       "4  16/12/2006  17:28:00               3.666                 0.528  235.680   \n",
       "\n",
       "  Global_intensity Sub_metering_1 Sub_metering_2  Sub_metering_3  \n",
       "0           18.400          0.000          1.000            17.0  \n",
       "1           23.000          0.000          1.000            16.0  \n",
       "2           23.000          0.000          2.000            17.0  \n",
       "3           23.000          0.000          1.000            17.0  \n",
       "4           15.800          0.000          1.000            17.0  "
      ]
     },
     "execution_count": 5,
     "metadata": {},
     "output_type": "execute_result"
    }
   ],
   "source": [
    "data.head()"
   ]
  },
  {
   "cell_type": "code",
   "execution_count": 6,
   "metadata": {},
   "outputs": [
    {
     "data": {
      "text/html": [
       "<div>\n",
       "<style scoped>\n",
       "    .dataframe tbody tr th:only-of-type {\n",
       "        vertical-align: middle;\n",
       "    }\n",
       "\n",
       "    .dataframe tbody tr th {\n",
       "        vertical-align: top;\n",
       "    }\n",
       "\n",
       "    .dataframe thead th {\n",
       "        text-align: right;\n",
       "    }\n",
       "</style>\n",
       "<table border=\"1\" class=\"dataframe\">\n",
       "  <thead>\n",
       "    <tr style=\"text-align: right;\">\n",
       "      <th></th>\n",
       "      <th>Global_active_power</th>\n",
       "      <th>Global_reactive_power</th>\n",
       "      <th>Voltage</th>\n",
       "      <th>Global_intensity</th>\n",
       "      <th>Sub_metering_1</th>\n",
       "      <th>Sub_metering_2</th>\n",
       "      <th>Sub_metering_3</th>\n",
       "      <th>date_time</th>\n",
       "    </tr>\n",
       "  </thead>\n",
       "  <tbody>\n",
       "    <tr>\n",
       "      <th>0</th>\n",
       "      <td>4.216</td>\n",
       "      <td>0.418</td>\n",
       "      <td>234.840</td>\n",
       "      <td>18.400</td>\n",
       "      <td>0.000</td>\n",
       "      <td>1.000</td>\n",
       "      <td>17.0</td>\n",
       "      <td>16/12/2006 17:24:00</td>\n",
       "    </tr>\n",
       "    <tr>\n",
       "      <th>1</th>\n",
       "      <td>5.360</td>\n",
       "      <td>0.436</td>\n",
       "      <td>233.630</td>\n",
       "      <td>23.000</td>\n",
       "      <td>0.000</td>\n",
       "      <td>1.000</td>\n",
       "      <td>16.0</td>\n",
       "      <td>16/12/2006 17:25:00</td>\n",
       "    </tr>\n",
       "    <tr>\n",
       "      <th>2</th>\n",
       "      <td>5.374</td>\n",
       "      <td>0.498</td>\n",
       "      <td>233.290</td>\n",
       "      <td>23.000</td>\n",
       "      <td>0.000</td>\n",
       "      <td>2.000</td>\n",
       "      <td>17.0</td>\n",
       "      <td>16/12/2006 17:26:00</td>\n",
       "    </tr>\n",
       "    <tr>\n",
       "      <th>3</th>\n",
       "      <td>5.388</td>\n",
       "      <td>0.502</td>\n",
       "      <td>233.740</td>\n",
       "      <td>23.000</td>\n",
       "      <td>0.000</td>\n",
       "      <td>1.000</td>\n",
       "      <td>17.0</td>\n",
       "      <td>16/12/2006 17:27:00</td>\n",
       "    </tr>\n",
       "    <tr>\n",
       "      <th>4</th>\n",
       "      <td>3.666</td>\n",
       "      <td>0.528</td>\n",
       "      <td>235.680</td>\n",
       "      <td>15.800</td>\n",
       "      <td>0.000</td>\n",
       "      <td>1.000</td>\n",
       "      <td>17.0</td>\n",
       "      <td>16/12/2006 17:28:00</td>\n",
       "    </tr>\n",
       "  </tbody>\n",
       "</table>\n",
       "</div>"
      ],
      "text/plain": [
       "  Global_active_power Global_reactive_power  Voltage Global_intensity  \\\n",
       "0               4.216                 0.418  234.840           18.400   \n",
       "1               5.360                 0.436  233.630           23.000   \n",
       "2               5.374                 0.498  233.290           23.000   \n",
       "3               5.388                 0.502  233.740           23.000   \n",
       "4               3.666                 0.528  235.680           15.800   \n",
       "\n",
       "  Sub_metering_1 Sub_metering_2  Sub_metering_3            date_time  \n",
       "0          0.000          1.000            17.0  16/12/2006 17:24:00  \n",
       "1          0.000          1.000            16.0  16/12/2006 17:25:00  \n",
       "2          0.000          2.000            17.0  16/12/2006 17:26:00  \n",
       "3          0.000          1.000            17.0  16/12/2006 17:27:00  \n",
       "4          0.000          1.000            17.0  16/12/2006 17:28:00  "
      ]
     },
     "execution_count": 6,
     "metadata": {},
     "output_type": "execute_result"
    }
   ],
   "source": [
    "data['date_time'] = data['Date'].str.cat(data['Time'], sep= ' ')\n",
    "data.drop(['Date', 'Time'], inplace= True, axis = 1)\n",
    "data.head()"
   ]
  },
  {
   "cell_type": "code",
   "execution_count": 7,
   "metadata": {},
   "outputs": [
    {
     "data": {
      "text/html": [
       "<div>\n",
       "<style scoped>\n",
       "    .dataframe tbody tr th:only-of-type {\n",
       "        vertical-align: middle;\n",
       "    }\n",
       "\n",
       "    .dataframe tbody tr th {\n",
       "        vertical-align: top;\n",
       "    }\n",
       "\n",
       "    .dataframe thead th {\n",
       "        text-align: right;\n",
       "    }\n",
       "</style>\n",
       "<table border=\"1\" class=\"dataframe\">\n",
       "  <thead>\n",
       "    <tr style=\"text-align: right;\">\n",
       "      <th></th>\n",
       "      <th>Global_active_power</th>\n",
       "      <th>Global_reactive_power</th>\n",
       "      <th>Voltage</th>\n",
       "      <th>Global_intensity</th>\n",
       "      <th>Sub_metering_1</th>\n",
       "      <th>Sub_metering_2</th>\n",
       "      <th>Sub_metering_3</th>\n",
       "    </tr>\n",
       "    <tr>\n",
       "      <th>date_time</th>\n",
       "      <th></th>\n",
       "      <th></th>\n",
       "      <th></th>\n",
       "      <th></th>\n",
       "      <th></th>\n",
       "      <th></th>\n",
       "      <th></th>\n",
       "    </tr>\n",
       "  </thead>\n",
       "  <tbody>\n",
       "    <tr>\n",
       "      <th>16/12/2006 17:24:00</th>\n",
       "      <td>4.216</td>\n",
       "      <td>0.418</td>\n",
       "      <td>234.840</td>\n",
       "      <td>18.400</td>\n",
       "      <td>0.000</td>\n",
       "      <td>1.000</td>\n",
       "      <td>17.0</td>\n",
       "    </tr>\n",
       "    <tr>\n",
       "      <th>16/12/2006 17:25:00</th>\n",
       "      <td>5.360</td>\n",
       "      <td>0.436</td>\n",
       "      <td>233.630</td>\n",
       "      <td>23.000</td>\n",
       "      <td>0.000</td>\n",
       "      <td>1.000</td>\n",
       "      <td>16.0</td>\n",
       "    </tr>\n",
       "    <tr>\n",
       "      <th>16/12/2006 17:26:00</th>\n",
       "      <td>5.374</td>\n",
       "      <td>0.498</td>\n",
       "      <td>233.290</td>\n",
       "      <td>23.000</td>\n",
       "      <td>0.000</td>\n",
       "      <td>2.000</td>\n",
       "      <td>17.0</td>\n",
       "    </tr>\n",
       "    <tr>\n",
       "      <th>16/12/2006 17:27:00</th>\n",
       "      <td>5.388</td>\n",
       "      <td>0.502</td>\n",
       "      <td>233.740</td>\n",
       "      <td>23.000</td>\n",
       "      <td>0.000</td>\n",
       "      <td>1.000</td>\n",
       "      <td>17.0</td>\n",
       "    </tr>\n",
       "    <tr>\n",
       "      <th>16/12/2006 17:28:00</th>\n",
       "      <td>3.666</td>\n",
       "      <td>0.528</td>\n",
       "      <td>235.680</td>\n",
       "      <td>15.800</td>\n",
       "      <td>0.000</td>\n",
       "      <td>1.000</td>\n",
       "      <td>17.0</td>\n",
       "    </tr>\n",
       "  </tbody>\n",
       "</table>\n",
       "</div>"
      ],
      "text/plain": [
       "                    Global_active_power Global_reactive_power  Voltage  \\\n",
       "date_time                                                                \n",
       "16/12/2006 17:24:00               4.216                 0.418  234.840   \n",
       "16/12/2006 17:25:00               5.360                 0.436  233.630   \n",
       "16/12/2006 17:26:00               5.374                 0.498  233.290   \n",
       "16/12/2006 17:27:00               5.388                 0.502  233.740   \n",
       "16/12/2006 17:28:00               3.666                 0.528  235.680   \n",
       "\n",
       "                    Global_intensity Sub_metering_1 Sub_metering_2  \\\n",
       "date_time                                                            \n",
       "16/12/2006 17:24:00           18.400          0.000          1.000   \n",
       "16/12/2006 17:25:00           23.000          0.000          1.000   \n",
       "16/12/2006 17:26:00           23.000          0.000          2.000   \n",
       "16/12/2006 17:27:00           23.000          0.000          1.000   \n",
       "16/12/2006 17:28:00           15.800          0.000          1.000   \n",
       "\n",
       "                     Sub_metering_3  \n",
       "date_time                            \n",
       "16/12/2006 17:24:00            17.0  \n",
       "16/12/2006 17:25:00            16.0  \n",
       "16/12/2006 17:26:00            17.0  \n",
       "16/12/2006 17:27:00            17.0  \n",
       "16/12/2006 17:28:00            17.0  "
      ]
     },
     "execution_count": 7,
     "metadata": {},
     "output_type": "execute_result"
    }
   ],
   "source": [
    "data.set_index(['date_time'], inplace=True)\n",
    "data.head()"
   ]
  },
  {
   "cell_type": "code",
   "execution_count": 8,
   "metadata": {},
   "outputs": [],
   "source": [
    "data.replace('?', nan, inplace=True)"
   ]
  },
  {
   "cell_type": "code",
   "execution_count": 9,
   "metadata": {},
   "outputs": [],
   "source": [
    "data = data.astype('float')"
   ]
  },
  {
   "cell_type": "code",
   "execution_count": 10,
   "metadata": {},
   "outputs": [
    {
     "name": "stdout",
     "output_type": "stream",
     "text": [
      "<class 'pandas.core.frame.DataFrame'>\n",
      "Index: 2075259 entries, 16/12/2006 17:24:00 to 26/11/2010 21:02:00\n",
      "Data columns (total 7 columns):\n",
      "Global_active_power      float64\n",
      "Global_reactive_power    float64\n",
      "Voltage                  float64\n",
      "Global_intensity         float64\n",
      "Sub_metering_1           float64\n",
      "Sub_metering_2           float64\n",
      "Sub_metering_3           float64\n",
      "dtypes: float64(7)\n",
      "memory usage: 126.7+ MB\n"
     ]
    }
   ],
   "source": [
    "data.info()"
   ]
  },
  {
   "cell_type": "code",
   "execution_count": 11,
   "metadata": {},
   "outputs": [
    {
     "data": {
      "text/plain": [
       "Global_active_power      25979\n",
       "Global_reactive_power    25979\n",
       "Voltage                  25979\n",
       "Global_intensity         25979\n",
       "Sub_metering_1           25979\n",
       "Sub_metering_2           25979\n",
       "Sub_metering_3           25979\n",
       "dtype: int64"
      ]
     },
     "execution_count": 11,
     "metadata": {},
     "output_type": "execute_result"
    }
   ],
   "source": [
    "np.isnan(data).sum()"
   ]
  },
  {
   "cell_type": "code",
   "execution_count": 12,
   "metadata": {},
   "outputs": [],
   "source": [
    "def fill_missing(data):\n",
    "    one_day = 24*60\n",
    "    for row in range(data.shape[0]):\n",
    "        for col in range(data.shape[1]):\n",
    "            if np.isnan(data[row, col]):\n",
    "                data[row, col] = data[row-one_day, col]"
   ]
  },
  {
   "cell_type": "code",
   "execution_count": 13,
   "metadata": {},
   "outputs": [],
   "source": [
    "fill_missing(data.values)"
   ]
  },
  {
   "cell_type": "code",
   "execution_count": 14,
   "metadata": {},
   "outputs": [
    {
     "data": {
      "text/plain": [
       "Global_active_power      0\n",
       "Global_reactive_power    0\n",
       "Voltage                  0\n",
       "Global_intensity         0\n",
       "Sub_metering_1           0\n",
       "Sub_metering_2           0\n",
       "Sub_metering_3           0\n",
       "dtype: int64"
      ]
     },
     "execution_count": 14,
     "metadata": {},
     "output_type": "execute_result"
    }
   ],
   "source": [
    "np.isnan(data).sum()"
   ]
  },
  {
   "cell_type": "code",
   "execution_count": 15,
   "metadata": {},
   "outputs": [
    {
     "name": "stdout",
     "output_type": "stream",
     "text": [
      "<class 'pandas.core.frame.DataFrame'>\n",
      "Index: 2075259 entries, 16/12/2006 17:24:00 to 26/11/2010 21:02:00\n",
      "Data columns (total 7 columns):\n",
      "Global_active_power      float64\n",
      "Global_reactive_power    float64\n",
      "Voltage                  float64\n",
      "Global_intensity         float64\n",
      "Sub_metering_1           float64\n",
      "Sub_metering_2           float64\n",
      "Sub_metering_3           float64\n",
      "dtypes: float64(7)\n",
      "memory usage: 126.7+ MB\n"
     ]
    }
   ],
   "source": [
    "data.info()"
   ]
  },
  {
   "cell_type": "code",
   "execution_count": 16,
   "metadata": {},
   "outputs": [
    {
     "data": {
      "text/html": [
       "<div>\n",
       "<style scoped>\n",
       "    .dataframe tbody tr th:only-of-type {\n",
       "        vertical-align: middle;\n",
       "    }\n",
       "\n",
       "    .dataframe tbody tr th {\n",
       "        vertical-align: top;\n",
       "    }\n",
       "\n",
       "    .dataframe thead th {\n",
       "        text-align: right;\n",
       "    }\n",
       "</style>\n",
       "<table border=\"1\" class=\"dataframe\">\n",
       "  <thead>\n",
       "    <tr style=\"text-align: right;\">\n",
       "      <th></th>\n",
       "      <th>Global_active_power</th>\n",
       "      <th>Global_reactive_power</th>\n",
       "      <th>Voltage</th>\n",
       "      <th>Global_intensity</th>\n",
       "      <th>Sub_metering_1</th>\n",
       "      <th>Sub_metering_2</th>\n",
       "      <th>Sub_metering_3</th>\n",
       "    </tr>\n",
       "  </thead>\n",
       "  <tbody>\n",
       "    <tr>\n",
       "      <th>count</th>\n",
       "      <td>2.075259e+06</td>\n",
       "      <td>2.075259e+06</td>\n",
       "      <td>2.075259e+06</td>\n",
       "      <td>2.075259e+06</td>\n",
       "      <td>2.075259e+06</td>\n",
       "      <td>2.075259e+06</td>\n",
       "      <td>2.075259e+06</td>\n",
       "    </tr>\n",
       "    <tr>\n",
       "      <th>mean</th>\n",
       "      <td>1.089418e+00</td>\n",
       "      <td>1.236871e-01</td>\n",
       "      <td>2.408364e+02</td>\n",
       "      <td>4.618401e+00</td>\n",
       "      <td>1.118474e+00</td>\n",
       "      <td>1.291131e+00</td>\n",
       "      <td>6.448635e+00</td>\n",
       "    </tr>\n",
       "    <tr>\n",
       "      <th>std</th>\n",
       "      <td>1.054678e+00</td>\n",
       "      <td>1.125933e-01</td>\n",
       "      <td>3.240051e+00</td>\n",
       "      <td>4.433165e+00</td>\n",
       "      <td>6.141460e+00</td>\n",
       "      <td>5.796922e+00</td>\n",
       "      <td>8.433584e+00</td>\n",
       "    </tr>\n",
       "    <tr>\n",
       "      <th>min</th>\n",
       "      <td>7.600000e-02</td>\n",
       "      <td>0.000000e+00</td>\n",
       "      <td>2.232000e+02</td>\n",
       "      <td>2.000000e-01</td>\n",
       "      <td>0.000000e+00</td>\n",
       "      <td>0.000000e+00</td>\n",
       "      <td>0.000000e+00</td>\n",
       "    </tr>\n",
       "    <tr>\n",
       "      <th>25%</th>\n",
       "      <td>3.080000e-01</td>\n",
       "      <td>4.800000e-02</td>\n",
       "      <td>2.389900e+02</td>\n",
       "      <td>1.400000e+00</td>\n",
       "      <td>0.000000e+00</td>\n",
       "      <td>0.000000e+00</td>\n",
       "      <td>0.000000e+00</td>\n",
       "    </tr>\n",
       "    <tr>\n",
       "      <th>50%</th>\n",
       "      <td>6.020000e-01</td>\n",
       "      <td>1.000000e-01</td>\n",
       "      <td>2.410000e+02</td>\n",
       "      <td>2.600000e+00</td>\n",
       "      <td>0.000000e+00</td>\n",
       "      <td>0.000000e+00</td>\n",
       "      <td>1.000000e+00</td>\n",
       "    </tr>\n",
       "    <tr>\n",
       "      <th>75%</th>\n",
       "      <td>1.526000e+00</td>\n",
       "      <td>1.940000e-01</td>\n",
       "      <td>2.428700e+02</td>\n",
       "      <td>6.400000e+00</td>\n",
       "      <td>0.000000e+00</td>\n",
       "      <td>1.000000e+00</td>\n",
       "      <td>1.700000e+01</td>\n",
       "    </tr>\n",
       "    <tr>\n",
       "      <th>max</th>\n",
       "      <td>1.112200e+01</td>\n",
       "      <td>1.390000e+00</td>\n",
       "      <td>2.541500e+02</td>\n",
       "      <td>4.840000e+01</td>\n",
       "      <td>8.800000e+01</td>\n",
       "      <td>8.000000e+01</td>\n",
       "      <td>3.100000e+01</td>\n",
       "    </tr>\n",
       "  </tbody>\n",
       "</table>\n",
       "</div>"
      ],
      "text/plain": [
       "       Global_active_power  Global_reactive_power       Voltage  \\\n",
       "count         2.075259e+06           2.075259e+06  2.075259e+06   \n",
       "mean          1.089418e+00           1.236871e-01  2.408364e+02   \n",
       "std           1.054678e+00           1.125933e-01  3.240051e+00   \n",
       "min           7.600000e-02           0.000000e+00  2.232000e+02   \n",
       "25%           3.080000e-01           4.800000e-02  2.389900e+02   \n",
       "50%           6.020000e-01           1.000000e-01  2.410000e+02   \n",
       "75%           1.526000e+00           1.940000e-01  2.428700e+02   \n",
       "max           1.112200e+01           1.390000e+00  2.541500e+02   \n",
       "\n",
       "       Global_intensity  Sub_metering_1  Sub_metering_2  Sub_metering_3  \n",
       "count      2.075259e+06    2.075259e+06    2.075259e+06    2.075259e+06  \n",
       "mean       4.618401e+00    1.118474e+00    1.291131e+00    6.448635e+00  \n",
       "std        4.433165e+00    6.141460e+00    5.796922e+00    8.433584e+00  \n",
       "min        2.000000e-01    0.000000e+00    0.000000e+00    0.000000e+00  \n",
       "25%        1.400000e+00    0.000000e+00    0.000000e+00    0.000000e+00  \n",
       "50%        2.600000e+00    0.000000e+00    0.000000e+00    1.000000e+00  \n",
       "75%        6.400000e+00    0.000000e+00    1.000000e+00    1.700000e+01  \n",
       "max        4.840000e+01    8.800000e+01    8.000000e+01    3.100000e+01  "
      ]
     },
     "execution_count": 16,
     "metadata": {},
     "output_type": "execute_result"
    }
   ],
   "source": [
    "data.describe()"
   ]
  },
  {
   "cell_type": "code",
   "execution_count": 17,
   "metadata": {},
   "outputs": [
    {
     "data": {
      "text/plain": [
       "(2075259, 7)"
      ]
     },
     "execution_count": 17,
     "metadata": {},
     "output_type": "execute_result"
    }
   ],
   "source": [
    "data.shape"
   ]
  },
  {
   "cell_type": "code",
   "execution_count": 18,
   "metadata": {},
   "outputs": [],
   "source": [
    "data.to_csv('cleaned_data.csv')"
   ]
  },
  {
   "cell_type": "code",
   "execution_count": 19,
   "metadata": {},
   "outputs": [],
   "source": [
    "dataset = pd.read_csv('cleaned_data.csv', parse_dates = True, index_col = 'date_time', low_memory = False)\n"
   ]
  },
  {
   "cell_type": "code",
   "execution_count": 20,
   "metadata": {},
   "outputs": [
    {
     "data": {
      "text/html": [
       "<div>\n",
       "<style scoped>\n",
       "    .dataframe tbody tr th:only-of-type {\n",
       "        vertical-align: middle;\n",
       "    }\n",
       "\n",
       "    .dataframe tbody tr th {\n",
       "        vertical-align: top;\n",
       "    }\n",
       "\n",
       "    .dataframe thead th {\n",
       "        text-align: right;\n",
       "    }\n",
       "</style>\n",
       "<table border=\"1\" class=\"dataframe\">\n",
       "  <thead>\n",
       "    <tr style=\"text-align: right;\">\n",
       "      <th></th>\n",
       "      <th>Global_active_power</th>\n",
       "      <th>Global_reactive_power</th>\n",
       "      <th>Voltage</th>\n",
       "      <th>Global_intensity</th>\n",
       "      <th>Sub_metering_1</th>\n",
       "      <th>Sub_metering_2</th>\n",
       "      <th>Sub_metering_3</th>\n",
       "    </tr>\n",
       "    <tr>\n",
       "      <th>date_time</th>\n",
       "      <th></th>\n",
       "      <th></th>\n",
       "      <th></th>\n",
       "      <th></th>\n",
       "      <th></th>\n",
       "      <th></th>\n",
       "      <th></th>\n",
       "    </tr>\n",
       "  </thead>\n",
       "  <tbody>\n",
       "    <tr>\n",
       "      <th>2006-12-16 17:24:00</th>\n",
       "      <td>4.216</td>\n",
       "      <td>0.418</td>\n",
       "      <td>234.84</td>\n",
       "      <td>18.4</td>\n",
       "      <td>0.0</td>\n",
       "      <td>1.0</td>\n",
       "      <td>17.0</td>\n",
       "    </tr>\n",
       "    <tr>\n",
       "      <th>2006-12-16 17:25:00</th>\n",
       "      <td>5.360</td>\n",
       "      <td>0.436</td>\n",
       "      <td>233.63</td>\n",
       "      <td>23.0</td>\n",
       "      <td>0.0</td>\n",
       "      <td>1.0</td>\n",
       "      <td>16.0</td>\n",
       "    </tr>\n",
       "    <tr>\n",
       "      <th>2006-12-16 17:26:00</th>\n",
       "      <td>5.374</td>\n",
       "      <td>0.498</td>\n",
       "      <td>233.29</td>\n",
       "      <td>23.0</td>\n",
       "      <td>0.0</td>\n",
       "      <td>2.0</td>\n",
       "      <td>17.0</td>\n",
       "    </tr>\n",
       "    <tr>\n",
       "      <th>2006-12-16 17:27:00</th>\n",
       "      <td>5.388</td>\n",
       "      <td>0.502</td>\n",
       "      <td>233.74</td>\n",
       "      <td>23.0</td>\n",
       "      <td>0.0</td>\n",
       "      <td>1.0</td>\n",
       "      <td>17.0</td>\n",
       "    </tr>\n",
       "    <tr>\n",
       "      <th>2006-12-16 17:28:00</th>\n",
       "      <td>3.666</td>\n",
       "      <td>0.528</td>\n",
       "      <td>235.68</td>\n",
       "      <td>15.8</td>\n",
       "      <td>0.0</td>\n",
       "      <td>1.0</td>\n",
       "      <td>17.0</td>\n",
       "    </tr>\n",
       "  </tbody>\n",
       "</table>\n",
       "</div>"
      ],
      "text/plain": [
       "                     Global_active_power  Global_reactive_power  Voltage  \\\n",
       "date_time                                                                  \n",
       "2006-12-16 17:24:00                4.216                  0.418   234.84   \n",
       "2006-12-16 17:25:00                5.360                  0.436   233.63   \n",
       "2006-12-16 17:26:00                5.374                  0.498   233.29   \n",
       "2006-12-16 17:27:00                5.388                  0.502   233.74   \n",
       "2006-12-16 17:28:00                3.666                  0.528   235.68   \n",
       "\n",
       "                     Global_intensity  Sub_metering_1  Sub_metering_2  \\\n",
       "date_time                                                               \n",
       "2006-12-16 17:24:00              18.4             0.0             1.0   \n",
       "2006-12-16 17:25:00              23.0             0.0             1.0   \n",
       "2006-12-16 17:26:00              23.0             0.0             2.0   \n",
       "2006-12-16 17:27:00              23.0             0.0             1.0   \n",
       "2006-12-16 17:28:00              15.8             0.0             1.0   \n",
       "\n",
       "                     Sub_metering_3  \n",
       "date_time                            \n",
       "2006-12-16 17:24:00            17.0  \n",
       "2006-12-16 17:25:00            16.0  \n",
       "2006-12-16 17:26:00            17.0  \n",
       "2006-12-16 17:27:00            17.0  \n",
       "2006-12-16 17:28:00            17.0  "
      ]
     },
     "execution_count": 20,
     "metadata": {},
     "output_type": "execute_result"
    }
   ],
   "source": [
    "dataset.head()"
   ]
  },
  {
   "cell_type": "code",
   "execution_count": 21,
   "metadata": {},
   "outputs": [],
   "source": [
    "data = dataset.resample('D').sum()"
   ]
  },
  {
   "cell_type": "code",
   "execution_count": 22,
   "metadata": {},
   "outputs": [
    {
     "data": {
      "text/html": [
       "<div>\n",
       "<style scoped>\n",
       "    .dataframe tbody tr th:only-of-type {\n",
       "        vertical-align: middle;\n",
       "    }\n",
       "\n",
       "    .dataframe tbody tr th {\n",
       "        vertical-align: top;\n",
       "    }\n",
       "\n",
       "    .dataframe thead th {\n",
       "        text-align: right;\n",
       "    }\n",
       "</style>\n",
       "<table border=\"1\" class=\"dataframe\">\n",
       "  <thead>\n",
       "    <tr style=\"text-align: right;\">\n",
       "      <th></th>\n",
       "      <th>Global_active_power</th>\n",
       "      <th>Global_reactive_power</th>\n",
       "      <th>Voltage</th>\n",
       "      <th>Global_intensity</th>\n",
       "      <th>Sub_metering_1</th>\n",
       "      <th>Sub_metering_2</th>\n",
       "      <th>Sub_metering_3</th>\n",
       "    </tr>\n",
       "    <tr>\n",
       "      <th>date_time</th>\n",
       "      <th></th>\n",
       "      <th></th>\n",
       "      <th></th>\n",
       "      <th></th>\n",
       "      <th></th>\n",
       "      <th></th>\n",
       "      <th></th>\n",
       "    </tr>\n",
       "  </thead>\n",
       "  <tbody>\n",
       "    <tr>\n",
       "      <th>2006-12-16</th>\n",
       "      <td>1209.176</td>\n",
       "      <td>34.922</td>\n",
       "      <td>93552.53</td>\n",
       "      <td>5180.8</td>\n",
       "      <td>0.0</td>\n",
       "      <td>546.0</td>\n",
       "      <td>4926.0</td>\n",
       "    </tr>\n",
       "    <tr>\n",
       "      <th>2006-12-17</th>\n",
       "      <td>3390.460</td>\n",
       "      <td>226.006</td>\n",
       "      <td>345725.32</td>\n",
       "      <td>14398.6</td>\n",
       "      <td>2033.0</td>\n",
       "      <td>4187.0</td>\n",
       "      <td>13341.0</td>\n",
       "    </tr>\n",
       "    <tr>\n",
       "      <th>2006-12-18</th>\n",
       "      <td>2203.826</td>\n",
       "      <td>161.792</td>\n",
       "      <td>347373.64</td>\n",
       "      <td>9247.2</td>\n",
       "      <td>1063.0</td>\n",
       "      <td>2621.0</td>\n",
       "      <td>14018.0</td>\n",
       "    </tr>\n",
       "    <tr>\n",
       "      <th>2006-12-19</th>\n",
       "      <td>1666.194</td>\n",
       "      <td>150.942</td>\n",
       "      <td>348479.01</td>\n",
       "      <td>7094.0</td>\n",
       "      <td>839.0</td>\n",
       "      <td>7602.0</td>\n",
       "      <td>6197.0</td>\n",
       "    </tr>\n",
       "    <tr>\n",
       "      <th>2006-12-20</th>\n",
       "      <td>2225.748</td>\n",
       "      <td>160.998</td>\n",
       "      <td>348923.61</td>\n",
       "      <td>9313.0</td>\n",
       "      <td>0.0</td>\n",
       "      <td>2648.0</td>\n",
       "      <td>14063.0</td>\n",
       "    </tr>\n",
       "  </tbody>\n",
       "</table>\n",
       "</div>"
      ],
      "text/plain": [
       "            Global_active_power  Global_reactive_power    Voltage  \\\n",
       "date_time                                                           \n",
       "2006-12-16             1209.176                 34.922   93552.53   \n",
       "2006-12-17             3390.460                226.006  345725.32   \n",
       "2006-12-18             2203.826                161.792  347373.64   \n",
       "2006-12-19             1666.194                150.942  348479.01   \n",
       "2006-12-20             2225.748                160.998  348923.61   \n",
       "\n",
       "            Global_intensity  Sub_metering_1  Sub_metering_2  Sub_metering_3  \n",
       "date_time                                                                     \n",
       "2006-12-16            5180.8             0.0           546.0          4926.0  \n",
       "2006-12-17           14398.6          2033.0          4187.0         13341.0  \n",
       "2006-12-18            9247.2          1063.0          2621.0         14018.0  \n",
       "2006-12-19            7094.0           839.0          7602.0          6197.0  \n",
       "2006-12-20            9313.0             0.0          2648.0         14063.0  "
      ]
     },
     "execution_count": 22,
     "metadata": {},
     "output_type": "execute_result"
    }
   ],
   "source": [
    "data.head()"
   ]
  },
  {
   "cell_type": "code",
   "execution_count": 23,
   "metadata": {},
   "outputs": [
    {
     "data": {
      "text/plain": [
       "date_time\n",
       "2006-12-16    1209.176\n",
       "2006-12-17    3390.460\n",
       "2006-12-18    2203.826\n",
       "2006-12-19    1666.194\n",
       "2006-12-20    2225.748\n",
       "Freq: D, Name: Global_active_power, dtype: float64"
      ]
     },
     "execution_count": 23,
     "metadata": {},
     "output_type": "execute_result"
    }
   ],
   "source": [
    "data_train = data.loc[:'2009-12-31', :]['Global_active_power']\n",
    "data_train.head()"
   ]
  },
  {
   "cell_type": "code",
   "execution_count": 24,
   "metadata": {},
   "outputs": [
    {
     "data": {
      "text/plain": [
       "date_time\n",
       "2010-01-01    1224.252\n",
       "2010-01-02    1693.778\n",
       "2010-01-03    1298.728\n",
       "2010-01-04    1687.440\n",
       "2010-01-05    1320.158\n",
       "Freq: D, Name: Global_active_power, dtype: float64"
      ]
     },
     "execution_count": 24,
     "metadata": {},
     "output_type": "execute_result"
    }
   ],
   "source": [
    "data_test = data['2010']['Global_active_power']\n",
    "data_test.head()"
   ]
  },
  {
   "cell_type": "code",
   "execution_count": 25,
   "metadata": {},
   "outputs": [
    {
     "data": {
      "text/plain": [
       "(1112,)"
      ]
     },
     "execution_count": 25,
     "metadata": {},
     "output_type": "execute_result"
    }
   ],
   "source": [
    "data_train.shape"
   ]
  },
  {
   "cell_type": "code",
   "execution_count": 26,
   "metadata": {},
   "outputs": [
    {
     "data": {
      "text/plain": [
       "(345,)"
      ]
     },
     "execution_count": 26,
     "metadata": {},
     "output_type": "execute_result"
    }
   ],
   "source": [
    "data_test.shape"
   ]
  },
  {
   "cell_type": "code",
   "execution_count": 27,
   "metadata": {},
   "outputs": [
    {
     "data": {
      "text/plain": [
       "date_time\n",
       "2006-12-16    1209.176\n",
       "2006-12-17    3390.460\n",
       "2006-12-18    2203.826\n",
       "2006-12-19    1666.194\n",
       "2006-12-20    2225.748\n",
       "2006-12-21    1723.288\n",
       "2006-12-22    2341.338\n",
       "2006-12-23    4773.386\n",
       "2006-12-24    2550.012\n",
       "2006-12-25    2743.120\n",
       "2006-12-26    3934.110\n",
       "2006-12-27    1528.760\n",
       "2006-12-28    2072.638\n",
       "2006-12-29    3174.392\n",
       "Freq: D, Name: Global_active_power, dtype: float64"
      ]
     },
     "execution_count": 27,
     "metadata": {},
     "output_type": "execute_result"
    }
   ],
   "source": [
    "data_train.head(14)"
   ]
  },
  {
   "cell_type": "code",
   "execution_count": 28,
   "metadata": {},
   "outputs": [],
   "source": [
    "data_train = np.array(data_train)"
   ]
  },
  {
   "cell_type": "code",
   "execution_count": 29,
   "metadata": {},
   "outputs": [],
   "source": [
    "\n",
    "X_train, y_train = [], []\n",
    "\n",
    "for i in range(7, len(data_train)-7):\n",
    "    X_train.append(data_train[i-7:i])\n",
    "    y_train.append(data_train[i:i+7])"
   ]
  },
  {
   "cell_type": "code",
   "execution_count": 31,
   "metadata": {},
   "outputs": [],
   "source": [
    "X_train, y_train = np.array(X_train), np.array(y_train)"
   ]
  },
  {
   "cell_type": "code",
   "execution_count": 32,
   "metadata": {},
   "outputs": [
    {
     "data": {
      "text/plain": [
       "((1098, 7), (1098, 7))"
      ]
     },
     "execution_count": 32,
     "metadata": {},
     "output_type": "execute_result"
    }
   ],
   "source": [
    "X_train.shape, y_train.shape"
   ]
  },
  {
   "cell_type": "code",
   "execution_count": 35,
   "metadata": {},
   "outputs": [
    {
     "data": {
      "text/html": [
       "<div>\n",
       "<style scoped>\n",
       "    .dataframe tbody tr th:only-of-type {\n",
       "        vertical-align: middle;\n",
       "    }\n",
       "\n",
       "    .dataframe tbody tr th {\n",
       "        vertical-align: top;\n",
       "    }\n",
       "\n",
       "    .dataframe thead th {\n",
       "        text-align: right;\n",
       "    }\n",
       "</style>\n",
       "<table border=\"1\" class=\"dataframe\">\n",
       "  <thead>\n",
       "    <tr style=\"text-align: right;\">\n",
       "      <th></th>\n",
       "      <th>0</th>\n",
       "      <th>1</th>\n",
       "      <th>2</th>\n",
       "      <th>3</th>\n",
       "      <th>4</th>\n",
       "      <th>5</th>\n",
       "      <th>6</th>\n",
       "    </tr>\n",
       "  </thead>\n",
       "  <tbody>\n",
       "    <tr>\n",
       "      <th>0</th>\n",
       "      <td>4773.386</td>\n",
       "      <td>2550.012</td>\n",
       "      <td>2743.120</td>\n",
       "      <td>3934.110</td>\n",
       "      <td>1528.760</td>\n",
       "      <td>2072.638</td>\n",
       "      <td>3174.392</td>\n",
       "    </tr>\n",
       "    <tr>\n",
       "      <th>1</th>\n",
       "      <td>2550.012</td>\n",
       "      <td>2743.120</td>\n",
       "      <td>3934.110</td>\n",
       "      <td>1528.760</td>\n",
       "      <td>2072.638</td>\n",
       "      <td>3174.392</td>\n",
       "      <td>2796.108</td>\n",
       "    </tr>\n",
       "    <tr>\n",
       "      <th>2</th>\n",
       "      <td>2743.120</td>\n",
       "      <td>3934.110</td>\n",
       "      <td>1528.760</td>\n",
       "      <td>2072.638</td>\n",
       "      <td>3174.392</td>\n",
       "      <td>2796.108</td>\n",
       "      <td>3494.196</td>\n",
       "    </tr>\n",
       "    <tr>\n",
       "      <th>3</th>\n",
       "      <td>3934.110</td>\n",
       "      <td>1528.760</td>\n",
       "      <td>2072.638</td>\n",
       "      <td>3174.392</td>\n",
       "      <td>2796.108</td>\n",
       "      <td>3494.196</td>\n",
       "      <td>2749.004</td>\n",
       "    </tr>\n",
       "    <tr>\n",
       "      <th>4</th>\n",
       "      <td>1528.760</td>\n",
       "      <td>2072.638</td>\n",
       "      <td>3174.392</td>\n",
       "      <td>2796.108</td>\n",
       "      <td>3494.196</td>\n",
       "      <td>2749.004</td>\n",
       "      <td>1824.760</td>\n",
       "    </tr>\n",
       "  </tbody>\n",
       "</table>\n",
       "</div>"
      ],
      "text/plain": [
       "          0         1         2         3         4         5         6\n",
       "0  4773.386  2550.012  2743.120  3934.110  1528.760  2072.638  3174.392\n",
       "1  2550.012  2743.120  3934.110  1528.760  2072.638  3174.392  2796.108\n",
       "2  2743.120  3934.110  1528.760  2072.638  3174.392  2796.108  3494.196\n",
       "3  3934.110  1528.760  2072.638  3174.392  2796.108  3494.196  2749.004\n",
       "4  1528.760  2072.638  3174.392  2796.108  3494.196  2749.004  1824.760"
      ]
     },
     "execution_count": 35,
     "metadata": {},
     "output_type": "execute_result"
    }
   ],
   "source": [
    "pd.DataFrame(y_train).head()"
   ]
  },
  {
   "cell_type": "code",
   "execution_count": 36,
   "metadata": {},
   "outputs": [],
   "source": [
    "x_scaler = MinMaxScaler()\n",
    "X_train = x_scaler.fit_transform(X_train)"
   ]
  },
  {
   "cell_type": "code",
   "execution_count": 37,
   "metadata": {},
   "outputs": [],
   "source": [
    "y_scaler = MinMaxScaler()\n",
    "y_train = y_scaler.fit_transform(y_train)"
   ]
  },
  {
   "cell_type": "code",
   "execution_count": 38,
   "metadata": {},
   "outputs": [
    {
     "data": {
      "text/html": [
       "<div>\n",
       "<style scoped>\n",
       "    .dataframe tbody tr th:only-of-type {\n",
       "        vertical-align: middle;\n",
       "    }\n",
       "\n",
       "    .dataframe tbody tr th {\n",
       "        vertical-align: top;\n",
       "    }\n",
       "\n",
       "    .dataframe thead th {\n",
       "        text-align: right;\n",
       "    }\n",
       "</style>\n",
       "<table border=\"1\" class=\"dataframe\">\n",
       "  <thead>\n",
       "    <tr style=\"text-align: right;\">\n",
       "      <th></th>\n",
       "      <th>0</th>\n",
       "      <th>1</th>\n",
       "      <th>2</th>\n",
       "      <th>3</th>\n",
       "      <th>4</th>\n",
       "      <th>5</th>\n",
       "      <th>6</th>\n",
       "    </tr>\n",
       "  </thead>\n",
       "  <tbody>\n",
       "    <tr>\n",
       "      <th>0</th>\n",
       "      <td>0.211996</td>\n",
       "      <td>0.694252</td>\n",
       "      <td>0.431901</td>\n",
       "      <td>0.313037</td>\n",
       "      <td>0.436748</td>\n",
       "      <td>0.325660</td>\n",
       "      <td>0.462304</td>\n",
       "    </tr>\n",
       "    <tr>\n",
       "      <th>1</th>\n",
       "      <td>0.694252</td>\n",
       "      <td>0.431901</td>\n",
       "      <td>0.313037</td>\n",
       "      <td>0.436748</td>\n",
       "      <td>0.325660</td>\n",
       "      <td>0.462304</td>\n",
       "      <td>1.000000</td>\n",
       "    </tr>\n",
       "    <tr>\n",
       "      <th>2</th>\n",
       "      <td>0.431901</td>\n",
       "      <td>0.313037</td>\n",
       "      <td>0.436748</td>\n",
       "      <td>0.325660</td>\n",
       "      <td>0.462304</td>\n",
       "      <td>1.000000</td>\n",
       "      <td>0.508439</td>\n",
       "    </tr>\n",
       "    <tr>\n",
       "      <th>3</th>\n",
       "      <td>0.313037</td>\n",
       "      <td>0.436748</td>\n",
       "      <td>0.325660</td>\n",
       "      <td>0.462304</td>\n",
       "      <td>1.000000</td>\n",
       "      <td>0.508439</td>\n",
       "      <td>0.551133</td>\n",
       "    </tr>\n",
       "    <tr>\n",
       "      <th>4</th>\n",
       "      <td>0.436748</td>\n",
       "      <td>0.325660</td>\n",
       "      <td>0.462304</td>\n",
       "      <td>1.000000</td>\n",
       "      <td>0.508439</td>\n",
       "      <td>0.551133</td>\n",
       "      <td>0.814446</td>\n",
       "    </tr>\n",
       "  </tbody>\n",
       "</table>\n",
       "</div>"
      ],
      "text/plain": [
       "          0         1         2         3         4         5         6\n",
       "0  0.211996  0.694252  0.431901  0.313037  0.436748  0.325660  0.462304\n",
       "1  0.694252  0.431901  0.313037  0.436748  0.325660  0.462304  1.000000\n",
       "2  0.431901  0.313037  0.436748  0.325660  0.462304  1.000000  0.508439\n",
       "3  0.313037  0.436748  0.325660  0.462304  1.000000  0.508439  0.551133\n",
       "4  0.436748  0.325660  0.462304  1.000000  0.508439  0.551133  0.814446"
      ]
     },
     "execution_count": 38,
     "metadata": {},
     "output_type": "execute_result"
    }
   ],
   "source": [
    "pd.DataFrame(X_train).head()"
   ]
  },
  {
   "cell_type": "code",
   "execution_count": 58,
   "metadata": {},
   "outputs": [
    {
     "data": {
      "text/html": [
       "<div>\n",
       "<style scoped>\n",
       "    .dataframe tbody tr th:only-of-type {\n",
       "        vertical-align: middle;\n",
       "    }\n",
       "\n",
       "    .dataframe tbody tr th {\n",
       "        vertical-align: top;\n",
       "    }\n",
       "\n",
       "    .dataframe thead th {\n",
       "        text-align: right;\n",
       "    }\n",
       "</style>\n",
       "<table border=\"1\" class=\"dataframe\">\n",
       "  <thead>\n",
       "    <tr style=\"text-align: right;\">\n",
       "      <th></th>\n",
       "      <th>0</th>\n",
       "      <th>1</th>\n",
       "      <th>2</th>\n",
       "      <th>3</th>\n",
       "      <th>4</th>\n",
       "      <th>5</th>\n",
       "      <th>6</th>\n",
       "    </tr>\n",
       "  </thead>\n",
       "  <tbody>\n",
       "    <tr>\n",
       "      <th>0</th>\n",
       "      <td>0.215329</td>\n",
       "      <td>0.319136</td>\n",
       "      <td>0.231795</td>\n",
       "      <td>0.317735</td>\n",
       "      <td>0.236533</td>\n",
       "      <td>0.225215</td>\n",
       "      <td>0.242910</td>\n",
       "    </tr>\n",
       "    <tr>\n",
       "      <th>1</th>\n",
       "      <td>0.319136</td>\n",
       "      <td>0.231795</td>\n",
       "      <td>0.317735</td>\n",
       "      <td>0.236533</td>\n",
       "      <td>0.225215</td>\n",
       "      <td>0.242910</td>\n",
       "      <td>0.067513</td>\n",
       "    </tr>\n",
       "    <tr>\n",
       "      <th>2</th>\n",
       "      <td>0.231795</td>\n",
       "      <td>0.317735</td>\n",
       "      <td>0.236533</td>\n",
       "      <td>0.225215</td>\n",
       "      <td>0.242910</td>\n",
       "      <td>0.067513</td>\n",
       "      <td>0.296925</td>\n",
       "    </tr>\n",
       "    <tr>\n",
       "      <th>3</th>\n",
       "      <td>0.317735</td>\n",
       "      <td>0.236533</td>\n",
       "      <td>0.225215</td>\n",
       "      <td>0.242910</td>\n",
       "      <td>0.067513</td>\n",
       "      <td>0.296925</td>\n",
       "      <td>0.277360</td>\n",
       "    </tr>\n",
       "    <tr>\n",
       "      <th>4</th>\n",
       "      <td>0.236533</td>\n",
       "      <td>0.225215</td>\n",
       "      <td>0.242910</td>\n",
       "      <td>0.067513</td>\n",
       "      <td>0.296925</td>\n",
       "      <td>0.277360</td>\n",
       "      <td>0.250466</td>\n",
       "    </tr>\n",
       "  </tbody>\n",
       "</table>\n",
       "</div>"
      ],
      "text/plain": [
       "          0         1         2         3         4         5         6\n",
       "0  0.215329  0.319136  0.231795  0.317735  0.236533  0.225215  0.242910\n",
       "1  0.319136  0.231795  0.317735  0.236533  0.225215  0.242910  0.067513\n",
       "2  0.231795  0.317735  0.236533  0.225215  0.242910  0.067513  0.296925\n",
       "3  0.317735  0.236533  0.225215  0.242910  0.067513  0.296925  0.277360\n",
       "4  0.236533  0.225215  0.242910  0.067513  0.296925  0.277360  0.250466"
      ]
     },
     "execution_count": 58,
     "metadata": {},
     "output_type": "execute_result"
    }
   ],
   "source": [
    "pd.DataFrame(X_test.reshape(331,7)).head()"
   ]
  },
  {
   "cell_type": "code",
   "execution_count": 39,
   "metadata": {},
   "outputs": [],
   "source": [
    "X_train = X_train.reshape(1098, 7, 1)"
   ]
  },
  {
   "cell_type": "code",
   "execution_count": 60,
   "metadata": {},
   "outputs": [
    {
     "data": {
      "text/html": [
       "<div>\n",
       "<style scoped>\n",
       "    .dataframe tbody tr th:only-of-type {\n",
       "        vertical-align: middle;\n",
       "    }\n",
       "\n",
       "    .dataframe tbody tr th {\n",
       "        vertical-align: top;\n",
       "    }\n",
       "\n",
       "    .dataframe thead th {\n",
       "        text-align: right;\n",
       "    }\n",
       "</style>\n",
       "<table border=\"1\" class=\"dataframe\">\n",
       "  <thead>\n",
       "    <tr style=\"text-align: right;\">\n",
       "      <th></th>\n",
       "      <th>0</th>\n",
       "      <th>1</th>\n",
       "      <th>2</th>\n",
       "      <th>3</th>\n",
       "      <th>4</th>\n",
       "      <th>5</th>\n",
       "      <th>6</th>\n",
       "    </tr>\n",
       "  </thead>\n",
       "  <tbody>\n",
       "    <tr>\n",
       "      <th>0</th>\n",
       "      <td>1.000000</td>\n",
       "      <td>0.608483</td>\n",
       "      <td>0.659577</td>\n",
       "      <td>0.974702</td>\n",
       "      <td>0.338269</td>\n",
       "      <td>0.482174</td>\n",
       "      <td>0.773688</td>\n",
       "    </tr>\n",
       "    <tr>\n",
       "      <th>1</th>\n",
       "      <td>0.508439</td>\n",
       "      <td>0.659577</td>\n",
       "      <td>0.974702</td>\n",
       "      <td>0.338269</td>\n",
       "      <td>0.482174</td>\n",
       "      <td>0.773688</td>\n",
       "      <td>0.673597</td>\n",
       "    </tr>\n",
       "    <tr>\n",
       "      <th>2</th>\n",
       "      <td>0.551133</td>\n",
       "      <td>0.974702</td>\n",
       "      <td>0.338269</td>\n",
       "      <td>0.482174</td>\n",
       "      <td>0.773688</td>\n",
       "      <td>0.673597</td>\n",
       "      <td>0.858305</td>\n",
       "    </tr>\n",
       "    <tr>\n",
       "      <th>3</th>\n",
       "      <td>0.814446</td>\n",
       "      <td>0.338269</td>\n",
       "      <td>0.482174</td>\n",
       "      <td>0.773688</td>\n",
       "      <td>0.673597</td>\n",
       "      <td>0.858305</td>\n",
       "      <td>0.661134</td>\n",
       "    </tr>\n",
       "    <tr>\n",
       "      <th>4</th>\n",
       "      <td>0.282652</td>\n",
       "      <td>0.482174</td>\n",
       "      <td>0.773688</td>\n",
       "      <td>0.673597</td>\n",
       "      <td>0.858305</td>\n",
       "      <td>0.661134</td>\n",
       "      <td>0.416588</td>\n",
       "    </tr>\n",
       "    <tr>\n",
       "      <th>...</th>\n",
       "      <td>...</td>\n",
       "      <td>...</td>\n",
       "      <td>...</td>\n",
       "      <td>...</td>\n",
       "      <td>...</td>\n",
       "      <td>...</td>\n",
       "      <td>...</td>\n",
       "    </tr>\n",
       "    <tr>\n",
       "      <th>1093</th>\n",
       "      <td>0.197623</td>\n",
       "      <td>0.472206</td>\n",
       "      <td>0.433326</td>\n",
       "      <td>0.318806</td>\n",
       "      <td>0.702646</td>\n",
       "      <td>0.496729</td>\n",
       "      <td>0.511538</td>\n",
       "    </tr>\n",
       "    <tr>\n",
       "      <th>1094</th>\n",
       "      <td>0.394568</td>\n",
       "      <td>0.433326</td>\n",
       "      <td>0.318806</td>\n",
       "      <td>0.702646</td>\n",
       "      <td>0.496729</td>\n",
       "      <td>0.511538</td>\n",
       "      <td>0.514669</td>\n",
       "    </tr>\n",
       "    <tr>\n",
       "      <th>1095</th>\n",
       "      <td>0.362081</td>\n",
       "      <td>0.318806</td>\n",
       "      <td>0.702646</td>\n",
       "      <td>0.496729</td>\n",
       "      <td>0.511538</td>\n",
       "      <td>0.514669</td>\n",
       "      <td>0.487852</td>\n",
       "    </tr>\n",
       "    <tr>\n",
       "      <th>1096</th>\n",
       "      <td>0.266389</td>\n",
       "      <td>0.702646</td>\n",
       "      <td>0.496729</td>\n",
       "      <td>0.511538</td>\n",
       "      <td>0.514669</td>\n",
       "      <td>0.487852</td>\n",
       "      <td>0.475647</td>\n",
       "    </tr>\n",
       "    <tr>\n",
       "      <th>1097</th>\n",
       "      <td>0.587120</td>\n",
       "      <td>0.496729</td>\n",
       "      <td>0.511538</td>\n",
       "      <td>0.514669</td>\n",
       "      <td>0.487852</td>\n",
       "      <td>0.475647</td>\n",
       "      <td>0.582314</td>\n",
       "    </tr>\n",
       "  </tbody>\n",
       "</table>\n",
       "<p>1098 rows × 7 columns</p>\n",
       "</div>"
      ],
      "text/plain": [
       "             0         1         2         3         4         5         6\n",
       "0     1.000000  0.608483  0.659577  0.974702  0.338269  0.482174  0.773688\n",
       "1     0.508439  0.659577  0.974702  0.338269  0.482174  0.773688  0.673597\n",
       "2     0.551133  0.974702  0.338269  0.482174  0.773688  0.673597  0.858305\n",
       "3     0.814446  0.338269  0.482174  0.773688  0.673597  0.858305  0.661134\n",
       "4     0.282652  0.482174  0.773688  0.673597  0.858305  0.661134  0.416588\n",
       "...        ...       ...       ...       ...       ...       ...       ...\n",
       "1093  0.197623  0.472206  0.433326  0.318806  0.702646  0.496729  0.511538\n",
       "1094  0.394568  0.433326  0.318806  0.702646  0.496729  0.511538  0.514669\n",
       "1095  0.362081  0.318806  0.702646  0.496729  0.511538  0.514669  0.487852\n",
       "1096  0.266389  0.702646  0.496729  0.511538  0.514669  0.487852  0.475647\n",
       "1097  0.587120  0.496729  0.511538  0.514669  0.487852  0.475647  0.582314\n",
       "\n",
       "[1098 rows x 7 columns]"
      ]
     },
     "execution_count": 60,
     "metadata": {},
     "output_type": "execute_result"
    }
   ],
   "source": [
    "pd.DataFrame(y_train)"
   ]
  },
  {
   "cell_type": "markdown",
   "metadata": {},
   "source": [
    "## MODEL"
   ]
  },
  {
   "cell_type": "code",
   "execution_count": 40,
   "metadata": {},
   "outputs": [],
   "source": [
    "reg = Sequential()\n",
    "reg.add(LSTM(units = 200, activation = 'relu', input_shape=(7,1)))\n",
    "reg.add(Dense(7))"
   ]
  },
  {
   "cell_type": "code",
   "execution_count": 41,
   "metadata": {},
   "outputs": [],
   "source": [
    "reg.compile(loss='mse', optimizer='adam')"
   ]
  },
  {
   "cell_type": "code",
   "execution_count": 42,
   "metadata": {},
   "outputs": [
    {
     "name": "stdout",
     "output_type": "stream",
     "text": [
      "Train on 1098 samples\n",
      "Epoch 1/100\n",
      "1098/1098 [==============================] - 3s 3ms/sample - loss: 0.0604\n",
      "Epoch 2/100\n",
      "1098/1098 [==============================] - 0s 274us/sample - loss: 0.0251\n",
      "Epoch 3/100\n",
      "1098/1098 [==============================] - 0s 269us/sample - loss: 0.0242\n",
      "Epoch 4/100\n",
      "1098/1098 [==============================] - 0s 271us/sample - loss: 0.0240\n",
      "Epoch 5/100\n",
      "1098/1098 [==============================] - 0s 269us/sample - loss: 0.0240\n",
      "Epoch 6/100\n",
      "1098/1098 [==============================] - 0s 273us/sample - loss: 0.0239\n",
      "Epoch 7/100\n",
      "1098/1098 [==============================] - 0s 274us/sample - loss: 0.0242\n",
      "Epoch 8/100\n",
      "1098/1098 [==============================] - 0s 276us/sample - loss: 0.0239\n",
      "Epoch 9/100\n",
      "1098/1098 [==============================] - 0s 254us/sample - loss: 0.0238\n",
      "Epoch 10/100\n",
      "1098/1098 [==============================] - 0s 249us/sample - loss: 0.0238\n",
      "Epoch 11/100\n",
      "1098/1098 [==============================] - 0s 246us/sample - loss: 0.0239\n",
      "Epoch 12/100\n",
      "1098/1098 [==============================] - 0s 249us/sample - loss: 0.0237\n",
      "Epoch 13/100\n",
      "1098/1098 [==============================] - 0s 259us/sample - loss: 0.0236\n",
      "Epoch 14/100\n",
      "1098/1098 [==============================] - 0s 259us/sample - loss: 0.0237\n",
      "Epoch 15/100\n",
      "1098/1098 [==============================] - 0s 251us/sample - loss: 0.0235\n",
      "Epoch 16/100\n",
      "1098/1098 [==============================] - 0s 271us/sample - loss: 0.0235\n",
      "Epoch 17/100\n",
      "1098/1098 [==============================] - 0s 269us/sample - loss: 0.0236\n",
      "Epoch 18/100\n",
      "1098/1098 [==============================] - 0s 251us/sample - loss: 0.0236\n",
      "Epoch 19/100\n",
      "1098/1098 [==============================] - 0s 298us/sample - loss: 0.0235\n",
      "Epoch 20/100\n",
      "1098/1098 [==============================] - 0s 260us/sample - loss: 0.0234\n",
      "Epoch 21/100\n",
      "1098/1098 [==============================] - 0s 255us/sample - loss: 0.0234\n",
      "Epoch 22/100\n",
      "1098/1098 [==============================] - 0s 291us/sample - loss: 0.0234\n",
      "Epoch 23/100\n",
      "1098/1098 [==============================] - 0s 287us/sample - loss: 0.0234\n",
      "Epoch 24/100\n",
      "1098/1098 [==============================] - 0s 274us/sample - loss: 0.0233\n",
      "Epoch 25/100\n",
      "1098/1098 [==============================] - 0s 279us/sample - loss: 0.0234\n",
      "Epoch 26/100\n",
      "1098/1098 [==============================] - 0s 268us/sample - loss: 0.0236\n",
      "Epoch 27/100\n",
      "1098/1098 [==============================] - 0s 286us/sample - loss: 0.0234\n",
      "Epoch 28/100\n",
      "1098/1098 [==============================] - 0s 243us/sample - loss: 0.0237\n",
      "Epoch 29/100\n",
      "1098/1098 [==============================] - 0s 239us/sample - loss: 0.0234\n",
      "Epoch 30/100\n",
      "1098/1098 [==============================] - 0s 239us/sample - loss: 0.0233\n",
      "Epoch 31/100\n",
      "1098/1098 [==============================] - 0s 261us/sample - loss: 0.0233\n",
      "Epoch 32/100\n",
      "1098/1098 [==============================] - 0s 263us/sample - loss: 0.0233\n",
      "Epoch 33/100\n",
      "1098/1098 [==============================] - 0s 250us/sample - loss: 0.0233s - loss: 0.02\n",
      "Epoch 34/100\n",
      "1098/1098 [==============================] - 0s 264us/sample - loss: 0.0232\n",
      "Epoch 35/100\n",
      "1098/1098 [==============================] - 0s 250us/sample - loss: 0.0233\n",
      "Epoch 36/100\n",
      "1098/1098 [==============================] - 0s 280us/sample - loss: 0.0233\n",
      "Epoch 37/100\n",
      "1098/1098 [==============================] - 0s 233us/sample - loss: 0.0233\n",
      "Epoch 38/100\n",
      "1098/1098 [==============================] - 0s 290us/sample - loss: 0.0232\n",
      "Epoch 39/100\n",
      "1098/1098 [==============================] - 0s 297us/sample - loss: 0.0233\n",
      "Epoch 40/100\n",
      "1098/1098 [==============================] - 0s 286us/sample - loss: 0.0232\n",
      "Epoch 41/100\n",
      "1098/1098 [==============================] - 0s 295us/sample - loss: 0.0234\n",
      "Epoch 42/100\n",
      "1098/1098 [==============================] - 0s 275us/sample - loss: 0.0235\n",
      "Epoch 43/100\n",
      "1098/1098 [==============================] - 0s 281us/sample - loss: 0.0232\n",
      "Epoch 44/100\n",
      "1098/1098 [==============================] - 0s 288us/sample - loss: 0.0231\n",
      "Epoch 45/100\n",
      "1098/1098 [==============================] - 0s 274us/sample - loss: 0.0234\n",
      "Epoch 46/100\n",
      "1098/1098 [==============================] - 0s 278us/sample - loss: 0.0232\n",
      "Epoch 47/100\n",
      "1098/1098 [==============================] - 0s 279us/sample - loss: 0.0232\n",
      "Epoch 48/100\n",
      "1098/1098 [==============================] - 0s 269us/sample - loss: 0.0232\n",
      "Epoch 49/100\n",
      "1098/1098 [==============================] - 0s 276us/sample - loss: 0.0231\n",
      "Epoch 50/100\n",
      "1098/1098 [==============================] - 0s 291us/sample - loss: 0.0231\n",
      "Epoch 51/100\n",
      "1098/1098 [==============================] - 0s 267us/sample - loss: 0.0232\n",
      "Epoch 52/100\n",
      "1098/1098 [==============================] - 0s 284us/sample - loss: 0.0233\n",
      "Epoch 53/100\n",
      "1098/1098 [==============================] - 0s 268us/sample - loss: 0.0231\n",
      "Epoch 54/100\n",
      "1098/1098 [==============================] - 0s 281us/sample - loss: 0.0231\n",
      "Epoch 55/100\n",
      "1098/1098 [==============================] - 0s 255us/sample - loss: 0.0232\n",
      "Epoch 56/100\n",
      "1098/1098 [==============================] - 0s 262us/sample - loss: 0.0232\n",
      "Epoch 57/100\n",
      "1098/1098 [==============================] - 0s 283us/sample - loss: 0.0232\n",
      "Epoch 58/100\n",
      "1098/1098 [==============================] - 0s 299us/sample - loss: 0.0229\n",
      "Epoch 59/100\n",
      "1098/1098 [==============================] - 0s 291us/sample - loss: 0.0232\n",
      "Epoch 60/100\n",
      "1098/1098 [==============================] - 0s 269us/sample - loss: 0.0231\n",
      "Epoch 61/100\n",
      "1098/1098 [==============================] - 0s 281us/sample - loss: 0.0230\n",
      "Epoch 62/100\n",
      "1098/1098 [==============================] - 0s 260us/sample - loss: 0.0231\n",
      "Epoch 63/100\n",
      "1098/1098 [==============================] - 0s 252us/sample - loss: 0.0233\n",
      "Epoch 64/100\n",
      "1098/1098 [==============================] - 0s 248us/sample - loss: 0.0230\n",
      "Epoch 65/100\n",
      "1098/1098 [==============================] - 0s 241us/sample - loss: 0.0230\n",
      "Epoch 66/100\n",
      "1098/1098 [==============================] - 0s 255us/sample - loss: 0.0231\n",
      "Epoch 67/100\n",
      "1098/1098 [==============================] - 0s 261us/sample - loss: 0.0231\n",
      "Epoch 68/100\n",
      "1098/1098 [==============================] - 0s 251us/sample - loss: 0.0233\n",
      "Epoch 69/100\n",
      "1098/1098 [==============================] - 0s 247us/sample - loss: 0.0230\n",
      "Epoch 70/100\n",
      "1098/1098 [==============================] - 0s 285us/sample - loss: 0.0230\n",
      "Epoch 71/100\n",
      "1098/1098 [==============================] - 0s 259us/sample - loss: 0.0230\n",
      "Epoch 72/100\n",
      "1098/1098 [==============================] - 0s 271us/sample - loss: 0.0230\n",
      "Epoch 73/100\n",
      "1098/1098 [==============================] - 0s 254us/sample - loss: 0.0229\n",
      "Epoch 74/100\n",
      "1098/1098 [==============================] - 0s 253us/sample - loss: 0.0231\n",
      "Epoch 75/100\n",
      "1098/1098 [==============================] - 0s 254us/sample - loss: 0.0229\n",
      "Epoch 76/100\n",
      "1098/1098 [==============================] - 0s 317us/sample - loss: 0.0231\n",
      "Epoch 77/100\n",
      "1098/1098 [==============================] - 0s 330us/sample - loss: 0.0229\n",
      "Epoch 78/100\n",
      "1098/1098 [==============================] - 0s 314us/sample - loss: 0.0230\n",
      "Epoch 79/100\n",
      "1098/1098 [==============================] - 0s 308us/sample - loss: 0.0231\n",
      "Epoch 80/100\n",
      "1098/1098 [==============================] - 0s 284us/sample - loss: 0.0230\n",
      "Epoch 81/100\n",
      "1098/1098 [==============================] - 0s 272us/sample - loss: 0.0230\n",
      "Epoch 82/100\n",
      "1098/1098 [==============================] - 0s 260us/sample - loss: 0.0230\n",
      "Epoch 83/100\n",
      "1098/1098 [==============================] - 0s 259us/sample - loss: 0.0229\n",
      "Epoch 84/100\n",
      "1098/1098 [==============================] - 0s 273us/sample - loss: 0.0229\n",
      "Epoch 85/100\n",
      "1098/1098 [==============================] - 0s 326us/sample - loss: 0.0231\n",
      "Epoch 86/100\n",
      "1098/1098 [==============================] - 0s 291us/sample - loss: 0.0230\n",
      "Epoch 87/100\n",
      "1098/1098 [==============================] - 0s 270us/sample - loss: 0.0229\n",
      "Epoch 88/100\n",
      "1098/1098 [==============================] - 0s 271us/sample - loss: 0.0230\n",
      "Epoch 89/100\n",
      "1098/1098 [==============================] - 0s 283us/sample - loss: 0.0229\n",
      "Epoch 90/100\n",
      "1098/1098 [==============================] - 0s 271us/sample - loss: 0.0229\n",
      "Epoch 91/100\n",
      "1098/1098 [==============================] - 0s 285us/sample - loss: 0.0228\n",
      "Epoch 92/100\n"
     ]
    },
    {
     "name": "stdout",
     "output_type": "stream",
     "text": [
      "1098/1098 [==============================] - 0s 276us/sample - loss: 0.0232\n",
      "Epoch 93/100\n",
      "1098/1098 [==============================] - 0s 268us/sample - loss: 0.0230\n",
      "Epoch 94/100\n",
      "1098/1098 [==============================] - 0s 279us/sample - loss: 0.0229\n",
      "Epoch 95/100\n",
      "1098/1098 [==============================] - 0s 275us/sample - loss: 0.0231\n",
      "Epoch 96/100\n",
      "1098/1098 [==============================] - 0s 269us/sample - loss: 0.0229\n",
      "Epoch 97/100\n",
      "1098/1098 [==============================] - 0s 271us/sample - loss: 0.0228\n",
      "Epoch 98/100\n",
      "1098/1098 [==============================] - 0s 267us/sample - loss: 0.0234\n",
      "Epoch 99/100\n",
      "1098/1098 [==============================] - 0s 262us/sample - loss: 0.0229\n",
      "Epoch 100/100\n",
      "1098/1098 [==============================] - 0s 268us/sample - loss: 0.0230\n"
     ]
    },
    {
     "data": {
      "text/plain": [
       "<tensorflow.python.keras.callbacks.History at 0x28d011fdd88>"
      ]
     },
     "execution_count": 42,
     "metadata": {},
     "output_type": "execute_result"
    }
   ],
   "source": [
    "reg.fit(X_train, y_train, epochs = 100)"
   ]
  },
  {
   "cell_type": "markdown",
   "metadata": {},
   "source": [
    "## TEST"
   ]
  },
  {
   "cell_type": "code",
   "execution_count": 43,
   "metadata": {},
   "outputs": [],
   "source": [
    "data_test = np.array(data_test)"
   ]
  },
  {
   "cell_type": "code",
   "execution_count": 44,
   "metadata": {},
   "outputs": [],
   "source": [
    "X_test, y_test = [], []\n",
    "\n",
    "for i in range(7, len(data_test)-7):\n",
    "    X_test.append(data_test[i-7:i])\n",
    "    y_test.append(data_test[i:i+7])"
   ]
  },
  {
   "cell_type": "code",
   "execution_count": 45,
   "metadata": {},
   "outputs": [],
   "source": [
    "\n",
    "X_test, y_test = np.array(X_test), np.array(y_test)"
   ]
  },
  {
   "cell_type": "code",
   "execution_count": 46,
   "metadata": {},
   "outputs": [],
   "source": [
    "X_test = x_scaler.transform(X_test)\n",
    "y_test = y_scaler.transform(y_test)"
   ]
  },
  {
   "cell_type": "code",
   "execution_count": 47,
   "metadata": {},
   "outputs": [],
   "source": [
    "X_test = X_test.reshape(331,7,1)"
   ]
  },
  {
   "cell_type": "code",
   "execution_count": 48,
   "metadata": {},
   "outputs": [],
   "source": [
    "y_pred = reg.predict(X_test)"
   ]
  },
  {
   "cell_type": "code",
   "execution_count": 49,
   "metadata": {},
   "outputs": [],
   "source": [
    "y_pred = y_scaler.inverse_transform(y_pred)"
   ]
  },
  {
   "cell_type": "code",
   "execution_count": 50,
   "metadata": {},
   "outputs": [
    {
     "data": {
      "text/plain": [
       "array([[1404.5343 , 1408.0128 , 1468.2506 , ..., 1541.1553 , 1510.3818 ,\n",
       "        1481.7954 ],\n",
       "       [1057.0338 , 1191.8494 , 1325.114  , ..., 1459.3998 , 1440.8486 ,\n",
       "        1420.4543 ],\n",
       "       [1430.7891 , 1393.8259 , 1453.4998 , ..., 1473.2003 , 1436.5037 ,\n",
       "        1415.1616 ],\n",
       "       ...,\n",
       "       [1274.3502 , 1044.4283 , 1055.2831 , ..., 1000.92175, 1003.24054,\n",
       "         956.94305],\n",
       "       [1654.1782 , 1396.8729 , 1242.709  , ..., 1178.6206 , 1142.1666 ,\n",
       "        1131.79   ],\n",
       "       [1624.2018 , 1388.6733 , 1222.6599 , ..., 1228.025  , 1220.4954 ,\n",
       "        1234.009  ]], dtype=float32)"
      ]
     },
     "execution_count": 50,
     "metadata": {},
     "output_type": "execute_result"
    }
   ],
   "source": [
    "y_pred"
   ]
  },
  {
   "cell_type": "code",
   "execution_count": 51,
   "metadata": {},
   "outputs": [],
   "source": [
    "y_true = y_scaler.inverse_transform(y_test)"
   ]
  },
  {
   "cell_type": "code",
   "execution_count": 52,
   "metadata": {},
   "outputs": [
    {
     "data": {
      "text/plain": [
       "array([[ 555.664, 1593.318, 1504.82 , ...,    0.   , 1995.796, 2116.224],\n",
       "       [1593.318, 1504.82 , 1383.18 , ..., 1995.796, 2116.224, 2196.76 ],\n",
       "       [1504.82 , 1383.18 ,    0.   , ..., 2116.224, 2196.76 , 2150.112],\n",
       "       ...,\n",
       "       [1892.998, 1645.424, 1439.426, ..., 1973.382, 1109.574,  529.698],\n",
       "       [1645.424, 1439.426, 2035.418, ..., 1109.574,  529.698, 1612.092],\n",
       "       [1439.426, 2035.418, 1973.382, ...,  529.698, 1612.092, 1579.692]])"
      ]
     },
     "execution_count": 52,
     "metadata": {},
     "output_type": "execute_result"
    }
   ],
   "source": [
    "y_true"
   ]
  },
  {
   "cell_type": "markdown",
   "metadata": {},
   "source": [
    "## Evaluate"
   ]
  },
  {
   "cell_type": "code",
   "execution_count": 53,
   "metadata": {},
   "outputs": [],
   "source": [
    "def evaluate_model(y_true, y_predicted):\n",
    "    scores = []\n",
    "    \n",
    "    #calculate scores for each day\n",
    "    for i in range(y_true.shape[1]):\n",
    "        mse = mean_squared_error(y_true[:, i], y_predicted[:, i])\n",
    "        rmse = np.sqrt(mse)\n",
    "        scores.append(rmse)\n",
    "    \n",
    "    #calculate score for whole prediction\n",
    "    total_score = 0\n",
    "    for row in range(y_true.shape[0]):\n",
    "        for col in range(y_predicted.shape[1]):\n",
    "            total_score = total_score + (y_true[row, col] - y_predicted[row, col])**2\n",
    "    total_score = np.sqrt(total_score/(y_true.shape[0]*y_predicted.shape[1]))\n",
    "    \n",
    "    return total_score, scores"
   ]
  },
  {
   "cell_type": "code",
   "execution_count": 54,
   "metadata": {},
   "outputs": [
    {
     "data": {
      "text/plain": [
       "(574.9018350292386,\n",
       " [576.8782722778151,\n",
       "  586.3945946580905,\n",
       "  572.3024810223732,\n",
       "  565.9585568555709,\n",
       "  579.9201354085528,\n",
       "  573.1224599518497,\n",
       "  569.4925305511084])"
      ]
     },
     "execution_count": 54,
     "metadata": {},
     "output_type": "execute_result"
    }
   ],
   "source": [
    "\n",
    "evaluate_model(y_true, y_pred)"
   ]
  },
  {
   "cell_type": "code",
   "execution_count": 55,
   "metadata": {},
   "outputs": [
    {
     "data": {
      "text/plain": [
       "710.0253857243853"
      ]
     },
     "execution_count": 55,
     "metadata": {},
     "output_type": "execute_result"
    }
   ],
   "source": [
    "np.std(y_true[0])"
   ]
  },
  {
   "cell_type": "code",
   "execution_count": null,
   "metadata": {},
   "outputs": [],
   "source": []
  }
 ],
 "metadata": {
  "kernelspec": {
   "display_name": "Python 3",
   "language": "python",
   "name": "python3"
  },
  "language_info": {
   "codemirror_mode": {
    "name": "ipython",
    "version": 3
   },
   "file_extension": ".py",
   "mimetype": "text/x-python",
   "name": "python",
   "nbconvert_exporter": "python",
   "pygments_lexer": "ipython3",
   "version": "3.7.5"
  }
 },
 "nbformat": 4,
 "nbformat_minor": 2
}
